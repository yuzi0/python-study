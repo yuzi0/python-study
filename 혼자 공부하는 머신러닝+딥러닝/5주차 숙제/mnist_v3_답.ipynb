{
 "cells": [
  {
   "cell_type": "code",
   "execution_count": 1,
   "metadata": {
    "colab": {},
    "colab_type": "code",
    "id": "a1nMq0wCsJEV"
   },
   "outputs": [],
   "source": [
    "import tensorflow as tf\n",
    "import numpy as np\n",
    "from tensorflow import keras"
   ]
  },
  {
   "cell_type": "markdown",
   "metadata": {
    "colab_type": "text",
    "id": "Aamnwp4nlXMz"
   },
   "source": [
    "### MNIST 데이터셋 로딩\n",
    "트레인셋 60,000개 테스트셋 10,000개로 분리\n",
    "레이블은 자동으로 one-hot 엔코딩 처리됨"
   ]
  },
  {
   "cell_type": "code",
   "execution_count": 2,
   "metadata": {
    "colab": {},
    "colab_type": "code",
    "id": "8sAClF8AlJq5"
   },
   "outputs": [],
   "source": [
    "mnist = keras.datasets.mnist\n",
    "(X_train, Y_train), (X_test, Y_test) = mnist.load_data()"
   ]
  },
  {
   "cell_type": "markdown",
   "metadata": {
    "colab_type": "text",
    "id": "dMLenUNhMbae"
   },
   "source": [
    "X_train 데이터는 28x28 이미지 데이터가 60000개 있음 <br/>\n",
    "데이터를 1차원 벡터로 변환 (60000, 784)"
   ]
  },
  {
   "cell_type": "code",
   "execution_count": 3,
   "metadata": {
    "colab": {},
    "colab_type": "code",
    "id": "Iw-08CXlogz7"
   },
   "outputs": [],
   "source": [
    "X_train = X_train.reshape(60000, 28*28)"
   ]
  },
  {
   "cell_type": "code",
   "execution_count": 4,
   "metadata": {},
   "outputs": [
    {
     "data": {
      "text/plain": [
       "dtype('uint8')"
      ]
     },
     "execution_count": 4,
     "metadata": {},
     "output_type": "execute_result"
    }
   ],
   "source": [
    "X_train.dtype"
   ]
  },
  {
   "cell_type": "code",
   "execution_count": 5,
   "metadata": {
    "colab": {},
    "colab_type": "code",
    "id": "ZL6sgA-ColAX"
   },
   "outputs": [
    {
     "data": {
      "text/plain": [
       "(60000, 784)"
      ]
     },
     "execution_count": 5,
     "metadata": {},
     "output_type": "execute_result"
    }
   ],
   "source": [
    "X_train.shape"
   ]
  },
  {
   "cell_type": "code",
   "execution_count": 6,
   "metadata": {
    "colab": {},
    "colab_type": "code",
    "id": "hWuHFGZBqSQt"
   },
   "outputs": [
    {
     "data": {
      "text/plain": [
       "(10000, 784)"
      ]
     },
     "execution_count": 6,
     "metadata": {},
     "output_type": "execute_result"
    }
   ],
   "source": [
    "X_test = X_test.reshape(10000, 28*28)\n",
    "X_test.shape"
   ]
  },
  {
   "cell_type": "code",
   "execution_count": 7,
   "metadata": {
    "colab": {},
    "colab_type": "code",
    "id": "vT-dErfCNRWP"
   },
   "outputs": [
    {
     "data": {
      "text/plain": [
       "dtype('float32')"
      ]
     },
     "execution_count": 7,
     "metadata": {},
     "output_type": "execute_result"
    }
   ],
   "source": [
    "X_train = X_train.astype('float32')\n",
    "X_train.dtype"
   ]
  },
  {
   "cell_type": "code",
   "execution_count": 8,
   "metadata": {
    "colab": {},
    "colab_type": "code",
    "id": "pGbB2fLKNsF6"
   },
   "outputs": [
    {
     "data": {
      "text/plain": [
       "dtype('float32')"
      ]
     },
     "execution_count": 8,
     "metadata": {},
     "output_type": "execute_result"
    }
   ],
   "source": [
    "X_test = X_test.astype('float32')\n",
    "X_test.dtype"
   ]
  },
  {
   "cell_type": "code",
   "execution_count": 9,
   "metadata": {
    "colab": {},
    "colab_type": "code",
    "id": "TIqSE66MOBCk"
   },
   "outputs": [
    {
     "data": {
      "text/plain": [
       "array([[0., 0., 0., ..., 0., 0., 0.],\n",
       "       [0., 0., 0., ..., 0., 0., 0.],\n",
       "       [0., 0., 0., ..., 0., 0., 0.],\n",
       "       ...,\n",
       "       [0., 0., 0., ..., 0., 0., 0.],\n",
       "       [0., 0., 0., ..., 0., 0., 0.],\n",
       "       [0., 0., 0., ..., 0., 0., 0.]], dtype=float32)"
      ]
     },
     "execution_count": 9,
     "metadata": {},
     "output_type": "execute_result"
    }
   ],
   "source": [
    "X_train"
   ]
  },
  {
   "cell_type": "code",
   "execution_count": 10,
   "metadata": {
    "colab": {},
    "colab_type": "code",
    "id": "YPngpeclOLIC"
   },
   "outputs": [],
   "source": [
    "# [0, 1] 사이의 값으로 정규화 (Normalization)\n",
    "X_train /= 256\n",
    "X_test /= 256"
   ]
  },
  {
   "cell_type": "code",
   "execution_count": 11,
   "metadata": {
    "colab": {},
    "colab_type": "code",
    "id": "jYb-oEWkOdhL"
   },
   "outputs": [],
   "source": [
    "# One-hot encoding\n",
    "Y_train = tf.keras.utils.to_categorical(Y_train, 10)\n",
    "Y_test = tf.keras.utils.to_categorical(Y_test, 10)"
   ]
  },
  {
   "cell_type": "markdown",
   "metadata": {
    "colab_type": "text",
    "id": "pYNSc12zRwF0"
   },
   "source": [
    "### 모델 만들기\n",
    "입력층과 출력층 두 개의 층을 가진 네트워크 (v1)<br/>\n",
    "입력층 - 히든층 - 히든층 - 출력층 (v2)<br/>\n",
    "입력층 - 히든층 - Dropout - 히든층 - Dropout - 출력층 (v3)<br/>\n"
   ]
  },
  {
   "cell_type": "code",
   "execution_count": 12,
   "metadata": {
    "colab": {},
    "colab_type": "code",
    "id": "lMCGe4euR1Yq"
   },
   "outputs": [],
   "source": [
    "model = tf.keras.models.Sequential()\n",
    "model.add(keras.layers.Dense(128, input_shape=(28*28,), activation='relu'))\n",
    "model.add(keras.layers.Dropout(0.3))\n",
    "model.add(keras.layers.Dense(128, activation='relu'))\n",
    "model.add(keras.layers.Dropout(0.3))\n",
    "model.add(keras.layers.Dense(10, activation='softmax'))"
   ]
  },
  {
   "cell_type": "code",
   "execution_count": 13,
   "metadata": {
    "colab": {},
    "colab_type": "code",
    "id": "cx0y7_3sqXHA"
   },
   "outputs": [
    {
     "name": "stdout",
     "output_type": "stream",
     "text": [
      "Model: \"sequential\"\n",
      "_________________________________________________________________\n",
      " Layer (type)                Output Shape              Param #   \n",
      "=================================================================\n",
      " dense (Dense)               (None, 128)               100480    \n",
      "                                                                 \n",
      " dropout (Dropout)           (None, 128)               0         \n",
      "                                                                 \n",
      " dense_1 (Dense)             (None, 128)               16512     \n",
      "                                                                 \n",
      " dropout_1 (Dropout)         (None, 128)               0         \n",
      "                                                                 \n",
      " dense_2 (Dense)             (None, 10)                1290      \n",
      "                                                                 \n",
      "=================================================================\n",
      "Total params: 118,282\n",
      "Trainable params: 118,282\n",
      "Non-trainable params: 0\n",
      "_________________________________________________________________\n"
     ]
    }
   ],
   "source": [
    "# 모델 요약보기\n",
    "model.summary()"
   ]
  },
  {
   "cell_type": "code",
   "execution_count": 14,
   "metadata": {
    "colab": {},
    "colab_type": "code",
    "id": "AO_7ia3pUOGh"
   },
   "outputs": [],
   "source": [
    "# 모델 컴파일\n",
    "model.compile(optimizer='SGD', loss='categorical_crossentropy', metrics=['accuracy'])"
   ]
  },
  {
   "cell_type": "code",
   "execution_count": 15,
   "metadata": {
    "colab": {},
    "colab_type": "code",
    "id": "HMh2ZUkEUPfu"
   },
   "outputs": [
    {
     "name": "stdout",
     "output_type": "stream",
     "text": [
      "Epoch 1/50\n",
      "375/375 [==============================] - 2s 3ms/step - loss: 1.6787 - accuracy: 0.4745 - val_loss: 0.8718 - val_accuracy: 0.8083\n",
      "Epoch 2/50\n",
      "375/375 [==============================] - 1s 2ms/step - loss: 0.8983 - accuracy: 0.7265 - val_loss: 0.5237 - val_accuracy: 0.8669\n",
      "Epoch 3/50\n",
      "375/375 [==============================] - 1s 2ms/step - loss: 0.6815 - accuracy: 0.7915 - val_loss: 0.4166 - val_accuracy: 0.8917\n",
      "Epoch 4/50\n",
      "375/375 [==============================] - 1s 2ms/step - loss: 0.5785 - accuracy: 0.8269 - val_loss: 0.3645 - val_accuracy: 0.9012\n",
      "Epoch 5/50\n",
      "375/375 [==============================] - 1s 3ms/step - loss: 0.5182 - accuracy: 0.8453 - val_loss: 0.3333 - val_accuracy: 0.9078\n",
      "Epoch 6/50\n",
      "375/375 [==============================] - 1s 2ms/step - loss: 0.4776 - accuracy: 0.8587 - val_loss: 0.3082 - val_accuracy: 0.9133\n",
      "Epoch 7/50\n",
      "375/375 [==============================] - 1s 2ms/step - loss: 0.4442 - accuracy: 0.8699 - val_loss: 0.2909 - val_accuracy: 0.9171\n",
      "Epoch 8/50\n",
      "375/375 [==============================] - 1s 2ms/step - loss: 0.4168 - accuracy: 0.8772 - val_loss: 0.2743 - val_accuracy: 0.9223\n",
      "Epoch 9/50\n",
      "375/375 [==============================] - 1s 2ms/step - loss: 0.3953 - accuracy: 0.8839 - val_loss: 0.2627 - val_accuracy: 0.9258\n",
      "Epoch 10/50\n",
      "375/375 [==============================] - 1s 2ms/step - loss: 0.3776 - accuracy: 0.8904 - val_loss: 0.2522 - val_accuracy: 0.9277\n",
      "Epoch 11/50\n",
      "375/375 [==============================] - 1s 2ms/step - loss: 0.3658 - accuracy: 0.8929 - val_loss: 0.2436 - val_accuracy: 0.9296\n",
      "Epoch 12/50\n",
      "375/375 [==============================] - 1s 2ms/step - loss: 0.3477 - accuracy: 0.8974 - val_loss: 0.2348 - val_accuracy: 0.9325\n",
      "Epoch 13/50\n",
      "375/375 [==============================] - 1s 2ms/step - loss: 0.3382 - accuracy: 0.9008 - val_loss: 0.2268 - val_accuracy: 0.9339\n",
      "Epoch 14/50\n",
      "375/375 [==============================] - 1s 2ms/step - loss: 0.3297 - accuracy: 0.9042 - val_loss: 0.2206 - val_accuracy: 0.9358\n",
      "Epoch 15/50\n",
      "375/375 [==============================] - 1s 2ms/step - loss: 0.3168 - accuracy: 0.9078 - val_loss: 0.2154 - val_accuracy: 0.9369\n",
      "Epoch 16/50\n",
      "375/375 [==============================] - 1s 3ms/step - loss: 0.3103 - accuracy: 0.9107 - val_loss: 0.2096 - val_accuracy: 0.9384\n",
      "Epoch 17/50\n",
      "375/375 [==============================] - 1s 2ms/step - loss: 0.3007 - accuracy: 0.9117 - val_loss: 0.2043 - val_accuracy: 0.9398\n",
      "Epoch 18/50\n",
      "375/375 [==============================] - 1s 2ms/step - loss: 0.2916 - accuracy: 0.9148 - val_loss: 0.1998 - val_accuracy: 0.9421\n",
      "Epoch 19/50\n",
      "375/375 [==============================] - 1s 2ms/step - loss: 0.2846 - accuracy: 0.9161 - val_loss: 0.1944 - val_accuracy: 0.9433\n",
      "Epoch 20/50\n",
      "375/375 [==============================] - 1s 2ms/step - loss: 0.2813 - accuracy: 0.9182 - val_loss: 0.1903 - val_accuracy: 0.9453\n",
      "Epoch 21/50\n",
      "375/375 [==============================] - 1s 2ms/step - loss: 0.2731 - accuracy: 0.9206 - val_loss: 0.1872 - val_accuracy: 0.9459\n",
      "Epoch 22/50\n",
      "375/375 [==============================] - 1s 3ms/step - loss: 0.2687 - accuracy: 0.9214 - val_loss: 0.1822 - val_accuracy: 0.9477\n",
      "Epoch 23/50\n",
      "375/375 [==============================] - 1s 3ms/step - loss: 0.2607 - accuracy: 0.9240 - val_loss: 0.1785 - val_accuracy: 0.9496\n",
      "Epoch 24/50\n",
      "375/375 [==============================] - 1s 2ms/step - loss: 0.2559 - accuracy: 0.9252 - val_loss: 0.1757 - val_accuracy: 0.9498\n",
      "Epoch 25/50\n",
      "375/375 [==============================] - 1s 2ms/step - loss: 0.2510 - accuracy: 0.9265 - val_loss: 0.1720 - val_accuracy: 0.9508\n",
      "Epoch 26/50\n",
      "375/375 [==============================] - 1s 2ms/step - loss: 0.2440 - accuracy: 0.9284 - val_loss: 0.1684 - val_accuracy: 0.9521\n",
      "Epoch 27/50\n",
      "375/375 [==============================] - 1s 2ms/step - loss: 0.2421 - accuracy: 0.9287 - val_loss: 0.1662 - val_accuracy: 0.9517\n",
      "Epoch 28/50\n",
      "375/375 [==============================] - 1s 2ms/step - loss: 0.2371 - accuracy: 0.9311 - val_loss: 0.1631 - val_accuracy: 0.9538\n",
      "Epoch 29/50\n",
      "375/375 [==============================] - 1s 2ms/step - loss: 0.2321 - accuracy: 0.9319 - val_loss: 0.1616 - val_accuracy: 0.9529\n",
      "Epoch 30/50\n",
      "375/375 [==============================] - 1s 2ms/step - loss: 0.2282 - accuracy: 0.9327 - val_loss: 0.1583 - val_accuracy: 0.9546\n",
      "Epoch 31/50\n",
      "375/375 [==============================] - 1s 2ms/step - loss: 0.2266 - accuracy: 0.9337 - val_loss: 0.1558 - val_accuracy: 0.9543\n",
      "Epoch 32/50\n",
      "375/375 [==============================] - 1s 2ms/step - loss: 0.2214 - accuracy: 0.9347 - val_loss: 0.1536 - val_accuracy: 0.9551\n",
      "Epoch 33/50\n",
      "375/375 [==============================] - 1s 2ms/step - loss: 0.2200 - accuracy: 0.9348 - val_loss: 0.1517 - val_accuracy: 0.9557\n",
      "Epoch 34/50\n",
      "375/375 [==============================] - 1s 2ms/step - loss: 0.2145 - accuracy: 0.9365 - val_loss: 0.1493 - val_accuracy: 0.9567\n",
      "Epoch 35/50\n",
      "375/375 [==============================] - 1s 2ms/step - loss: 0.2111 - accuracy: 0.9383 - val_loss: 0.1472 - val_accuracy: 0.9569\n",
      "Epoch 36/50\n",
      "375/375 [==============================] - 1s 2ms/step - loss: 0.2077 - accuracy: 0.9396 - val_loss: 0.1453 - val_accuracy: 0.9575\n",
      "Epoch 37/50\n",
      "375/375 [==============================] - 1s 2ms/step - loss: 0.2058 - accuracy: 0.9399 - val_loss: 0.1437 - val_accuracy: 0.9572\n",
      "Epoch 38/50\n",
      "375/375 [==============================] - 1s 3ms/step - loss: 0.2023 - accuracy: 0.9403 - val_loss: 0.1413 - val_accuracy: 0.9588\n",
      "Epoch 39/50\n",
      "375/375 [==============================] - 1s 3ms/step - loss: 0.2031 - accuracy: 0.9405 - val_loss: 0.1393 - val_accuracy: 0.9592\n",
      "Epoch 40/50\n",
      "375/375 [==============================] - 1s 2ms/step - loss: 0.2001 - accuracy: 0.9412 - val_loss: 0.1383 - val_accuracy: 0.9597\n",
      "Epoch 41/50\n",
      "375/375 [==============================] - 1s 3ms/step - loss: 0.1961 - accuracy: 0.9418 - val_loss: 0.1365 - val_accuracy: 0.9602\n",
      "Epoch 42/50\n",
      "375/375 [==============================] - 1s 4ms/step - loss: 0.1902 - accuracy: 0.9431 - val_loss: 0.1355 - val_accuracy: 0.9608\n",
      "Epoch 43/50\n",
      "375/375 [==============================] - 1s 3ms/step - loss: 0.1935 - accuracy: 0.9448 - val_loss: 0.1327 - val_accuracy: 0.9613\n",
      "Epoch 44/50\n",
      "375/375 [==============================] - 2s 4ms/step - loss: 0.1880 - accuracy: 0.9457 - val_loss: 0.1318 - val_accuracy: 0.9613\n",
      "Epoch 45/50\n",
      "375/375 [==============================] - 1s 3ms/step - loss: 0.1861 - accuracy: 0.9452 - val_loss: 0.1295 - val_accuracy: 0.9628\n",
      "Epoch 46/50\n",
      "375/375 [==============================] - 1s 3ms/step - loss: 0.1833 - accuracy: 0.9457 - val_loss: 0.1290 - val_accuracy: 0.9621\n",
      "Epoch 47/50\n",
      "375/375 [==============================] - 1s 3ms/step - loss: 0.1836 - accuracy: 0.9467 - val_loss: 0.1274 - val_accuracy: 0.9628\n",
      "Epoch 48/50\n",
      "375/375 [==============================] - 2s 5ms/step - loss: 0.1788 - accuracy: 0.9479 - val_loss: 0.1266 - val_accuracy: 0.9629\n",
      "Epoch 49/50\n",
      "375/375 [==============================] - 1s 3ms/step - loss: 0.1758 - accuracy: 0.9488 - val_loss: 0.1244 - val_accuracy: 0.9638\n",
      "Epoch 50/50\n",
      "375/375 [==============================] - 1s 2ms/step - loss: 0.1739 - accuracy: 0.9485 - val_loss: 0.1233 - val_accuracy: 0.9639\n"
     ]
    },
    {
     "data": {
      "text/plain": [
       "<keras.callbacks.History at 0x1ca85432460>"
      ]
     },
     "execution_count": 15,
     "metadata": {},
     "output_type": "execute_result"
    }
   ],
   "source": [
    "# 모델 학습 시키기\n",
    "model.fit(X_train, Y_train, batch_size=128, epochs=50, \n",
    "          verbose=True, validation_split=0.2)"
   ]
  },
  {
   "cell_type": "code",
   "execution_count": 16,
   "metadata": {
    "colab": {},
    "colab_type": "code",
    "id": "hOsPT3Bjcaa9"
   },
   "outputs": [
    {
     "name": "stdout",
     "output_type": "stream",
     "text": [
      "313/313 [==============================] - 0s 1ms/step - loss: 0.1222 - accuracy: 0.9624\n",
      "정확도:  0.9624000191688538  오차:  0.12217109650373459\n"
     ]
    }
   ],
   "source": [
    "# 모델 평가\n",
    "test_loss, test_acc = model.evaluate(X_test, Y_test)\n",
    "print('정확도: ', test_acc, ' 오차: ', test_loss)"
   ]
  },
  {
   "cell_type": "code",
   "execution_count": 17,
   "metadata": {
    "colab": {},
    "colab_type": "code",
    "id": "FXOi6MoSps3r"
   },
   "outputs": [],
   "source": [
    "# 예측 수행\n",
    "predictions = model.predict(X_test)"
   ]
  },
  {
   "cell_type": "code",
   "execution_count": null,
   "metadata": {
    "colab": {},
    "colab_type": "code",
    "id": "ryOhrp53qNP7"
   },
   "outputs": [],
   "source": []
  }
 ],
 "metadata": {
  "accelerator": "TPU",
  "colab": {
   "authorship_tag": "ABX9TyM6OyQlQKtyGRlNg9gl/qIy",
   "name": "mnist_v3.ipynb",
   "private_outputs": true,
   "provenance": [
    {
     "file_id": "1lJeL5-i88S0IRmOXjrZ3iX4JxI6TpOcC",
     "timestamp": 1586065790528
    },
    {
     "file_id": "1yD4TS5pfjwwC8xN3vkpLL2bfwRHcM6FJ",
     "timestamp": 1586062679415
    }
   ]
  },
  "kernelspec": {
   "display_name": "machine",
   "language": "python",
   "name": "machine"
  },
  "language_info": {
   "codemirror_mode": {
    "name": "ipython",
    "version": 3
   },
   "file_extension": ".py",
   "mimetype": "text/x-python",
   "name": "python",
   "nbconvert_exporter": "python",
   "pygments_lexer": "ipython3",
   "version": "3.9.7"
  }
 },
 "nbformat": 4,
 "nbformat_minor": 4
}
