{
 "cells": [
  {
   "cell_type": "markdown",
   "metadata": {
    "id": "rOafwFRXG7fb"
   },
   "source": [
    "# 교차 검증과 그리드 서치"
   ]
  },
  {
   "cell_type": "markdown",
   "metadata": {},
   "source": [
    "## 과대적합 vs 과소적합\n",
    "* 훈련세트의 점수는 좋은데 테스트세트의 점수가 나쁘면 모델이 훈련세트에 과대적합(overfitting) 되었다고 하고\n",
    "    - 훈련세트에만 잘 맞는 모델이라 테스트 세트에 대한 예측을 만들었을 때 잘 동작하지 않는 현상\n",
    "* 훈련세트보다 테스트세트의 점수가 높거나, 두 점수가 너무 낮은 경우는 모델이 훈련세트에 과소적합(underfitting) 되었다고 한다.\n",
    "    - 모델이 너무 단순하여 훈련세트에 적절히 훈련되지 않는 현상"
   ]
  },
  {
   "cell_type": "markdown",
   "metadata": {
    "id": "dVNF7yZjyvoO"
   },
   "source": [
    "## 검증 세트\n",
    "* 테스트 세트를 사용하지 않으면 모델이 과대적합인지 과소적합인지 판단하기 어렵다\n",
    "* 테스트 세트를 사용하지 않고 측정하는 방법은 훈련세트를 다시 나누면 된다. 이 데이터를 검증세트(validation set) 라고 한다\n",
    "* 훈련세트의 모델로 학습을 하고, 검증세트로 모델을 평가한다 \n",
    "    - 테스트 하고 싶은 매개변수를 바꾸면서 가장 좋은 모델을 찾는다\n",
    "    - 찾은 매개변수를 사용해 훈련세트와 검증세트를 합쳐 전체 훈련데이터에서 모델을 다시 학습을 합니다.\n",
    "    - 마지막에 테스트 세트에서 최종 점수를 평가한다"
   ]
  },
  {
   "cell_type": "code",
   "execution_count": 1,
   "metadata": {
    "id": "banlvMA6RfnM"
   },
   "outputs": [
    {
     "name": "stdout",
     "output_type": "stream",
     "text": [
      "(6497, 4)\n"
     ]
    },
    {
     "data": {
      "text/html": [
       "<div>\n",
       "<style scoped>\n",
       "    .dataframe tbody tr th:only-of-type {\n",
       "        vertical-align: middle;\n",
       "    }\n",
       "\n",
       "    .dataframe tbody tr th {\n",
       "        vertical-align: top;\n",
       "    }\n",
       "\n",
       "    .dataframe thead th {\n",
       "        text-align: right;\n",
       "    }\n",
       "</style>\n",
       "<table border=\"1\" class=\"dataframe\">\n",
       "  <thead>\n",
       "    <tr style=\"text-align: right;\">\n",
       "      <th></th>\n",
       "      <th>alcohol</th>\n",
       "      <th>sugar</th>\n",
       "      <th>pH</th>\n",
       "      <th>class</th>\n",
       "    </tr>\n",
       "  </thead>\n",
       "  <tbody>\n",
       "    <tr>\n",
       "      <th>0</th>\n",
       "      <td>9.4</td>\n",
       "      <td>1.9</td>\n",
       "      <td>3.51</td>\n",
       "      <td>0.0</td>\n",
       "    </tr>\n",
       "    <tr>\n",
       "      <th>1</th>\n",
       "      <td>9.8</td>\n",
       "      <td>2.6</td>\n",
       "      <td>3.20</td>\n",
       "      <td>0.0</td>\n",
       "    </tr>\n",
       "    <tr>\n",
       "      <th>2</th>\n",
       "      <td>9.8</td>\n",
       "      <td>2.3</td>\n",
       "      <td>3.26</td>\n",
       "      <td>0.0</td>\n",
       "    </tr>\n",
       "    <tr>\n",
       "      <th>3</th>\n",
       "      <td>9.8</td>\n",
       "      <td>1.9</td>\n",
       "      <td>3.16</td>\n",
       "      <td>0.0</td>\n",
       "    </tr>\n",
       "    <tr>\n",
       "      <th>4</th>\n",
       "      <td>9.4</td>\n",
       "      <td>1.9</td>\n",
       "      <td>3.51</td>\n",
       "      <td>0.0</td>\n",
       "    </tr>\n",
       "  </tbody>\n",
       "</table>\n",
       "</div>"
      ],
      "text/plain": [
       "   alcohol  sugar    pH  class\n",
       "0      9.4    1.9  3.51    0.0\n",
       "1      9.8    2.6  3.20    0.0\n",
       "2      9.8    2.3  3.26    0.0\n",
       "3      9.8    1.9  3.16    0.0\n",
       "4      9.4    1.9  3.51    0.0"
      ]
     },
     "execution_count": 1,
     "metadata": {},
     "output_type": "execute_result"
    }
   ],
   "source": [
    "import pandas as pd\n",
    "\n",
    "wine = pd.read_csv('wine.csv')\n",
    "print(wine.shape)\n",
    "wine.head()"
   ]
  },
  {
   "cell_type": "code",
   "execution_count": 2,
   "metadata": {
    "id": "abR6QA7qRoKl"
   },
   "outputs": [
    {
     "name": "stdout",
     "output_type": "stream",
     "text": [
      "<class 'numpy.ndarray'> (6497, 3)\n",
      "<class 'numpy.ndarray'> (6497,)\n"
     ]
    }
   ],
   "source": [
    "#독립변수\n",
    "data = wine[['alcohol', 'sugar', 'pH']].to_numpy()\n",
    "print(type(data), data.shape)\n",
    "#종속변수\n",
    "target = wine['class'].to_numpy()\n",
    "print(type(target), target.shape)"
   ]
  },
  {
   "cell_type": "code",
   "execution_count": 3,
   "metadata": {
    "id": "auLnVXyMRoeb"
   },
   "outputs": [
    {
     "name": "stdout",
     "output_type": "stream",
     "text": [
      "(5197, 3) (5197,)\n",
      "(1300, 3) (1300,)\n"
     ]
    }
   ],
   "source": [
    "from sklearn.model_selection import train_test_split\n",
    "\n",
    "X_train, X_test, y_train, y_test = train_test_split(\n",
    "    data, target, test_size=0.2, random_state=42)\n",
    "\n",
    "print(X_train.shape, y_train.shape)\n",
    "print(X_test.shape, y_test.shape)"
   ]
  },
  {
   "cell_type": "markdown",
   "metadata": {},
   "source": [
    "* 훈련세트 데이터를 훈련세트와 검증세트로 분할한다\n",
    "* 훈련세트 \n",
    "    - 독립변수 : sub_input\n",
    "    - 종속변수 : sub_target\n",
    "* 검증세트\n",
    "    - 독립변수 : val_input\n",
    "    - 종속변수 : val_target"
   ]
  },
  {
   "cell_type": "code",
   "execution_count": 8,
   "metadata": {
    "id": "E-yV4cCXRqNK"
   },
   "outputs": [],
   "source": [
    "sub_input, val_input, sub_target, val_target = train_test_split(X_train, y_train, test_size=0.2, random_state=42)"
   ]
  },
  {
   "cell_type": "code",
   "execution_count": 9,
   "metadata": {
    "colab": {
     "base_uri": "https://localhost:8080/"
    },
    "id": "k29hKbw4R7Ki",
    "outputId": "87ccf731-e87c-42d4-b12c-419aa55e7221"
   },
   "outputs": [
    {
     "name": "stdout",
     "output_type": "stream",
     "text": [
      "(4157, 3) (4157,)\n",
      "(1040, 3) (1040,)\n"
     ]
    }
   ],
   "source": [
    "print(sub_input.shape, sub_target.shape)\n",
    "print(val_input.shape, val_target.shape)"
   ]
  },
  {
   "cell_type": "code",
   "execution_count": 11,
   "metadata": {
    "colab": {
     "base_uri": "https://localhost:8080/"
    },
    "id": "4VQz-UZ2SeLq",
    "outputId": "d1c896a3-eab5-4437-961e-194b04397f78"
   },
   "outputs": [
    {
     "name": "stdout",
     "output_type": "stream",
     "text": [
      "0.9971133028626413\n",
      "0.864423076923077\n"
     ]
    }
   ],
   "source": [
    "from sklearn.tree import DecisionTreeClassifier\n",
    "\n",
    "model = DecisionTreeClassifier(random_state=42)\n",
    "#학습\n",
    "model.fit(sub_input, sub_target)\n",
    "\n",
    "#훈련세트에 과대적합(overfitting) 되어 있음\n",
    "print(model.score(sub_input, sub_target))\n",
    "print(model.score(val_input, val_target))"
   ]
  },
  {
   "cell_type": "markdown",
   "metadata": {
    "id": "Z4gRXnK6y2Pt"
   },
   "source": [
    "## 교차 검증\n",
    "* 교차검증(cross validation)은 검증세트를 떼어 내고 평가하는 과정을 여러번 반복한다\n",
    "* 훈련세트를 세 부분으로 나누어서 교차 검증을 수행하는 것을 3-폴드 교차 검증이라고 한다\n",
    "    - k-폴드 교차검증(k-Fold cross validation)이라고 한다\n",
    "* fit_time과 score_time은 모델을 훈련하는 시간과 검증시간을 의미한다\n",
    "* cross_validate()는 5-폴드 교차 검증을 수행한다"
   ]
  },
  {
   "cell_type": "code",
   "execution_count": 12,
   "metadata": {
    "colab": {
     "base_uri": "https://localhost:8080/"
    },
    "id": "_J3LId-vSmNH",
    "outputId": "e240b691-821a-4e62-90fa-b329ad8f0821"
   },
   "outputs": [
    {
     "name": "stdout",
     "output_type": "stream",
     "text": [
      "{'fit_time': array([0.00399756, 0.00762701, 0.0065167 , 0.00358701, 0.00585103]), 'score_time': array([0.        , 0.00066924, 0.00050092, 0.00102019, 0.00078893]), 'test_score': array([0.86923077, 0.84615385, 0.87680462, 0.84889317, 0.83541867])}\n"
     ]
    }
   ],
   "source": [
    "from sklearn.tree import DecisionTreeClassifier\n",
    "from sklearn.model_selection import cross_validate\n",
    "\n",
    "model = DecisionTreeClassifier(random_state=42)\n",
    "scores = cross_validate(model, X_train, y_train)\n",
    "print(scores)"
   ]
  },
  {
   "cell_type": "markdown",
   "metadata": {},
   "source": [
    "* 교차검증의 최종 점수는 test_score에 담긴 5개 점수의 평균하면 알 수 있다\n",
    "* test_score이지만 검증 폴드의 점수이다"
   ]
  },
  {
   "cell_type": "code",
   "execution_count": 13,
   "metadata": {
    "colab": {
     "base_uri": "https://localhost:8080/"
    },
    "id": "Yp3aagOoTHsO",
    "outputId": "8d4273bf-9e62-43f0-ef4e-981dfb8450ac"
   },
   "outputs": [
    {
     "name": "stdout",
     "output_type": "stream",
     "text": [
      "0.855300214703487\n"
     ]
    }
   ],
   "source": [
    "import numpy as np\n",
    "\n",
    "print(np.mean(scores['test_score']))"
   ]
  },
  {
   "cell_type": "markdown",
   "metadata": {},
   "source": [
    "* cross_validate()는 회귀 모델일 경우 KFold를 사용하고\n",
    "* 분류 모델일 경우 클래스를 골고루 나누기 위해 StratifiedKFold를 사용한다"
   ]
  },
  {
   "cell_type": "code",
   "execution_count": 15,
   "metadata": {
    "colab": {
     "base_uri": "https://localhost:8080/"
    },
    "id": "0tQyaG0576Vn",
    "outputId": "2b6b230d-a1ce-4d4c-df04-efaa3c2a6645"
   },
   "outputs": [
    {
     "name": "stdout",
     "output_type": "stream",
     "text": [
      "{'fit_time': array([0.00533819, 0.0066731 , 0.00486684, 0.00552678, 0.00635433]), 'score_time': array([0.        , 0.00099897, 0.00114465, 0.00099802, 0.        ]), 'test_score': array([0.86923077, 0.84615385, 0.87680462, 0.84889317, 0.83541867])}\n",
      "0.855300214703487\n"
     ]
    }
   ],
   "source": [
    "from sklearn.model_selection import StratifiedKFold\n",
    "\n",
    "scores = cross_validate(model, X_train, y_train, cv=StratifiedKFold())\n",
    "print(scores)\n",
    "print(np.mean(scores['test_score']))"
   ]
  },
  {
   "cell_type": "markdown",
   "metadata": {},
   "source": [
    "* 훈련세트를 섞은 후에 10-폴드 교차 검증을 수행한다"
   ]
  },
  {
   "cell_type": "code",
   "execution_count": 17,
   "metadata": {
    "colab": {
     "base_uri": "https://localhost:8080/"
    },
    "id": "1BmP_OTT_agM",
    "outputId": "6ceb7677-b76b-416e-e344-9d1c8d4452e8"
   },
   "outputs": [
    {
     "name": "stdout",
     "output_type": "stream",
     "text": [
      "0.8574181117533719\n"
     ]
    }
   ],
   "source": [
    "stFold = StratifiedKFold(n_splits=10, shuffle=True, random_state=42)\n",
    "scores = cross_validate(model, X_train, y_train, cv=stFold)\n",
    "print(np.mean(scores['test_score']))"
   ]
  },
  {
   "cell_type": "markdown",
   "metadata": {
    "id": "Q21W8RsqDsDV"
   },
   "source": [
    "## GridSearchCV를 사용한 하이퍼파라미터 튜닝\n",
    "* 모델이 학습하는 파라미터를 모델 파라미터라고 부른다\n",
    "* 모델이 학습할 수 없어서 사용자가 지정해야 하는 파라미터를 하이퍼파라미터 라고 부른다\n",
    "* GridSearchCV는 하이퍼파라미터 탐색과 교차검증을 한 번에 수행한다. \n",
    "    - cross_validate() 함수를 호출할 필요가 없다"
   ]
  },
  {
   "cell_type": "code",
   "execution_count": 21,
   "metadata": {
    "id": "S8pqss8onjR5"
   },
   "outputs": [
    {
     "data": {
      "text/plain": [
       "GridSearchCV(estimator=DecisionTreeClassifier(random_state=42), n_jobs=-1,\n",
       "             param_grid={'min_impurity_decrease': [0.0001, 0.0002, 0.0003,\n",
       "                                                   0.0004, 0.0005]})"
      ]
     },
     "execution_count": 21,
     "metadata": {},
     "output_type": "execute_result"
    }
   ],
   "source": [
    "# max_depth(트리의 높이) 와 같이 가지치기를 할때 사용하는 매개변수 min_impurity_decrease(최소불순도)\n",
    "from sklearn.model_selection import GridSearchCV\n",
    "#min_impurity_decrease\n",
    "params = {'min_impurity_decrease':[0.0001,0.0002,0.0003,0.0004,0.0005]}\n",
    "\n",
    "model = DecisionTreeClassifier(random_state=42)\n",
    "gridSCV = GridSearchCV(model, params, n_jobs=-1)\n",
    "\n",
    "gridSCV"
   ]
  },
  {
   "cell_type": "code",
   "execution_count": 22,
   "metadata": {},
   "outputs": [
    {
     "data": {
      "text/plain": [
       "GridSearchCV(estimator=DecisionTreeClassifier(random_state=42), n_jobs=-1,\n",
       "             param_grid={'min_impurity_decrease': [0.0001, 0.0002, 0.0003,\n",
       "                                                   0.0004, 0.0005]})"
      ]
     },
     "execution_count": 22,
     "metadata": {},
     "output_type": "execute_result"
    }
   ],
   "source": [
    "gridSCV.fit(X_train, y_train)"
   ]
  },
  {
   "cell_type": "code",
   "execution_count": 24,
   "metadata": {
    "id": "79MymJqxTu0P"
   },
   "outputs": [
    {
     "data": {
      "text/plain": [
       "0.9615162593804117"
      ]
     },
     "execution_count": 24,
     "metadata": {},
     "output_type": "execute_result"
    }
   ],
   "source": [
    "best = gridSCV.best_estimator_\n",
    "best.score(X_train, y_train)"
   ]
  },
  {
   "cell_type": "code",
   "execution_count": 25,
   "metadata": {
    "colab": {
     "base_uri": "https://localhost:8080/"
    },
    "id": "tKAlTabkU-Lz",
    "outputId": "b7d6c052-42e6-4b01-b6fb-bd78b6f523d3"
   },
   "outputs": [
    {
     "data": {
      "text/plain": [
       "{'min_impurity_decrease': 0.0001}"
      ]
     },
     "execution_count": 25,
     "metadata": {},
     "output_type": "execute_result"
    }
   ],
   "source": [
    "#최적의 파라미터\n",
    "gridSCV.best_params_"
   ]
  },
  {
   "cell_type": "markdown",
   "metadata": {},
   "source": [
    "* 각 매개변수에서 수행한 교차검증의 평균점수는 cv_results_ 속성의 mean_test_score에 저장되어 있다\n",
    "* 5번의 교차검증으로 얻은 점수는 아래와 같다"
   ]
  },
  {
   "cell_type": "code",
   "execution_count": 26,
   "metadata": {
    "colab": {
     "base_uri": "https://localhost:8080/"
    },
    "id": "q6iX3vH-VeEb",
    "outputId": "cede4267-3135-4644-f625-7d37a894545d"
   },
   "outputs": [
    {
     "data": {
      "text/plain": [
       "{'mean_fit_time': array([0.00936913, 0.00717645, 0.00660725, 0.00643005, 0.00597849]),\n",
       " 'std_fit_time': array([0.00428614, 0.00263712, 0.00146288, 0.00210573, 0.00142304]),\n",
       " 'mean_score_time': array([0.00118313, 0.00090623, 0.00152245, 0.00074081, 0.00077739]),\n",
       " 'std_score_time': array([0.00014863, 0.00049694, 0.00078812, 0.00023447, 0.00023134]),\n",
       " 'param_min_impurity_decrease': masked_array(data=[0.0001, 0.0002, 0.0003, 0.0004, 0.0005],\n",
       "              mask=[False, False, False, False, False],\n",
       "        fill_value='?',\n",
       "             dtype=object),\n",
       " 'params': [{'min_impurity_decrease': 0.0001},\n",
       "  {'min_impurity_decrease': 0.0002},\n",
       "  {'min_impurity_decrease': 0.0003},\n",
       "  {'min_impurity_decrease': 0.0004},\n",
       "  {'min_impurity_decrease': 0.0005}],\n",
       " 'split0_test_score': array([0.86923077, 0.87115385, 0.86923077, 0.86923077, 0.86538462]),\n",
       " 'split1_test_score': array([0.86826923, 0.86346154, 0.85961538, 0.86346154, 0.86923077]),\n",
       " 'split2_test_score': array([0.8825794 , 0.87680462, 0.87584216, 0.88161694, 0.8825794 ]),\n",
       " 'split3_test_score': array([0.86717998, 0.85466795, 0.85081809, 0.84889317, 0.84985563]),\n",
       " 'split4_test_score': array([0.85370549, 0.85659288, 0.86910491, 0.87584216, 0.87102984]),\n",
       " 'mean_test_score': array([0.86819297, 0.86453617, 0.86492226, 0.86780891, 0.86761605]),\n",
       " 'std_test_score': array([0.00915386, 0.00843731, 0.0087452 , 0.01125985, 0.01056953]),\n",
       " 'rank_test_score': array([1, 5, 4, 2, 3])}"
      ]
     },
     "execution_count": 26,
     "metadata": {},
     "output_type": "execute_result"
    }
   ],
   "source": [
    "gridSCV.cv_results_"
   ]
  },
  {
   "cell_type": "code",
   "execution_count": 27,
   "metadata": {
    "colab": {
     "base_uri": "https://localhost:8080/"
    },
    "id": "lIzod3BwVHq-",
    "outputId": "2f84cffc-e7c7-469e-b0cb-774121cdca71"
   },
   "outputs": [
    {
     "data": {
      "text/plain": [
       "array([0.86819297, 0.86453617, 0.86492226, 0.86780891, 0.86761605])"
      ]
     },
     "execution_count": 27,
     "metadata": {},
     "output_type": "execute_result"
    }
   ],
   "source": [
    "gridSCV.cv_results_['mean_test_score']"
   ]
  },
  {
   "cell_type": "markdown",
   "metadata": {},
   "source": [
    "* numpy의 argmax()를 사용하면 가장 큰 값의 인덱스를 추출할 수 있다\n",
    "* 그 인덱스를 사용해 params 키에 저장된 매개변수를 출력할 수 있다"
   ]
  },
  {
   "cell_type": "code",
   "execution_count": 29,
   "metadata": {
    "colab": {
     "base_uri": "https://localhost:8080/"
    },
    "id": "Rwg2aSyEVO17",
    "outputId": "625cdf68-2172-47fa-ff67-51f71a23f8ba"
   },
   "outputs": [
    {
     "name": "stdout",
     "output_type": "stream",
     "text": [
      "0\n",
      "{'min_impurity_decrease': 0.0001}\n"
     ]
    }
   ],
   "source": [
    "best_index = np.argmax(gridSCV.cv_results_['mean_test_score'])\n",
    "print(best_index)\n",
    "print(gridSCV.cv_results_['params'][best_index])"
   ]
  },
  {
   "cell_type": "markdown",
   "metadata": {},
   "source": [
    "* min_impurity_decrease는 노드를 분할하기 위한 불순도 감소 최소량를 지정한다\n",
    "* max_depth로 트리의 깊이를 제한하고\n",
    "* min_samples_split으로 노드를 분할하기 위한 최소 샘플수"
   ]
  },
  {
   "cell_type": "code",
   "execution_count": 30,
   "metadata": {
    "id": "8jHxZ7XmVU11"
   },
   "outputs": [
    {
     "data": {
      "text/plain": [
       "GridSearchCV(estimator=DecisionTreeClassifier(random_state=42), n_jobs=-1,\n",
       "             param_grid={'max_depth': range(5, 20),\n",
       "                         'min_impurity_decrease': array([0.0001, 0.0002, 0.0003, 0.0004, 0.0005, 0.0006, 0.0007, 0.0008,\n",
       "       0.0009]),\n",
       "                         'min_samples_split': range(2, 100, 10)})"
      ]
     },
     "execution_count": 30,
     "metadata": {},
     "output_type": "execute_result"
    }
   ],
   "source": [
    "params = {\n",
    "    'min_impurity_decrease': np.arange(0.0001, 0.001, 0.0001),\n",
    "    'max_depth': range(5,20,1),\n",
    "    'min_samples_split': range(2,100,10)\n",
    "}\n",
    "gridCV = GridSearchCV(DecisionTreeClassifier(random_state=42), params, n_jobs=-1)\n",
    "gridCV.fit(X_train, y_train)\n",
    "          "
   ]
  },
  {
   "cell_type": "code",
   "execution_count": 31,
   "metadata": {
    "colab": {
     "base_uri": "https://localhost:8080/"
    },
    "id": "KnP3GA6MVsVH",
    "outputId": "04a03cbe-ae4d-4dad-b55b-5ba610e51bbd"
   },
   "outputs": [
    {
     "data": {
      "text/plain": [
       "{'max_depth': 14, 'min_impurity_decrease': 0.0004, 'min_samples_split': 12}"
      ]
     },
     "execution_count": 31,
     "metadata": {},
     "output_type": "execute_result"
    }
   ],
   "source": [
    "gridCV.best_params_"
   ]
  },
  {
   "cell_type": "code",
   "execution_count": 33,
   "metadata": {
    "colab": {
     "base_uri": "https://localhost:8080/"
    },
    "id": "qi9-O_VGV0Ho",
    "outputId": "521159e8-3b2a-4cd1-dc00-95dbed67db89"
   },
   "outputs": [
    {
     "data": {
      "text/plain": [
       "0.8683865773302731"
      ]
     },
     "execution_count": 33,
     "metadata": {},
     "output_type": "execute_result"
    }
   ],
   "source": [
    "#gridCV.cv_results_\n",
    "np.max(gridCV.cv_results_['mean_test_score'])"
   ]
  },
  {
   "cell_type": "code",
   "execution_count": 35,
   "metadata": {},
   "outputs": [
    {
     "name": "stdout",
     "output_type": "stream",
     "text": [
      "(5197, 3) (5197,)\n",
      "(1300, 3) (1300,)\n"
     ]
    }
   ],
   "source": [
    "print(X_train.shape, y_train.shape)\n",
    "print(X_test.shape, y_test.shape)"
   ]
  },
  {
   "cell_type": "code",
   "execution_count": 36,
   "metadata": {},
   "outputs": [
    {
     "name": "stdout",
     "output_type": "stream",
     "text": [
      "훈련 0.996921300750433\n",
      "테스트 0.8584615384615385\n"
     ]
    }
   ],
   "source": [
    "model = DecisionTreeClassifier(random_state=42)\n",
    "model.fit(X_train, y_train)\n",
    "\n",
    "#overfitting\n",
    "print('훈련', model.score(X_train, y_train))\n",
    "print('테스트', model.score(X_test, y_test))"
   ]
  },
  {
   "cell_type": "code",
   "execution_count": 37,
   "metadata": {},
   "outputs": [
    {
     "name": "stdout",
     "output_type": "stream",
     "text": [
      "훈련 0.892053107562055\n",
      "테스트 0.8615384615384616\n"
     ]
    }
   ],
   "source": [
    "model = DecisionTreeClassifier(random_state=42, max_depth=14, min_impurity_decrease=0.0004, min_samples_split=12)\n",
    "model.fit(X_train, y_train)\n",
    "\n",
    "print('훈련', model.score(X_train, y_train))\n",
    "print('테스트', model.score(X_test, y_test))"
   ]
  },
  {
   "cell_type": "markdown",
   "metadata": {
    "id": "d0k9DQTNlaD6"
   },
   "source": [
    "### 랜덤 서치\n",
    "* 랜덤서치는 매개변수 값의 목록을 전달하는 것이 아니라 매개변수를 샘플링 할 수 있는 확률분포를 전달한다\n",
    "* scipy의 uniform과 randint 클래스는 모두 주어진 범위에서 고르게 값을 추출해준다\n",
    " - 즉, 균등분포에서 샘플링한다 \n",
    " - randint는 정수값을, uniform은 실수값을 추출한다\n",
    "* 임의로 샘플링 하므로 아래와 결과가 다를 수도 있다  "
   ]
  },
  {
   "cell_type": "code",
   "execution_count": 31,
   "metadata": {
    "id": "_T9KTEk1GBcY"
   },
   "outputs": [],
   "source": []
  },
  {
   "cell_type": "code",
   "execution_count": 32,
   "metadata": {
    "colab": {
     "base_uri": "https://localhost:8080/"
    },
    "id": "fd0UJpCGGDhz",
    "outputId": "f5a4b4ce-34d1-4765-c047-a73b64eb61e9"
   },
   "outputs": [
    {
     "data": {
      "text/plain": [
       "array([4, 7, 6, 7, 4, 8, 0, 0, 8, 7])"
      ]
     },
     "execution_count": 32,
     "metadata": {},
     "output_type": "execute_result"
    }
   ],
   "source": []
  },
  {
   "cell_type": "markdown",
   "metadata": {},
   "source": [
    "* 1000개를 샘플링해서 각 숫자의 개수를 세어본다"
   ]
  },
  {
   "cell_type": "code",
   "execution_count": 33,
   "metadata": {
    "colab": {
     "base_uri": "https://localhost:8080/"
    },
    "id": "ch3zTUohIJR6",
    "outputId": "c28a1a61-e438-4764-ce9e-51f84a1820b9"
   },
   "outputs": [
    {
     "data": {
      "text/plain": [
       "(array([0, 1, 2, 3, 4, 5, 6, 7, 8, 9]),\n",
       " array([109, 108,  93,  93, 100, 108,  95,  92,  96, 106], dtype=int64))"
      ]
     },
     "execution_count": 33,
     "metadata": {},
     "output_type": "execute_result"
    }
   ],
   "source": []
  },
  {
   "cell_type": "code",
   "execution_count": 34,
   "metadata": {
    "colab": {
     "base_uri": "https://localhost:8080/"
    },
    "id": "bGhshTn0IjkI",
    "outputId": "b9bf8ec0-5f11-4074-a849-f6bb0e8e2035"
   },
   "outputs": [
    {
     "data": {
      "text/plain": [
       "array([0.17618235, 0.59150809, 0.97593258, 0.78709444, 0.25405458,\n",
       "       0.03083526, 0.43932543, 0.55865703, 0.6381422 , 0.64808261])"
      ]
     },
     "execution_count": 34,
     "metadata": {},
     "output_type": "execute_result"
    }
   ],
   "source": []
  },
  {
   "cell_type": "code",
   "execution_count": 35,
   "metadata": {
    "id": "irDX9e6WYTIH"
   },
   "outputs": [],
   "source": []
  },
  {
   "cell_type": "code",
   "execution_count": 36,
   "metadata": {
    "colab": {
     "base_uri": "https://localhost:8080/"
    },
    "id": "Wc4OIingWQCK",
    "outputId": "4fa423e7-7a7b-4486-ad75-fa0560df4e2c"
   },
   "outputs": [
    {
     "data": {
      "text/plain": [
       "RandomizedSearchCV(estimator=DecisionTreeClassifier(random_state=42),\n",
       "                   n_iter=100, n_jobs=-1,\n",
       "                   param_distributions={'max_depth': <scipy.stats._distn_infrastructure.rv_frozen object at 0x000001F09413E100>,\n",
       "                                        'min_impurity_decrease': <scipy.stats._distn_infrastructure.rv_frozen object at 0x000001F0942BCF40>,\n",
       "                                        'min_samples_leaf': <scipy.stats._distn_infrastructure.rv_frozen object at 0x000001F0942BC9A0>,\n",
       "                                        'min_samples_split': <scipy.stats._distn_infrastructure.rv_frozen object at 0x000001F0943AC520>},\n",
       "                   random_state=42)"
      ]
     },
     "execution_count": 36,
     "metadata": {},
     "output_type": "execute_result"
    }
   ],
   "source": []
  },
  {
   "cell_type": "code",
   "execution_count": 37,
   "metadata": {
    "colab": {
     "base_uri": "https://localhost:8080/"
    },
    "id": "p7IbsGH3ZSv-",
    "outputId": "efeb14d9-e26b-4c44-a8bc-8165b0e9f79a"
   },
   "outputs": [
    {
     "name": "stdout",
     "output_type": "stream",
     "text": [
      "{'max_depth': 45, 'min_impurity_decrease': 0.000404781258158029, 'min_samples_leaf': 6, 'min_samples_split': 9}\n"
     ]
    }
   ],
   "source": []
  },
  {
   "cell_type": "code",
   "execution_count": 38,
   "metadata": {
    "colab": {
     "base_uri": "https://localhost:8080/"
    },
    "id": "dYI3HwMQbtnr",
    "outputId": "6f07592d-c048-4b75-963b-4cb41ffcd170"
   },
   "outputs": [
    {
     "name": "stdout",
     "output_type": "stream",
     "text": [
      "0.8693486710594508\n"
     ]
    }
   ],
   "source": []
  },
  {
   "cell_type": "code",
   "execution_count": 40,
   "metadata": {
    "colab": {
     "base_uri": "https://localhost:8080/"
    },
    "id": "3QV7yRpidByf",
    "outputId": "23c87a7e-18ef-4260-ec19-5ca5ba1e8e0d"
   },
   "outputs": [
    {
     "name": "stdout",
     "output_type": "stream",
     "text": [
      "0.8576923076923076\n"
     ]
    }
   ],
   "source": []
  },
  {
   "cell_type": "markdown",
   "metadata": {
    "id": "cA42IsMdhgE7"
   },
   "source": [
    "## 확인문제\n",
    "* splitter=random 매개변수를 추가하고 다시 훈련\n",
    "* splitter 매개변수는 기본값은 'best'로 최선의 분할을 찾는다\n",
    " - random이면 무작위로 분할 한 다음 가장 좋은 것을 고른다"
   ]
  },
  {
   "cell_type": "code",
   "execution_count": 44,
   "metadata": {
    "colab": {
     "base_uri": "https://localhost:8080/"
    },
    "id": "8qxg36iThiUm",
    "outputId": "a1d5e027-3789-46c5-c611-a5752904b01d"
   },
   "outputs": [
    {
     "data": {
      "text/plain": [
       "RandomizedSearchCV(estimator=DecisionTreeClassifier(random_state=42,\n",
       "                                                    splitter='random'),\n",
       "                   n_iter=100, n_jobs=-1,\n",
       "                   param_distributions={'max_depth': <scipy.stats._distn_infrastructure.rv_frozen object at 0x000001BBCABBC6A0>,\n",
       "                                        'min_impurity_decrease': <scipy.stats._distn_infrastructure.rv_frozen object at 0x000001BBCAB379D0>,\n",
       "                                        'min_samples_leaf': <scipy.stats._distn_infrastructure.rv_frozen object at 0x000001BBCABBCB80>,\n",
       "                                        'min_samples_split': <scipy.stats._distn_infrastructure.rv_frozen object at 0x000001BBCABBC7C0>},\n",
       "                   random_state=42)"
      ]
     },
     "execution_count": 44,
     "metadata": {},
     "output_type": "execute_result"
    }
   ],
   "source": [
    "gs = RandomizedSearchCV(DecisionTreeClassifier(splitter='random', random_state=42), params, \n",
    "                        n_iter=100, n_jobs=-1, random_state=42)\n",
    "gs.fit(X_train, y_train)"
   ]
  },
  {
   "cell_type": "code",
   "execution_count": 45,
   "metadata": {
    "colab": {
     "base_uri": "https://localhost:8080/"
    },
    "id": "CMZ4UE8ihqwg",
    "outputId": "17a01931-779b-4d67-9c91-fbf0d1459993"
   },
   "outputs": [
    {
     "name": "stdout",
     "output_type": "stream",
     "text": [
      "{'max_depth': 43, 'min_impurity_decrease': 0.00011407982271508446, 'min_samples_leaf': 19, 'min_samples_split': 18}\n",
      "0.8458726956392981\n",
      "0.786923076923077\n"
     ]
    }
   ],
   "source": [
    "print(gs.best_params_)\n",
    "print(np.max(gs.cv_results_['mean_test_score']))\n",
    "\n",
    "dt = gs.best_estimator_\n",
    "print(dt.score(X_test, y_test))"
   ]
  }
 ],
 "metadata": {
  "colab": {
   "collapsed_sections": [],
   "name": "5-2 교차 검증과 그리드 서치.ipynb의 사본",
   "provenance": [
    {
     "file_id": "https://github.com/rickiepark/hg-mldl/blob/master/5-2.ipynb",
     "timestamp": 1615712240425
    }
   ]
  },
  "kernelspec": {
   "display_name": "Python 3 (ipykernel)",
   "language": "python",
   "name": "python3"
  },
  "language_info": {
   "codemirror_mode": {
    "name": "ipython",
    "version": 3
   },
   "file_extension": ".py",
   "mimetype": "text/x-python",
   "name": "python",
   "nbconvert_exporter": "python",
   "pygments_lexer": "ipython3",
   "version": "3.9.7"
  }
 },
 "nbformat": 4,
 "nbformat_minor": 4
}
