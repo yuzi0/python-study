{
 "cells": [
  {
   "cell_type": "markdown",
   "metadata": {
    "id": "YRS1_fGErgaY"
   },
   "source": [
    "#### 비지도학습\n",
    "##### 1. 군집화\n",
    "* 비지도학습은 데이터의 구조를 파악해서 그룹핑을 하거나 차원을 축소하거나 할때 사용하는 학습방식\n",
    "* 1. 클러스터링 : 비슷한 유형의 데이터들을 그룹핑 해주는 학습방법\n",
    "* 2. 클러스터링을 지원하는 알고리즘은 K-Means 가 있다. \n",
    "\n",
    "##### 2. 차원축소\n",
    "* 비지도 학습을 통해서 데이터를 변환하는 방식\n",
    "* 데이터를 변환(차원축소)하는 이유는?\n",
    " - 데이터를 시각화하거나, 데이터를 압축, 지도학습에 사용하기 위해서 정보가 더 잘 나타나도록 하기 위해서이다. \n",
    "* 차원축소를 지원하는 알고리즘은 PCA(Principal Component Analysis)가 있다. "
   ]
  },
  {
   "cell_type": "code",
   "execution_count": 1,
   "metadata": {
    "id": "kELb0jvUrgaq"
   },
   "outputs": [],
   "source": [
    "from sklearn.datasets import load_iris\n",
    "from sklearn.cluster import KMeans\n",
    "\n",
    "import pandas as pd\n",
    "import numpy as np\n",
    "\n",
    "#%matplotlib inline"
   ]
  },
  {
   "cell_type": "code",
   "execution_count": 2,
   "metadata": {
    "id": "WU_ppDTnrgar",
    "outputId": "4a61f6f9-2ee4-4d3f-c273-4ad73ea181b2"
   },
   "outputs": [
    {
     "name": "stdout",
     "output_type": "stream",
     "text": [
      "dict_keys(['data', 'target', 'frame', 'target_names', 'DESCR', 'feature_names', 'filename'])\n"
     ]
    }
   ],
   "source": [
    "iris = load_iris()\n",
    "print(iris.keys())"
   ]
  },
  {
   "cell_type": "code",
   "execution_count": 3,
   "metadata": {
    "id": "Q_Phv_5Ergas",
    "outputId": "5dc54645-b5c3-40c4-cabb-ffe6cb084d75",
    "scrolled": true
   },
   "outputs": [
    {
     "name": "stdout",
     "output_type": "stream",
     "text": [
      "['setosa' 'versicolor' 'virginica']\n"
     ]
    },
    {
     "data": {
      "text/plain": [
       "array([0, 0, 0, 0, 0, 0, 0, 0, 0, 0, 0, 0, 0, 0, 0, 0, 0, 0, 0, 0, 0, 0,\n",
       "       0, 0, 0, 0, 0, 0, 0, 0, 0, 0, 0, 0, 0, 0, 0, 0, 0, 0, 0, 0, 0, 0,\n",
       "       0, 0, 0, 0, 0, 0, 1, 1, 1, 1, 1, 1, 1, 1, 1, 1, 1, 1, 1, 1, 1, 1,\n",
       "       1, 1, 1, 1, 1, 1, 1, 1, 1, 1, 1, 1, 1, 1, 1, 1, 1, 1, 1, 1, 1, 1,\n",
       "       1, 1, 1, 1, 1, 1, 1, 1, 1, 1, 1, 1, 2, 2, 2, 2, 2, 2, 2, 2, 2, 2,\n",
       "       2, 2, 2, 2, 2, 2, 2, 2, 2, 2, 2, 2, 2, 2, 2, 2, 2, 2, 2, 2, 2, 2,\n",
       "       2, 2, 2, 2, 2, 2, 2, 2, 2, 2, 2, 2, 2, 2, 2, 2, 2, 2])"
      ]
     },
     "execution_count": 3,
     "metadata": {},
     "output_type": "execute_result"
    }
   ],
   "source": [
    "print(iris.target_names)\n",
    "iris.target"
   ]
  },
  {
   "cell_type": "code",
   "execution_count": 4,
   "metadata": {
    "id": "IQ28LdiMrgas",
    "outputId": "20043548-33fe-4549-e5de-f003e256bc5e",
    "scrolled": false
   },
   "outputs": [
    {
     "name": "stdout",
     "output_type": "stream",
     "text": [
      "(150, 4)\n",
      "['sepal length (cm)', 'sepal width (cm)', 'petal length (cm)', 'petal width (cm)']\n"
     ]
    },
    {
     "data": {
      "text/plain": [
       "array([[5.1, 3.5, 1.4, 0.2],\n",
       "       [4.9, 3. , 1.4, 0.2],\n",
       "       [4.7, 3.2, 1.3, 0.2],\n",
       "       [4.6, 3.1, 1.5, 0.2],\n",
       "       [5. , 3.6, 1.4, 0.2],\n",
       "       [5.4, 3.9, 1.7, 0.4],\n",
       "       [4.6, 3.4, 1.4, 0.3],\n",
       "       [5. , 3.4, 1.5, 0.2],\n",
       "       [4.4, 2.9, 1.4, 0.2],\n",
       "       [4.9, 3.1, 1.5, 0.1],\n",
       "       [5.4, 3.7, 1.5, 0.2],\n",
       "       [4.8, 3.4, 1.6, 0.2],\n",
       "       [4.8, 3. , 1.4, 0.1],\n",
       "       [4.3, 3. , 1.1, 0.1],\n",
       "       [5.8, 4. , 1.2, 0.2],\n",
       "       [5.7, 4.4, 1.5, 0.4],\n",
       "       [5.4, 3.9, 1.3, 0.4],\n",
       "       [5.1, 3.5, 1.4, 0.3],\n",
       "       [5.7, 3.8, 1.7, 0.3],\n",
       "       [5.1, 3.8, 1.5, 0.3],\n",
       "       [5.4, 3.4, 1.7, 0.2],\n",
       "       [5.1, 3.7, 1.5, 0.4],\n",
       "       [4.6, 3.6, 1. , 0.2],\n",
       "       [5.1, 3.3, 1.7, 0.5],\n",
       "       [4.8, 3.4, 1.9, 0.2],\n",
       "       [5. , 3. , 1.6, 0.2],\n",
       "       [5. , 3.4, 1.6, 0.4],\n",
       "       [5.2, 3.5, 1.5, 0.2],\n",
       "       [5.2, 3.4, 1.4, 0.2],\n",
       "       [4.7, 3.2, 1.6, 0.2],\n",
       "       [4.8, 3.1, 1.6, 0.2],\n",
       "       [5.4, 3.4, 1.5, 0.4],\n",
       "       [5.2, 4.1, 1.5, 0.1],\n",
       "       [5.5, 4.2, 1.4, 0.2],\n",
       "       [4.9, 3.1, 1.5, 0.2],\n",
       "       [5. , 3.2, 1.2, 0.2],\n",
       "       [5.5, 3.5, 1.3, 0.2],\n",
       "       [4.9, 3.6, 1.4, 0.1],\n",
       "       [4.4, 3. , 1.3, 0.2],\n",
       "       [5.1, 3.4, 1.5, 0.2],\n",
       "       [5. , 3.5, 1.3, 0.3],\n",
       "       [4.5, 2.3, 1.3, 0.3],\n",
       "       [4.4, 3.2, 1.3, 0.2],\n",
       "       [5. , 3.5, 1.6, 0.6],\n",
       "       [5.1, 3.8, 1.9, 0.4],\n",
       "       [4.8, 3. , 1.4, 0.3],\n",
       "       [5.1, 3.8, 1.6, 0.2],\n",
       "       [4.6, 3.2, 1.4, 0.2],\n",
       "       [5.3, 3.7, 1.5, 0.2],\n",
       "       [5. , 3.3, 1.4, 0.2],\n",
       "       [7. , 3.2, 4.7, 1.4],\n",
       "       [6.4, 3.2, 4.5, 1.5],\n",
       "       [6.9, 3.1, 4.9, 1.5],\n",
       "       [5.5, 2.3, 4. , 1.3],\n",
       "       [6.5, 2.8, 4.6, 1.5],\n",
       "       [5.7, 2.8, 4.5, 1.3],\n",
       "       [6.3, 3.3, 4.7, 1.6],\n",
       "       [4.9, 2.4, 3.3, 1. ],\n",
       "       [6.6, 2.9, 4.6, 1.3],\n",
       "       [5.2, 2.7, 3.9, 1.4],\n",
       "       [5. , 2. , 3.5, 1. ],\n",
       "       [5.9, 3. , 4.2, 1.5],\n",
       "       [6. , 2.2, 4. , 1. ],\n",
       "       [6.1, 2.9, 4.7, 1.4],\n",
       "       [5.6, 2.9, 3.6, 1.3],\n",
       "       [6.7, 3.1, 4.4, 1.4],\n",
       "       [5.6, 3. , 4.5, 1.5],\n",
       "       [5.8, 2.7, 4.1, 1. ],\n",
       "       [6.2, 2.2, 4.5, 1.5],\n",
       "       [5.6, 2.5, 3.9, 1.1],\n",
       "       [5.9, 3.2, 4.8, 1.8],\n",
       "       [6.1, 2.8, 4. , 1.3],\n",
       "       [6.3, 2.5, 4.9, 1.5],\n",
       "       [6.1, 2.8, 4.7, 1.2],\n",
       "       [6.4, 2.9, 4.3, 1.3],\n",
       "       [6.6, 3. , 4.4, 1.4],\n",
       "       [6.8, 2.8, 4.8, 1.4],\n",
       "       [6.7, 3. , 5. , 1.7],\n",
       "       [6. , 2.9, 4.5, 1.5],\n",
       "       [5.7, 2.6, 3.5, 1. ],\n",
       "       [5.5, 2.4, 3.8, 1.1],\n",
       "       [5.5, 2.4, 3.7, 1. ],\n",
       "       [5.8, 2.7, 3.9, 1.2],\n",
       "       [6. , 2.7, 5.1, 1.6],\n",
       "       [5.4, 3. , 4.5, 1.5],\n",
       "       [6. , 3.4, 4.5, 1.6],\n",
       "       [6.7, 3.1, 4.7, 1.5],\n",
       "       [6.3, 2.3, 4.4, 1.3],\n",
       "       [5.6, 3. , 4.1, 1.3],\n",
       "       [5.5, 2.5, 4. , 1.3],\n",
       "       [5.5, 2.6, 4.4, 1.2],\n",
       "       [6.1, 3. , 4.6, 1.4],\n",
       "       [5.8, 2.6, 4. , 1.2],\n",
       "       [5. , 2.3, 3.3, 1. ],\n",
       "       [5.6, 2.7, 4.2, 1.3],\n",
       "       [5.7, 3. , 4.2, 1.2],\n",
       "       [5.7, 2.9, 4.2, 1.3],\n",
       "       [6.2, 2.9, 4.3, 1.3],\n",
       "       [5.1, 2.5, 3. , 1.1],\n",
       "       [5.7, 2.8, 4.1, 1.3],\n",
       "       [6.3, 3.3, 6. , 2.5],\n",
       "       [5.8, 2.7, 5.1, 1.9],\n",
       "       [7.1, 3. , 5.9, 2.1],\n",
       "       [6.3, 2.9, 5.6, 1.8],\n",
       "       [6.5, 3. , 5.8, 2.2],\n",
       "       [7.6, 3. , 6.6, 2.1],\n",
       "       [4.9, 2.5, 4.5, 1.7],\n",
       "       [7.3, 2.9, 6.3, 1.8],\n",
       "       [6.7, 2.5, 5.8, 1.8],\n",
       "       [7.2, 3.6, 6.1, 2.5],\n",
       "       [6.5, 3.2, 5.1, 2. ],\n",
       "       [6.4, 2.7, 5.3, 1.9],\n",
       "       [6.8, 3. , 5.5, 2.1],\n",
       "       [5.7, 2.5, 5. , 2. ],\n",
       "       [5.8, 2.8, 5.1, 2.4],\n",
       "       [6.4, 3.2, 5.3, 2.3],\n",
       "       [6.5, 3. , 5.5, 1.8],\n",
       "       [7.7, 3.8, 6.7, 2.2],\n",
       "       [7.7, 2.6, 6.9, 2.3],\n",
       "       [6. , 2.2, 5. , 1.5],\n",
       "       [6.9, 3.2, 5.7, 2.3],\n",
       "       [5.6, 2.8, 4.9, 2. ],\n",
       "       [7.7, 2.8, 6.7, 2. ],\n",
       "       [6.3, 2.7, 4.9, 1.8],\n",
       "       [6.7, 3.3, 5.7, 2.1],\n",
       "       [7.2, 3.2, 6. , 1.8],\n",
       "       [6.2, 2.8, 4.8, 1.8],\n",
       "       [6.1, 3. , 4.9, 1.8],\n",
       "       [6.4, 2.8, 5.6, 2.1],\n",
       "       [7.2, 3. , 5.8, 1.6],\n",
       "       [7.4, 2.8, 6.1, 1.9],\n",
       "       [7.9, 3.8, 6.4, 2. ],\n",
       "       [6.4, 2.8, 5.6, 2.2],\n",
       "       [6.3, 2.8, 5.1, 1.5],\n",
       "       [6.1, 2.6, 5.6, 1.4],\n",
       "       [7.7, 3. , 6.1, 2.3],\n",
       "       [6.3, 3.4, 5.6, 2.4],\n",
       "       [6.4, 3.1, 5.5, 1.8],\n",
       "       [6. , 3. , 4.8, 1.8],\n",
       "       [6.9, 3.1, 5.4, 2.1],\n",
       "       [6.7, 3.1, 5.6, 2.4],\n",
       "       [6.9, 3.1, 5.1, 2.3],\n",
       "       [5.8, 2.7, 5.1, 1.9],\n",
       "       [6.8, 3.2, 5.9, 2.3],\n",
       "       [6.7, 3.3, 5.7, 2.5],\n",
       "       [6.7, 3. , 5.2, 2.3],\n",
       "       [6.3, 2.5, 5. , 1.9],\n",
       "       [6.5, 3. , 5.2, 2. ],\n",
       "       [6.2, 3.4, 5.4, 2.3],\n",
       "       [5.9, 3. , 5.1, 1.8]])"
      ]
     },
     "execution_count": 4,
     "metadata": {},
     "output_type": "execute_result"
    }
   ],
   "source": [
    "print(iris.data.shape)\n",
    "print(iris.feature_names)\n",
    "iris.data"
   ]
  },
  {
   "cell_type": "code",
   "execution_count": 90,
   "metadata": {
    "id": "CrrjAP8crgat",
    "outputId": "9850081f-ce5a-48e7-b8b0-b18a9a8a25ae"
   },
   "outputs": [
    {
     "data": {
      "text/html": [
       "<div>\n",
       "<style scoped>\n",
       "    .dataframe tbody tr th:only-of-type {\n",
       "        vertical-align: middle;\n",
       "    }\n",
       "\n",
       "    .dataframe tbody tr th {\n",
       "        vertical-align: top;\n",
       "    }\n",
       "\n",
       "    .dataframe thead th {\n",
       "        text-align: right;\n",
       "    }\n",
       "</style>\n",
       "<table border=\"1\" class=\"dataframe\">\n",
       "  <thead>\n",
       "    <tr style=\"text-align: right;\">\n",
       "      <th></th>\n",
       "      <th>sepal_length</th>\n",
       "      <th>sepal_width</th>\n",
       "      <th>petal_length</th>\n",
       "      <th>petal_width</th>\n",
       "    </tr>\n",
       "  </thead>\n",
       "  <tbody>\n",
       "    <tr>\n",
       "      <th>0</th>\n",
       "      <td>5.1</td>\n",
       "      <td>3.5</td>\n",
       "      <td>1.4</td>\n",
       "      <td>0.2</td>\n",
       "    </tr>\n",
       "    <tr>\n",
       "      <th>1</th>\n",
       "      <td>4.9</td>\n",
       "      <td>3.0</td>\n",
       "      <td>1.4</td>\n",
       "      <td>0.2</td>\n",
       "    </tr>\n",
       "    <tr>\n",
       "      <th>2</th>\n",
       "      <td>4.7</td>\n",
       "      <td>3.2</td>\n",
       "      <td>1.3</td>\n",
       "      <td>0.2</td>\n",
       "    </tr>\n",
       "    <tr>\n",
       "      <th>3</th>\n",
       "      <td>4.6</td>\n",
       "      <td>3.1</td>\n",
       "      <td>1.5</td>\n",
       "      <td>0.2</td>\n",
       "    </tr>\n",
       "    <tr>\n",
       "      <th>4</th>\n",
       "      <td>5.0</td>\n",
       "      <td>3.6</td>\n",
       "      <td>1.4</td>\n",
       "      <td>0.2</td>\n",
       "    </tr>\n",
       "  </tbody>\n",
       "</table>\n",
       "</div>"
      ],
      "text/plain": [
       "   sepal_length  sepal_width  petal_length  petal_width\n",
       "0           5.1          3.5           1.4          0.2\n",
       "1           4.9          3.0           1.4          0.2\n",
       "2           4.7          3.2           1.3          0.2\n",
       "3           4.6          3.1           1.5          0.2\n",
       "4           5.0          3.6           1.4          0.2"
      ]
     },
     "execution_count": 90,
     "metadata": {},
     "output_type": "execute_result"
    }
   ],
   "source": [
    "iris_df = pd.DataFrame(data=iris.data, \\\n",
    "                       columns=['sepal_length', 'sepal_width', 'petal_length', 'petal_width'])\n",
    "iris_df.head()"
   ]
  },
  {
   "cell_type": "code",
   "execution_count": 91,
   "metadata": {
    "id": "-PZw8Nftrgau",
    "outputId": "08c359df-6897-43b6-da02-b75979065a27"
   },
   "outputs": [
    {
     "data": {
      "text/plain": [
       "KMeans(max_iter=500, n_clusters=3, random_state=0)"
      ]
     },
     "execution_count": 91,
     "metadata": {},
     "output_type": "execute_result"
    }
   ],
   "source": [
    "#Model 생성 - KMeans 알고리즘 사용\n",
    "model = KMeans(max_iter=500, n_clusters=3, random_state=0)\n",
    "model.fit(iris_df)"
   ]
  },
  {
   "cell_type": "code",
   "execution_count": 92,
   "metadata": {
    "id": "_aC1Fofrrgau",
    "outputId": "66ee24cd-3145-4caa-d19d-9a6aa22d413f"
   },
   "outputs": [
    {
     "name": "stdout",
     "output_type": "stream",
     "text": [
      "[1 1 1 1 1 1 1 1 1 1 1 1 1 1 1 1 1 1 1 1 1 1 1 1 1 1 1 1 1 1 1 1 1 1 1 1 1\n",
      " 1 1 1 1 1 1 1 1 1 1 1 1 1 2 2 0 2 2 2 2 2 2 2 2 2 2 2 2 2 2 2 2 2 2 2 2 2\n",
      " 2 2 2 0 2 2 2 2 2 2 2 2 2 2 2 2 2 2 2 2 2 2 2 2 2 2 0 2 0 0 0 0 2 0 0 0 0\n",
      " 0 0 2 2 0 0 0 0 2 0 2 0 2 0 0 2 2 0 0 0 0 0 2 0 0 0 0 2 0 0 0 2 0 0 0 2 0\n",
      " 0 2]\n",
      "78.851441426146\n"
     ]
    }
   ],
   "source": [
    "#군집화한 결과 확인\n",
    "print(model.labels_)\n",
    "print(model.inertia_)"
   ]
  },
  {
   "cell_type": "code",
   "execution_count": 93,
   "metadata": {
    "id": "r59KwFJMrgav",
    "outputId": "7351dadf-b188-4728-fa9e-7209ca6f80b5"
   },
   "outputs": [
    {
     "data": {
      "text/html": [
       "<div>\n",
       "<style scoped>\n",
       "    .dataframe tbody tr th:only-of-type {\n",
       "        vertical-align: middle;\n",
       "    }\n",
       "\n",
       "    .dataframe tbody tr th {\n",
       "        vertical-align: top;\n",
       "    }\n",
       "\n",
       "    .dataframe thead th {\n",
       "        text-align: right;\n",
       "    }\n",
       "</style>\n",
       "<table border=\"1\" class=\"dataframe\">\n",
       "  <thead>\n",
       "    <tr style=\"text-align: right;\">\n",
       "      <th></th>\n",
       "      <th>sepal_length</th>\n",
       "      <th>sepal_width</th>\n",
       "      <th>petal_length</th>\n",
       "      <th>petal_width</th>\n",
       "      <th>cluster</th>\n",
       "    </tr>\n",
       "  </thead>\n",
       "  <tbody>\n",
       "    <tr>\n",
       "      <th>0</th>\n",
       "      <td>5.1</td>\n",
       "      <td>3.5</td>\n",
       "      <td>1.4</td>\n",
       "      <td>0.2</td>\n",
       "      <td>1</td>\n",
       "    </tr>\n",
       "    <tr>\n",
       "      <th>1</th>\n",
       "      <td>4.9</td>\n",
       "      <td>3.0</td>\n",
       "      <td>1.4</td>\n",
       "      <td>0.2</td>\n",
       "      <td>1</td>\n",
       "    </tr>\n",
       "    <tr>\n",
       "      <th>2</th>\n",
       "      <td>4.7</td>\n",
       "      <td>3.2</td>\n",
       "      <td>1.3</td>\n",
       "      <td>0.2</td>\n",
       "      <td>1</td>\n",
       "    </tr>\n",
       "    <tr>\n",
       "      <th>3</th>\n",
       "      <td>4.6</td>\n",
       "      <td>3.1</td>\n",
       "      <td>1.5</td>\n",
       "      <td>0.2</td>\n",
       "      <td>1</td>\n",
       "    </tr>\n",
       "    <tr>\n",
       "      <th>4</th>\n",
       "      <td>5.0</td>\n",
       "      <td>3.6</td>\n",
       "      <td>1.4</td>\n",
       "      <td>0.2</td>\n",
       "      <td>1</td>\n",
       "    </tr>\n",
       "  </tbody>\n",
       "</table>\n",
       "</div>"
      ],
      "text/plain": [
       "   sepal_length  sepal_width  petal_length  petal_width  cluster\n",
       "0           5.1          3.5           1.4          0.2        1\n",
       "1           4.9          3.0           1.4          0.2        1\n",
       "2           4.7          3.2           1.3          0.2        1\n",
       "3           4.6          3.1           1.5          0.2        1\n",
       "4           5.0          3.6           1.4          0.2        1"
      ]
     },
     "execution_count": 93,
     "metadata": {},
     "output_type": "execute_result"
    }
   ],
   "source": [
    "#군집화한 결과(labels_) 를 cluster라는 컬럼으로 추가\n",
    "iris_df['cluster'] = model.labels_\n",
    "iris_df.head()"
   ]
  },
  {
   "cell_type": "code",
   "execution_count": 94,
   "metadata": {
    "id": "5k3JfVVFrgav",
    "outputId": "5bda1533-58a4-492a-b91d-eeb6ce6daa95"
   },
   "outputs": [
    {
     "data": {
      "text/html": [
       "<div>\n",
       "<style scoped>\n",
       "    .dataframe tbody tr th:only-of-type {\n",
       "        vertical-align: middle;\n",
       "    }\n",
       "\n",
       "    .dataframe tbody tr th {\n",
       "        vertical-align: top;\n",
       "    }\n",
       "\n",
       "    .dataframe thead th {\n",
       "        text-align: right;\n",
       "    }\n",
       "</style>\n",
       "<table border=\"1\" class=\"dataframe\">\n",
       "  <thead>\n",
       "    <tr style=\"text-align: right;\">\n",
       "      <th></th>\n",
       "      <th>sepal_length</th>\n",
       "      <th>sepal_width</th>\n",
       "      <th>petal_length</th>\n",
       "      <th>petal_width</th>\n",
       "      <th>cluster</th>\n",
       "      <th>target</th>\n",
       "    </tr>\n",
       "  </thead>\n",
       "  <tbody>\n",
       "    <tr>\n",
       "      <th>0</th>\n",
       "      <td>5.1</td>\n",
       "      <td>3.5</td>\n",
       "      <td>1.4</td>\n",
       "      <td>0.2</td>\n",
       "      <td>1</td>\n",
       "      <td>0</td>\n",
       "    </tr>\n",
       "    <tr>\n",
       "      <th>1</th>\n",
       "      <td>4.9</td>\n",
       "      <td>3.0</td>\n",
       "      <td>1.4</td>\n",
       "      <td>0.2</td>\n",
       "      <td>1</td>\n",
       "      <td>0</td>\n",
       "    </tr>\n",
       "    <tr>\n",
       "      <th>2</th>\n",
       "      <td>4.7</td>\n",
       "      <td>3.2</td>\n",
       "      <td>1.3</td>\n",
       "      <td>0.2</td>\n",
       "      <td>1</td>\n",
       "      <td>0</td>\n",
       "    </tr>\n",
       "    <tr>\n",
       "      <th>3</th>\n",
       "      <td>4.6</td>\n",
       "      <td>3.1</td>\n",
       "      <td>1.5</td>\n",
       "      <td>0.2</td>\n",
       "      <td>1</td>\n",
       "      <td>0</td>\n",
       "    </tr>\n",
       "    <tr>\n",
       "      <th>4</th>\n",
       "      <td>5.0</td>\n",
       "      <td>3.6</td>\n",
       "      <td>1.4</td>\n",
       "      <td>0.2</td>\n",
       "      <td>1</td>\n",
       "      <td>0</td>\n",
       "    </tr>\n",
       "  </tbody>\n",
       "</table>\n",
       "</div>"
      ],
      "text/plain": [
       "   sepal_length  sepal_width  petal_length  petal_width  cluster  target\n",
       "0           5.1          3.5           1.4          0.2        1       0\n",
       "1           4.9          3.0           1.4          0.2        1       0\n",
       "2           4.7          3.2           1.3          0.2        1       0\n",
       "3           4.6          3.1           1.5          0.2        1       0\n",
       "4           5.0          3.6           1.4          0.2        1       0"
      ]
     },
     "execution_count": 94,
     "metadata": {},
     "output_type": "execute_result"
    }
   ],
   "source": [
    "#target 값으로 target 컬럼을 추가\n",
    "iris_df['target'] = iris.target\n",
    "iris_df.head()"
   ]
  },
  {
   "cell_type": "markdown",
   "metadata": {
    "id": "bI3J070trgaw"
   },
   "source": [
    "### Intertia value를 이용한 적정 군집수 판단\n",
    "* Intertia value는 중심점(centroid)에서 데이터간의 거리를 합산한 값이며, 군집의 응집도를 나타내는 값이다.  이 값을 작을수록 응집도가 높게 군집화가 잘 되었다는 의미\n",
    "* 1  ~ 10개의 클러스로 클러스터링을 했을 각 클러스터 갯수별로 intertia value를 출력해보기\n",
    "* itertia 값이 클러스터값이 3~5 사이에서 급격하게 하강해서 변화의 폭이 크지 않다는 것을 알 수 있으므로, iris 데이터는 3 ~ 5개의 클러스터로 분류하는 것이 적당하다고 판단하는 것임"
   ]
  },
  {
   "cell_type": "code",
   "execution_count": 95,
   "metadata": {},
   "outputs": [
    {
     "data": {
      "text/html": [
       "<div>\n",
       "<style scoped>\n",
       "    .dataframe tbody tr th:only-of-type {\n",
       "        vertical-align: middle;\n",
       "    }\n",
       "\n",
       "    .dataframe tbody tr th {\n",
       "        vertical-align: top;\n",
       "    }\n",
       "\n",
       "    .dataframe thead th {\n",
       "        text-align: right;\n",
       "    }\n",
       "</style>\n",
       "<table border=\"1\" class=\"dataframe\">\n",
       "  <thead>\n",
       "    <tr style=\"text-align: right;\">\n",
       "      <th></th>\n",
       "      <th>sepal_length</th>\n",
       "      <th>sepal_width</th>\n",
       "      <th>petal_length</th>\n",
       "      <th>petal_width</th>\n",
       "      <th>target</th>\n",
       "    </tr>\n",
       "  </thead>\n",
       "  <tbody>\n",
       "    <tr>\n",
       "      <th>0</th>\n",
       "      <td>5.1</td>\n",
       "      <td>3.5</td>\n",
       "      <td>1.4</td>\n",
       "      <td>0.2</td>\n",
       "      <td>0</td>\n",
       "    </tr>\n",
       "    <tr>\n",
       "      <th>1</th>\n",
       "      <td>4.9</td>\n",
       "      <td>3.0</td>\n",
       "      <td>1.4</td>\n",
       "      <td>0.2</td>\n",
       "      <td>0</td>\n",
       "    </tr>\n",
       "    <tr>\n",
       "      <th>2</th>\n",
       "      <td>4.7</td>\n",
       "      <td>3.2</td>\n",
       "      <td>1.3</td>\n",
       "      <td>0.2</td>\n",
       "      <td>0</td>\n",
       "    </tr>\n",
       "    <tr>\n",
       "      <th>3</th>\n",
       "      <td>4.6</td>\n",
       "      <td>3.1</td>\n",
       "      <td>1.5</td>\n",
       "      <td>0.2</td>\n",
       "      <td>0</td>\n",
       "    </tr>\n",
       "    <tr>\n",
       "      <th>4</th>\n",
       "      <td>5.0</td>\n",
       "      <td>3.6</td>\n",
       "      <td>1.4</td>\n",
       "      <td>0.2</td>\n",
       "      <td>0</td>\n",
       "    </tr>\n",
       "    <tr>\n",
       "      <th>...</th>\n",
       "      <td>...</td>\n",
       "      <td>...</td>\n",
       "      <td>...</td>\n",
       "      <td>...</td>\n",
       "      <td>...</td>\n",
       "    </tr>\n",
       "    <tr>\n",
       "      <th>145</th>\n",
       "      <td>6.7</td>\n",
       "      <td>3.0</td>\n",
       "      <td>5.2</td>\n",
       "      <td>2.3</td>\n",
       "      <td>2</td>\n",
       "    </tr>\n",
       "    <tr>\n",
       "      <th>146</th>\n",
       "      <td>6.3</td>\n",
       "      <td>2.5</td>\n",
       "      <td>5.0</td>\n",
       "      <td>1.9</td>\n",
       "      <td>2</td>\n",
       "    </tr>\n",
       "    <tr>\n",
       "      <th>147</th>\n",
       "      <td>6.5</td>\n",
       "      <td>3.0</td>\n",
       "      <td>5.2</td>\n",
       "      <td>2.0</td>\n",
       "      <td>2</td>\n",
       "    </tr>\n",
       "    <tr>\n",
       "      <th>148</th>\n",
       "      <td>6.2</td>\n",
       "      <td>3.4</td>\n",
       "      <td>5.4</td>\n",
       "      <td>2.3</td>\n",
       "      <td>2</td>\n",
       "    </tr>\n",
       "    <tr>\n",
       "      <th>149</th>\n",
       "      <td>5.9</td>\n",
       "      <td>3.0</td>\n",
       "      <td>5.1</td>\n",
       "      <td>1.8</td>\n",
       "      <td>2</td>\n",
       "    </tr>\n",
       "  </tbody>\n",
       "</table>\n",
       "<p>150 rows × 5 columns</p>\n",
       "</div>"
      ],
      "text/plain": [
       "     sepal_length  sepal_width  petal_length  petal_width  target\n",
       "0             5.1          3.5           1.4          0.2       0\n",
       "1             4.9          3.0           1.4          0.2       0\n",
       "2             4.7          3.2           1.3          0.2       0\n",
       "3             4.6          3.1           1.5          0.2       0\n",
       "4             5.0          3.6           1.4          0.2       0\n",
       "..            ...          ...           ...          ...     ...\n",
       "145           6.7          3.0           5.2          2.3       2\n",
       "146           6.3          2.5           5.0          1.9       2\n",
       "147           6.5          3.0           5.2          2.0       2\n",
       "148           6.2          3.4           5.4          2.3       2\n",
       "149           5.9          3.0           5.1          1.8       2\n",
       "\n",
       "[150 rows x 5 columns]"
      ]
     },
     "execution_count": 95,
     "metadata": {},
     "output_type": "execute_result"
    }
   ],
   "source": [
    "iris_df.drop([\"cluster\"],axis=1)"
   ]
  },
  {
   "cell_type": "code",
   "execution_count": 96,
   "metadata": {
    "id": "4HNEuBCfrgaw",
    "outputId": "43e4af21-dca5-4d56-892f-40570cff0519"
   },
   "outputs": [
    {
     "data": {
      "image/png": "[encoded data removed]",
      "text/plain": [
       "<Figure size 432x288 with 1 Axes>"
      ]
     },
     "metadata": {
      "needs_background": "light"
     },
     "output_type": "display_data"
    }
   ],
   "source": [
    "import matplotlib.pyplot as plt\n",
    "intertias_values = []\n",
    "ks = range(1, 10)\n",
    "\n",
    "for k in ks:\n",
    "    model = KMeans(n_clusters=k)\n",
    "    model.fit(iris_df)\n",
    "    intertias_values.append(model.inertia_)\n",
    "\n",
    "plt.plot(ks, intertias_values, '-o')\n",
    "plt.xlabel('number of clusters, K')\n",
    "plt.ylabel('intertia')\n",
    "plt.xticks(ks)\n",
    "plt.show()"
   ]
  },
  {
   "cell_type": "markdown",
   "metadata": {
    "id": "UYwBIwmNrgax"
   },
   "source": [
    "\n",
    "#### 크로스 테이블 체크\n",
    "* Cross Tabulation은 테이블 형태로 교차분석한 결과\n",
    "* pandas의 .crosstab 함수를 사용한다."
   ]
  },
  {
   "cell_type": "code",
   "execution_count": 97,
   "metadata": {
    "id": "YbvnZKSprgay",
    "outputId": "a99ce433-198c-481a-c484-b6465fcea9f7"
   },
   "outputs": [
    {
     "data": {
      "text/html": [
       "<div>\n",
       "<style scoped>\n",
       "    .dataframe tbody tr th:only-of-type {\n",
       "        vertical-align: middle;\n",
       "    }\n",
       "\n",
       "    .dataframe tbody tr th {\n",
       "        vertical-align: top;\n",
       "    }\n",
       "\n",
       "    .dataframe thead th {\n",
       "        text-align: right;\n",
       "    }\n",
       "</style>\n",
       "<table border=\"1\" class=\"dataframe\">\n",
       "  <thead>\n",
       "    <tr style=\"text-align: right;\">\n",
       "      <th>cluster</th>\n",
       "      <th>0</th>\n",
       "      <th>1</th>\n",
       "      <th>2</th>\n",
       "    </tr>\n",
       "    <tr>\n",
       "      <th>target</th>\n",
       "      <th></th>\n",
       "      <th></th>\n",
       "      <th></th>\n",
       "    </tr>\n",
       "  </thead>\n",
       "  <tbody>\n",
       "    <tr>\n",
       "      <th>0</th>\n",
       "      <td>0</td>\n",
       "      <td>50</td>\n",
       "      <td>0</td>\n",
       "    </tr>\n",
       "    <tr>\n",
       "      <th>1</th>\n",
       "      <td>2</td>\n",
       "      <td>0</td>\n",
       "      <td>48</td>\n",
       "    </tr>\n",
       "    <tr>\n",
       "      <th>2</th>\n",
       "      <td>36</td>\n",
       "      <td>0</td>\n",
       "      <td>14</td>\n",
       "    </tr>\n",
       "  </tbody>\n",
       "</table>\n",
       "</div>"
      ],
      "text/plain": [
       "cluster   0   1   2\n",
       "target             \n",
       "0         0  50   0\n",
       "1         2   0  48\n",
       "2        36   0  14"
      ]
     },
     "execution_count": 97,
     "metadata": {},
     "output_type": "execute_result"
    }
   ],
   "source": [
    "cross_tab = pd.crosstab(iris_df['target'], iris_df['cluster'])\n",
    "cross_tab"
   ]
  },
  {
   "cell_type": "markdown",
   "metadata": {
    "id": "Bdsju5v8rgaz"
   },
   "source": [
    "#### 차원축소 \n",
    "* 차원축소 한 데이터를 시각화하기"
   ]
  },
  {
   "cell_type": "code",
   "execution_count": 99,
   "metadata": {
    "id": "WRXvfI4wrgaz",
    "outputId": "1ff83c72-f927-4f75-f869-8192a0a8b430"
   },
   "outputs": [
    {
     "data": {
      "text/plain": [
       "array([[-2.68412563,  0.31939725],\n",
       "       [-2.71414169, -0.17700123],\n",
       "       [-2.88899057, -0.14494943],\n",
       "       [-2.74534286, -0.31829898],\n",
       "       [-2.72871654,  0.32675451],\n",
       "       [-2.28085963,  0.74133045],\n",
       "       [-2.82053775, -0.08946138],\n",
       "       [-2.62614497,  0.16338496],\n",
       "       [-2.88638273, -0.57831175],\n",
       "       [-2.6727558 , -0.11377425],\n",
       "       [-2.50694709,  0.6450689 ],\n",
       "       [-2.61275523,  0.01472994],\n",
       "       [-2.78610927, -0.235112  ],\n",
       "       [-3.22380374, -0.51139459],\n",
       "       [-2.64475039,  1.17876464],\n",
       "       [-2.38603903,  1.33806233],\n",
       "       [-2.62352788,  0.81067951],\n",
       "       [-2.64829671,  0.31184914],\n",
       "       [-2.19982032,  0.87283904],\n",
       "       [-2.5879864 ,  0.51356031],\n",
       "       [-2.31025622,  0.39134594],\n",
       "       [-2.54370523,  0.43299606],\n",
       "       [-3.21593942,  0.13346807],\n",
       "       [-2.30273318,  0.09870885],\n",
       "       [-2.35575405, -0.03728186],\n",
       "       [-2.50666891, -0.14601688],\n",
       "       [-2.46882007,  0.13095149],\n",
       "       [-2.56231991,  0.36771886],\n",
       "       [-2.63953472,  0.31203998],\n",
       "       [-2.63198939, -0.19696122],\n",
       "       [-2.58739848, -0.20431849],\n",
       "       [-2.4099325 ,  0.41092426],\n",
       "       [-2.64886233,  0.81336382],\n",
       "       [-2.59873675,  1.09314576],\n",
       "       [-2.63692688, -0.12132235],\n",
       "       [-2.86624165,  0.06936447],\n",
       "       [-2.62523805,  0.59937002],\n",
       "       [-2.80068412,  0.26864374],\n",
       "       [-2.98050204, -0.48795834],\n",
       "       [-2.59000631,  0.22904384],\n",
       "       [-2.77010243,  0.26352753],\n",
       "       [-2.84936871, -0.94096057],\n",
       "       [-2.99740655, -0.34192606],\n",
       "       [-2.40561449,  0.18887143],\n",
       "       [-2.20948924,  0.43666314],\n",
       "       [-2.71445143, -0.2502082 ],\n",
       "       [-2.53814826,  0.50377114],\n",
       "       [-2.83946217, -0.22794557],\n",
       "       [-2.54308575,  0.57941002],\n",
       "       [-2.70335978,  0.10770608],\n",
       "       [ 1.28482569,  0.68516047],\n",
       "       [ 0.93248853,  0.31833364],\n",
       "       [ 1.46430232,  0.50426282],\n",
       "       [ 0.18331772, -0.82795901],\n",
       "       [ 1.08810326,  0.07459068],\n",
       "       [ 0.64166908, -0.41824687],\n",
       "       [ 1.09506066,  0.28346827],\n",
       "       [-0.74912267, -1.00489096],\n",
       "       [ 1.04413183,  0.2283619 ],\n",
       "       [-0.0087454 , -0.72308191],\n",
       "       [-0.50784088, -1.26597119],\n",
       "       [ 0.51169856, -0.10398124],\n",
       "       [ 0.26497651, -0.55003646],\n",
       "       [ 0.98493451, -0.12481785],\n",
       "       [-0.17392537, -0.25485421],\n",
       "       [ 0.92786078,  0.46717949],\n",
       "       [ 0.66028376, -0.35296967],\n",
       "       [ 0.23610499, -0.33361077],\n",
       "       [ 0.94473373, -0.54314555],\n",
       "       [ 0.04522698, -0.58383438],\n",
       "       [ 1.11628318, -0.08461685],\n",
       "       [ 0.35788842, -0.06892503],\n",
       "       [ 1.29818388, -0.32778731],\n",
       "       [ 0.92172892, -0.18273779],\n",
       "       [ 0.71485333,  0.14905594],\n",
       "       [ 0.90017437,  0.32850447],\n",
       "       [ 1.33202444,  0.24444088],\n",
       "       [ 1.55780216,  0.26749545],\n",
       "       [ 0.81329065, -0.1633503 ],\n",
       "       [-0.30558378, -0.36826219],\n",
       "       [-0.06812649, -0.70517213],\n",
       "       [-0.18962247, -0.68028676],\n",
       "       [ 0.13642871, -0.31403244],\n",
       "       [ 1.38002644, -0.42095429],\n",
       "       [ 0.58800644, -0.48428742],\n",
       "       [ 0.80685831,  0.19418231],\n",
       "       [ 1.22069088,  0.40761959],\n",
       "       [ 0.81509524, -0.37203706],\n",
       "       [ 0.24595768, -0.2685244 ],\n",
       "       [ 0.16641322, -0.68192672],\n",
       "       [ 0.46480029, -0.67071154],\n",
       "       [ 0.8908152 , -0.03446444],\n",
       "       [ 0.23054802, -0.40438585],\n",
       "       [-0.70453176, -1.01224823],\n",
       "       [ 0.35698149, -0.50491009],\n",
       "       [ 0.33193448, -0.21265468],\n",
       "       [ 0.37621565, -0.29321893],\n",
       "       [ 0.64257601,  0.01773819],\n",
       "       [-0.90646986, -0.75609337],\n",
       "       [ 0.29900084, -0.34889781],\n",
       "       [ 2.53119273, -0.00984911],\n",
       "       [ 1.41523588, -0.57491635],\n",
       "       [ 2.61667602,  0.34390315],\n",
       "       [ 1.97153105, -0.1797279 ],\n",
       "       [ 2.35000592, -0.04026095],\n",
       "       [ 3.39703874,  0.55083667],\n",
       "       [ 0.52123224, -1.19275873],\n",
       "       [ 2.93258707,  0.3555    ],\n",
       "       [ 2.32122882, -0.2438315 ],\n",
       "       [ 2.91675097,  0.78279195],\n",
       "       [ 1.66177415,  0.24222841],\n",
       "       [ 1.80340195, -0.21563762],\n",
       "       [ 2.1655918 ,  0.21627559],\n",
       "       [ 1.34616358, -0.77681835],\n",
       "       [ 1.58592822, -0.53964071],\n",
       "       [ 1.90445637,  0.11925069],\n",
       "       [ 1.94968906,  0.04194326],\n",
       "       [ 3.48705536,  1.17573933],\n",
       "       [ 3.79564542,  0.25732297],\n",
       "       [ 1.30079171, -0.76114964],\n",
       "       [ 2.42781791,  0.37819601],\n",
       "       [ 1.19900111, -0.60609153],\n",
       "       [ 3.49992004,  0.4606741 ],\n",
       "       [ 1.38876613, -0.20439933],\n",
       "       [ 2.2754305 ,  0.33499061],\n",
       "       [ 2.61409047,  0.56090136],\n",
       "       [ 1.25850816, -0.17970479],\n",
       "       [ 1.29113206, -0.11666865],\n",
       "       [ 2.12360872, -0.20972948],\n",
       "       [ 2.38800302,  0.4646398 ],\n",
       "       [ 2.84167278,  0.37526917],\n",
       "       [ 3.23067366,  1.37416509],\n",
       "       [ 2.15943764, -0.21727758],\n",
       "       [ 1.44416124, -0.14341341],\n",
       "       [ 1.78129481, -0.49990168],\n",
       "       [ 3.07649993,  0.68808568],\n",
       "       [ 2.14424331,  0.1400642 ],\n",
       "       [ 1.90509815,  0.04930053],\n",
       "       [ 1.16932634, -0.16499026],\n",
       "       [ 2.10761114,  0.37228787],\n",
       "       [ 2.31415471,  0.18365128],\n",
       "       [ 1.9222678 ,  0.40920347],\n",
       "       [ 1.41523588, -0.57491635],\n",
       "       [ 2.56301338,  0.2778626 ],\n",
       "       [ 2.41874618,  0.3047982 ],\n",
       "       [ 1.94410979,  0.1875323 ],\n",
       "       [ 1.52716661, -0.37531698],\n",
       "       [ 1.76434572,  0.07885885],\n",
       "       [ 1.90094161,  0.11662796],\n",
       "       [ 1.39018886, -0.28266094]])"
      ]
     },
     "execution_count": 99,
     "metadata": {},
     "output_type": "execute_result"
    }
   ],
   "source": [
    "from sklearn.decomposition import PCA\n",
    "\n",
    "#차원축소 = 2차원\n",
    "pca = PCA(n_components=2)\n",
    "pca_transformed = pca.fit_transform(iris.data)\n",
    "pca_transformed"
   ]
  },
  {
   "cell_type": "code",
   "execution_count": 100,
   "metadata": {
    "id": "yFlaS8XTrga1",
    "outputId": "8cf0372a-9638-4800-cdfc-3623346d8408"
   },
   "outputs": [
    {
     "data": {
      "text/html": [
       "<div>\n",
       "<style scoped>\n",
       "    .dataframe tbody tr th:only-of-type {\n",
       "        vertical-align: middle;\n",
       "    }\n",
       "\n",
       "    .dataframe tbody tr th {\n",
       "        vertical-align: top;\n",
       "    }\n",
       "\n",
       "    .dataframe thead th {\n",
       "        text-align: right;\n",
       "    }\n",
       "</style>\n",
       "<table border=\"1\" class=\"dataframe\">\n",
       "  <thead>\n",
       "    <tr style=\"text-align: right;\">\n",
       "      <th></th>\n",
       "      <th>sepal_length</th>\n",
       "      <th>sepal_width</th>\n",
       "      <th>petal_length</th>\n",
       "      <th>petal_width</th>\n",
       "      <th>cluster</th>\n",
       "      <th>target</th>\n",
       "      <th>pca_x</th>\n",
       "      <th>pca_y</th>\n",
       "    </tr>\n",
       "  </thead>\n",
       "  <tbody>\n",
       "    <tr>\n",
       "      <th>0</th>\n",
       "      <td>5.1</td>\n",
       "      <td>3.5</td>\n",
       "      <td>1.4</td>\n",
       "      <td>0.2</td>\n",
       "      <td>1</td>\n",
       "      <td>0</td>\n",
       "      <td>-2.684126</td>\n",
       "      <td>0.319397</td>\n",
       "    </tr>\n",
       "    <tr>\n",
       "      <th>1</th>\n",
       "      <td>4.9</td>\n",
       "      <td>3.0</td>\n",
       "      <td>1.4</td>\n",
       "      <td>0.2</td>\n",
       "      <td>1</td>\n",
       "      <td>0</td>\n",
       "      <td>-2.714142</td>\n",
       "      <td>-0.177001</td>\n",
       "    </tr>\n",
       "    <tr>\n",
       "      <th>2</th>\n",
       "      <td>4.7</td>\n",
       "      <td>3.2</td>\n",
       "      <td>1.3</td>\n",
       "      <td>0.2</td>\n",
       "      <td>1</td>\n",
       "      <td>0</td>\n",
       "      <td>-2.888991</td>\n",
       "      <td>-0.144949</td>\n",
       "    </tr>\n",
       "    <tr>\n",
       "      <th>3</th>\n",
       "      <td>4.6</td>\n",
       "      <td>3.1</td>\n",
       "      <td>1.5</td>\n",
       "      <td>0.2</td>\n",
       "      <td>1</td>\n",
       "      <td>0</td>\n",
       "      <td>-2.745343</td>\n",
       "      <td>-0.318299</td>\n",
       "    </tr>\n",
       "    <tr>\n",
       "      <th>4</th>\n",
       "      <td>5.0</td>\n",
       "      <td>3.6</td>\n",
       "      <td>1.4</td>\n",
       "      <td>0.2</td>\n",
       "      <td>1</td>\n",
       "      <td>0</td>\n",
       "      <td>-2.728717</td>\n",
       "      <td>0.326755</td>\n",
       "    </tr>\n",
       "  </tbody>\n",
       "</table>\n",
       "</div>"
      ],
      "text/plain": [
       "   sepal_length  sepal_width  petal_length  petal_width  cluster  target  \\\n",
       "0           5.1          3.5           1.4          0.2        1       0   \n",
       "1           4.9          3.0           1.4          0.2        1       0   \n",
       "2           4.7          3.2           1.3          0.2        1       0   \n",
       "3           4.6          3.1           1.5          0.2        1       0   \n",
       "4           5.0          3.6           1.4          0.2        1       0   \n",
       "\n",
       "      pca_x     pca_y  \n",
       "0 -2.684126  0.319397  \n",
       "1 -2.714142 -0.177001  \n",
       "2 -2.888991 -0.144949  \n",
       "3 -2.745343 -0.318299  \n",
       "4 -2.728717  0.326755  "
      ]
     },
     "execution_count": 100,
     "metadata": {},
     "output_type": "execute_result"
    }
   ],
   "source": [
    "#2차원으로 변환된 데이터를 pca_x, pca_y 라는 컬럼명으로 추가하기\n",
    "iris_df['pca_x'] = pca_transformed[:,0]\n",
    "iris_df['pca_y'] = pca_transformed[:,1]\n",
    "iris_df.head()"
   ]
  },
  {
   "cell_type": "code",
   "execution_count": 101,
   "metadata": {
    "id": "QiXD0BDirga2",
    "outputId": "cb42457c-ee42-481e-b143-889117acf927"
   },
   "outputs": [
    {
     "data": {
      "text/plain": [
       "2    62\n",
       "1    50\n",
       "0    38\n",
       "Name: cluster, dtype: int64"
      ]
     },
     "execution_count": 101,
     "metadata": {},
     "output_type": "execute_result"
    }
   ],
   "source": [
    "iris_df['cluster'].value_counts()"
   ]
  },
  {
   "cell_type": "code",
   "execution_count": 102,
   "metadata": {
    "id": "nmIp5KX4rga2",
    "outputId": "63d4c387-b8fc-4cbf-995d-1f78b53d756c"
   },
   "outputs": [
    {
     "name": "stdout",
     "output_type": "stream",
     "text": [
      "Int64Index([ 52,  77, 100, 102, 103, 104, 105, 107, 108, 109, 110, 111, 112,\n",
      "            115, 116, 117, 118, 120, 122, 124, 125, 128, 129, 130, 131, 132,\n",
      "            134, 135, 136, 137, 139, 140, 141, 143, 144, 145, 147, 148],\n",
      "           dtype='int64')\n",
      "Int64Index([ 0,  1,  2,  3,  4,  5,  6,  7,  8,  9, 10, 11, 12, 13, 14, 15, 16,\n",
      "            17, 18, 19, 20, 21, 22, 23, 24, 25, 26, 27, 28, 29, 30, 31, 32, 33,\n",
      "            34, 35, 36, 37, 38, 39, 40, 41, 42, 43, 44, 45, 46, 47, 48, 49],\n",
      "           dtype='int64')\n",
      "Int64Index([ 50,  51,  53,  54,  55,  56,  57,  58,  59,  60,  61,  62,  63,\n",
      "             64,  65,  66,  67,  68,  69,  70,  71,  72,  73,  74,  75,  76,\n",
      "             78,  79,  80,  81,  82,  83,  84,  85,  86,  87,  88,  89,  90,\n",
      "             91,  92,  93,  94,  95,  96,  97,  98,  99, 101, 106, 113, 114,\n",
      "            119, 121, 123, 126, 127, 133, 138, 142, 146, 149],\n",
      "           dtype='int64')\n"
     ]
    }
   ],
   "source": [
    "#cluster 별로 0,1,2 경우마다 index 추출\n",
    "marker0_index = iris_df[iris_df['cluster'] == 0].index\n",
    "print(marker0_index)\n",
    "marker1_index = iris_df[iris_df['cluster'] == 1].index\n",
    "print(marker1_index)\n",
    "marker2_index = iris_df[iris_df['cluster'] == 2].index\n",
    "print(marker2_index)"
   ]
  },
  {
   "cell_type": "code",
   "execution_count": 103,
   "metadata": {
    "id": "ySS8LPsMrga3",
    "outputId": "336f4d56-f3ec-4fb4-b36a-2ac3e027b9d0"
   },
   "outputs": [
    {
     "data": {
      "text/plain": [
       "Text(0.5, 1.0, '3 Clusters Visualization by 2 PCA Component')"
      ]
     },
     "execution_count": 103,
     "metadata": {},
     "output_type": "execute_result"
    },
    {
     "data": {
      "image/png": "[encoded data removed]",
      "text/plain": [
       "<Figure size 432x288 with 1 Axes>"
      ]
     },
     "metadata": {
      "needs_background": "light"
     },
     "output_type": "display_data"
    }
   ],
   "source": [
    "#cluster 값이 0,1,2에 해당하는 index와 pca_x 값을 X축에 설정\n",
    "#cluster 값이 0,1,2에 해당하는 index와 pca_y 값을 Y축에 설정\n",
    "#marker o, s, ^ 를 사용\n",
    "#iris_df.loc[marker0_index,'pca_x']\n",
    "plt.scatter(x=iris_df.loc[marker0_index,'pca_x'], \\\n",
    "            y=iris_df.loc[marker0_index,'pca_y'], marker='o')\n",
    "plt.scatter(x=iris_df.loc[marker1_index,'pca_x'], \\\n",
    "            y=iris_df.loc[marker1_index,'pca_y'], marker='s')\n",
    "plt.scatter(x=iris_df.loc[marker2_index,'pca_x'], \\\n",
    "            y=iris_df.loc[marker2_index,'pca_y'], marker='^')\n",
    "plt.xlabel('PCA1')\n",
    "plt.ylabel('PCA2')\n",
    "plt.title('3 Clusters Visualization by 2 PCA Component')"
   ]
  },
  {
   "cell_type": "markdown",
   "metadata": {
    "id": "b6cRRKdFrga4"
   },
   "source": [
    "### Wheat Seed Dataset  활용한 군집화\n"
   ]
  },
  {
   "cell_type": "code",
   "execution_count": 109,
   "metadata": {},
   "outputs": [],
   "source": [
    "import sys\n",
    "if sys.version_info[0] < 3: \n",
    "    from StringIO import StringIO\n",
    "else:\n",
    "    from io import StringIO\n",
    "    \n",
    "seeds_dataset = StringIO(\"\"\"15.26\t14.84\t0.871\t5.763\t3.312\t2.221\t5.22\t1\n",
    "14.88\t14.57\t0.8811\t5.554\t3.333\t1.018\t4.956\t1\n",
    "14.29\t14.09\t0.905\t5.291\t3.337\t2.699\t4.825\t1\n",
    "13.84\t13.94\t0.8955\t5.324\t3.379\t2.259\t4.805\t1\n",
    "16.14\t14.99\t0.9034\t5.658\t3.562\t1.355\t5.175\t1\n",
    "14.38\t14.21\t0.8951\t5.386\t3.312\t2.462\t4.956\t1\n",
    "14.69\t14.49\t0.8799\t5.563\t3.259\t3.586\t5.219\t1\n",
    "14.11\t14.1\t0.8911\t5.42\t3.302\t2.7\t5\t1\n",
    "16.63\t15.46\t0.8747\t6.053\t3.465\t2.04\t5.877\t1\n",
    "16.44\t15.25\t0.888\t5.884\t3.505\t1.969\t5.533\t1\n",
    "15.26\t14.85\t0.8696\t5.714\t3.242\t4.543\t5.314\t1\n",
    "14.03\t14.16\t0.8796\t5.438\t3.201\t1.717\t5.001\t1\n",
    "13.89\t14.02\t0.888\t5.439\t3.199\t3.986\t4.738\t1\n",
    "13.78\t14.06\t0.8759\t5.479\t3.156\t3.136\t4.872\t1\n",
    "13.74\t14.05\t0.8744\t5.482\t3.114\t2.932\t4.825\t1\n",
    "14.59\t14.28\t0.8993\t5.351\t3.333\t4.185\t4.781\t1\n",
    "13.99\t13.83\t0.9183\t5.119\t3.383\t5.234\t4.781\t1\n",
    "15.69\t14.75\t0.9058\t5.527\t3.514\t1.599\t5.046\t1\n",
    "14.7\t14.21\t0.9153\t5.205\t3.466\t1.767\t4.649\t1\n",
    "12.72\t13.57\t0.8686\t5.226\t3.049\t4.102\t4.914\t1\n",
    "14.16\t14.4\t0.8584\t5.658\t3.129\t3.072\t5.176\t1\n",
    "14.11\t14.26\t0.8722\t5.52\t3.168\t2.688\t5.219\t1\n",
    "15.88\t14.9\t0.8988\t5.618\t3.507\t0.7651\t5.091\t1\n",
    "12.08\t13.23\t0.8664\t5.099\t2.936\t1.415\t4.961\t1\n",
    "15.01\t14.76\t0.8657\t5.789\t3.245\t1.791\t5.001\t1\n",
    "16.19\t15.16\t0.8849\t5.833\t3.421\t0.903\t5.307\t1\n",
    "13.02\t13.76\t0.8641\t5.395\t3.026\t3.373\t4.825\t1\n",
    "12.74\t13.67\t0.8564\t5.395\t2.956\t2.504\t4.869\t1\n",
    "14.11\t14.18\t0.882\t5.541\t3.221\t2.754\t5.038\t1\n",
    "13.45\t14.02\t0.8604\t5.516\t3.065\t3.531\t5.097\t1\n",
    "13.16\t13.82\t0.8662\t5.454\t2.975\t0.8551\t5.056\t1\n",
    "15.49\t14.94\t0.8724\t5.757\t3.371\t3.412\t5.228\t1\n",
    "14.09\t14.41\t0.8529\t5.717\t3.186\t3.92\t5.299\t1\n",
    "13.94\t14.17\t0.8728\t5.585\t3.15\t2.124\t5.012\t1\n",
    "15.05\t14.68\t0.8779\t5.712\t3.328\t2.129\t5.36\t1\n",
    "16.12\t15\t0.9\t5.709\t3.485\t2.27\t5.443\t1\n",
    "16.2\t15.27\t0.8734\t5.826\t3.464\t2.823\t5.527\t1\n",
    "17.08\t15.38\t0.9079\t5.832\t3.683\t2.956\t5.484\t1\n",
    "14.8\t14.52\t0.8823\t5.656\t3.288\t3.112\t5.309\t1\n",
    "14.28\t14.17\t0.8944\t5.397\t3.298\t6.685\t5.001\t1\n",
    "13.54\t13.85\t0.8871\t5.348\t3.156\t2.587\t5.178\t1\n",
    "13.5\t13.85\t0.8852\t5.351\t3.158\t2.249\t5.176\t1\n",
    "13.16\t13.55\t0.9009\t5.138\t3.201\t2.461\t4.783\t1\n",
    "15.5\t14.86\t0.882\t5.877\t3.396\t4.711\t5.528\t1\n",
    "15.11\t14.54\t0.8986\t5.579\t3.462\t3.128\t5.18\t1\n",
    "13.8\t14.04\t0.8794\t5.376\t3.155\t1.56\t4.961\t1\n",
    "15.36\t14.76\t0.8861\t5.701\t3.393\t1.367\t5.132\t1\n",
    "14.99\t14.56\t0.8883\t5.57\t3.377\t2.958\t5.175\t1\n",
    "14.79\t14.52\t0.8819\t5.545\t3.291\t2.704\t5.111\t1\n",
    "14.86\t14.67\t0.8676\t5.678\t3.258\t2.129\t5.351\t1\n",
    "14.43\t14.4\t0.8751\t5.585\t3.272\t3.975\t5.144\t1\n",
    "15.78\t14.91\t0.8923\t5.674\t3.434\t5.593\t5.136\t1\n",
    "14.49\t14.61\t0.8538\t5.715\t3.113\t4.116\t5.396\t1\n",
    "14.33\t14.28\t0.8831\t5.504\t3.199\t3.328\t5.224\t1\n",
    "14.52\t14.6\t0.8557\t5.741\t3.113\t1.481\t5.487\t1\n",
    "15.03\t14.77\t0.8658\t5.702\t3.212\t1.933\t5.439\t1\n",
    "14.46\t14.35\t0.8818\t5.388\t3.377\t2.802\t5.044\t1\n",
    "14.92\t14.43\t0.9006\t5.384\t3.412\t1.142\t5.088\t1\n",
    "15.38\t14.77\t0.8857\t5.662\t3.419\t1.999\t5.222\t1\n",
    "12.11\t13.47\t0.8392\t5.159\t3.032\t1.502\t4.519\t1\n",
    "11.42\t12.86\t0.8683\t5.008\t2.85\t2.7\t4.607\t1\n",
    "11.23\t12.63\t0.884\t4.902\t2.879\t2.269\t4.703\t1\n",
    "12.36\t13.19\t0.8923\t5.076\t3.042\t3.22\t4.605\t1\n",
    "13.22\t13.84\t0.868\t5.395\t3.07\t4.157\t5.088\t1\n",
    "12.78\t13.57\t0.8716\t5.262\t3.026\t1.176\t4.782\t1\n",
    "12.88\t13.5\t0.8879\t5.139\t3.119\t2.352\t4.607\t1\n",
    "14.34\t14.37\t0.8726\t5.63\t3.19\t1.313\t5.15\t1\n",
    "14.01\t14.29\t0.8625\t5.609\t3.158\t2.217\t5.132\t1\n",
    "14.37\t14.39\t0.8726\t5.569\t3.153\t1.464\t5.3\t1\n",
    "12.73\t13.75\t0.8458\t5.412\t2.882\t3.533\t5.067\t1\n",
    "17.63\t15.98\t0.8673\t6.191\t3.561\t4.076\t6.06\t2\n",
    "16.84\t15.67\t0.8623\t5.998\t3.484\t4.675\t5.877\t2\n",
    "17.26\t15.73\t0.8763\t5.978\t3.594\t4.539\t5.791\t2\n",
    "19.11\t16.26\t0.9081\t6.154\t3.93\t2.936\t6.079\t2\n",
    "16.82\t15.51\t0.8786\t6.017\t3.486\t4.004\t5.841\t2\n",
    "16.77\t15.62\t0.8638\t5.927\t3.438\t4.92\t5.795\t2\n",
    "17.32\t15.91\t0.8599\t6.064\t3.403\t3.824\t5.922\t2\n",
    "20.71\t17.23\t0.8763\t6.579\t3.814\t4.451\t6.451\t2\n",
    "18.94\t16.49\t0.875\t6.445\t3.639\t5.064\t6.362\t2\n",
    "17.12\t15.55\t0.8892\t5.85\t3.566\t2.858\t5.746\t2\n",
    "16.53\t15.34\t0.8823\t5.875\t3.467\t5.532\t5.88\t2\n",
    "18.72\t16.19\t0.8977\t6.006\t3.857\t5.324\t5.879\t2\n",
    "20.2\t16.89\t0.8894\t6.285\t3.864\t5.173\t6.187\t2\n",
    "19.57\t16.74\t0.8779\t6.384\t3.772\t1.472\t6.273\t2\n",
    "19.51\t16.71\t0.878\t6.366\t3.801\t2.962\t6.185\t2\n",
    "18.27\t16.09\t0.887\t6.173\t3.651\t2.443\t6.197\t2\n",
    "18.88\t16.26\t0.8969\t6.084\t3.764\t1.649\t6.109\t2\n",
    "18.98\t16.66\t0.859\t6.549\t3.67\t3.691\t6.498\t2\n",
    "21.18\t17.21\t0.8989\t6.573\t4.033\t5.78\t6.231\t2\n",
    "20.88\t17.05\t0.9031\t6.45\t4.032\t5.016\t6.321\t2\n",
    "20.1\t16.99\t0.8746\t6.581\t3.785\t1.955\t6.449\t2\n",
    "18.76\t16.2\t0.8984\t6.172\t3.796\t3.12\t6.053\t2\n",
    "18.81\t16.29\t0.8906\t6.272\t3.693\t3.237\t6.053\t2\n",
    "18.59\t16.05\t0.9066\t6.037\t3.86\t6.001\t5.877\t2\n",
    "18.36\t16.52\t0.8452\t6.666\t3.485\t4.933\t6.448\t2\n",
    "16.87\t15.65\t0.8648\t6.139\t3.463\t3.696\t5.967\t2\n",
    "19.31\t16.59\t0.8815\t6.341\t3.81\t3.477\t6.238\t2\n",
    "18.98\t16.57\t0.8687\t6.449\t3.552\t2.144\t6.453\t2\n",
    "18.17\t16.26\t0.8637\t6.271\t3.512\t2.853\t6.273\t2\n",
    "18.72\t16.34\t0.881\t6.219\t3.684\t2.188\t6.097\t2\n",
    "16.41\t15.25\t0.8866\t5.718\t3.525\t4.217\t5.618\t2\n",
    "17.99\t15.86\t0.8992\t5.89\t3.694\t2.068\t5.837\t2\n",
    "19.46\t16.5\t0.8985\t6.113\t3.892\t4.308\t6.009\t2\n",
    "19.18\t16.63\t0.8717\t6.369\t3.681\t3.357\t6.229\t2\n",
    "18.95\t16.42\t0.8829\t6.248\t3.755\t3.368\t6.148\t2\n",
    "18.83\t16.29\t0.8917\t6.037\t3.786\t2.553\t5.879\t2\n",
    "18.85\t16.17\t0.9056\t6.152\t3.806\t2.843\t6.2\t2\n",
    "17.63\t15.86\t0.88\t6.033\t3.573\t3.747\t5.929\t2\n",
    "19.94\t16.92\t0.8752\t6.675\t3.763\t3.252\t6.55\t2\n",
    "18.55\t16.22\t0.8865\t6.153\t3.674\t1.738\t5.894\t2\n",
    "18.45\t16.12\t0.8921\t6.107\t3.769\t2.235\t5.794\t2\n",
    "19.38\t16.72\t0.8716\t6.303\t3.791\t3.678\t5.965\t2\n",
    "19.13\t16.31\t0.9035\t6.183\t3.902\t2.109\t5.924\t2\n",
    "19.14\t16.61\t0.8722\t6.259\t3.737\t6.682\t6.053\t2\n",
    "20.97\t17.25\t0.8859\t6.563\t3.991\t4.677\t6.316\t2\n",
    "19.06\t16.45\t0.8854\t6.416\t3.719\t2.248\t6.163\t2\n",
    "18.96\t16.2\t0.9077\t6.051\t3.897\t4.334\t5.75\t2\n",
    "19.15\t16.45\t0.889\t6.245\t3.815\t3.084\t6.185\t2\n",
    "18.89\t16.23\t0.9008\t6.227\t3.769\t3.639\t5.966\t2\n",
    "20.03\t16.9\t0.8811\t6.493\t3.857\t3.063\t6.32\t2\n",
    "20.24\t16.91\t0.8897\t6.315\t3.962\t5.901\t6.188\t2\n",
    "18.14\t16.12\t0.8772\t6.059\t3.563\t3.619\t6.011\t2\n",
    "16.17\t15.38\t0.8588\t5.762\t3.387\t4.286\t5.703\t2\n",
    "18.43\t15.97\t0.9077\t5.98\t3.771\t2.984\t5.905\t2\n",
    "15.99\t14.89\t0.9064\t5.363\t3.582\t3.336\t5.144\t2\n",
    "18.75\t16.18\t0.8999\t6.111\t3.869\t4.188\t5.992\t2\n",
    "18.65\t16.41\t0.8698\t6.285\t3.594\t4.391\t6.102\t2\n",
    "17.98\t15.85\t0.8993\t5.979\t3.687\t2.257\t5.919\t2\n",
    "20.16\t17.03\t0.8735\t6.513\t3.773\t1.91\t6.185\t2\n",
    "17.55\t15.66\t0.8991\t5.791\t3.69\t5.366\t5.661\t2\n",
    "18.3\t15.89\t0.9108\t5.979\t3.755\t2.837\t5.962\t2\n",
    "18.94\t16.32\t0.8942\t6.144\t3.825\t2.908\t5.949\t2\n",
    "15.38\t14.9\t0.8706\t5.884\t3.268\t4.462\t5.795\t2\n",
    "16.16\t15.33\t0.8644\t5.845\t3.395\t4.266\t5.795\t2\n",
    "15.56\t14.89\t0.8823\t5.776\t3.408\t4.972\t5.847\t2\n",
    "15.38\t14.66\t0.899\t5.477\t3.465\t3.6\t5.439\t2\n",
    "17.36\t15.76\t0.8785\t6.145\t3.574\t3.526\t5.971\t2\n",
    "15.57\t15.15\t0.8527\t5.92\t3.231\t2.64\t5.879\t2\n",
    "15.6\t15.11\t0.858\t5.832\t3.286\t2.725\t5.752\t2\n",
    "16.23\t15.18\t0.885\t5.872\t3.472\t3.769\t5.922\t2\n",
    "13.07\t13.92\t0.848\t5.472\t2.994\t5.304\t5.395\t3\n",
    "13.32\t13.94\t0.8613\t5.541\t3.073\t7.035\t5.44\t3\n",
    "13.34\t13.95\t0.862\t5.389\t3.074\t5.995\t5.307\t3\n",
    "12.22\t13.32\t0.8652\t5.224\t2.967\t5.469\t5.221\t3\n",
    "11.82\t13.4\t0.8274\t5.314\t2.777\t4.471\t5.178\t3\n",
    "11.21\t13.13\t0.8167\t5.279\t2.687\t6.169\t5.275\t3\n",
    "11.43\t13.13\t0.8335\t5.176\t2.719\t2.221\t5.132\t3\n",
    "12.49\t13.46\t0.8658\t5.267\t2.967\t4.421\t5.002\t3\n",
    "12.7\t13.71\t0.8491\t5.386\t2.911\t3.26\t5.316\t3\n",
    "10.79\t12.93\t0.8107\t5.317\t2.648\t5.462\t5.194\t3\n",
    "11.83\t13.23\t0.8496\t5.263\t2.84\t5.195\t5.307\t3\n",
    "12.01\t13.52\t0.8249\t5.405\t2.776\t6.992\t5.27\t3\n",
    "12.26\t13.6\t0.8333\t5.408\t2.833\t4.756\t5.36\t3\n",
    "11.18\t13.04\t0.8266\t5.22\t2.693\t3.332\t5.001\t3\n",
    "11.36\t13.05\t0.8382\t5.175\t2.755\t4.048\t5.263\t3\n",
    "11.19\t13.05\t0.8253\t5.25\t2.675\t5.813\t5.219\t3\n",
    "11.34\t12.87\t0.8596\t5.053\t2.849\t3.347\t5.003\t3\n",
    "12.13\t13.73\t0.8081\t5.394\t2.745\t4.825\t5.22\t3\n",
    "11.75\t13.52\t0.8082\t5.444\t2.678\t4.378\t5.31\t3\n",
    "11.49\t13.22\t0.8263\t5.304\t2.695\t5.388\t5.31\t3\n",
    "12.54\t13.67\t0.8425\t5.451\t2.879\t3.082\t5.491\t3\n",
    "12.02\t13.33\t0.8503\t5.35\t2.81\t4.271\t5.308\t3\n",
    "12.05\t13.41\t0.8416\t5.267\t2.847\t4.988\t5.046\t3\n",
    "12.55\t13.57\t0.8558\t5.333\t2.968\t4.419\t5.176\t3\n",
    "11.14\t12.79\t0.8558\t5.011\t2.794\t6.388\t5.049\t3\n",
    "12.1\t13.15\t0.8793\t5.105\t2.941\t2.201\t5.056\t3\n",
    "12.44\t13.59\t0.8462\t5.319\t2.897\t4.924\t5.27\t3\n",
    "12.15\t13.45\t0.8443\t5.417\t2.837\t3.638\t5.338\t3\n",
    "11.35\t13.12\t0.8291\t5.176\t2.668\t4.337\t5.132\t3\n",
    "11.24\t13\t0.8359\t5.09\t2.715\t3.521\t5.088\t3\n",
    "11.02\t13\t0.8189\t5.325\t2.701\t6.735\t5.163\t3\n",
    "11.55\t13.1\t0.8455\t5.167\t2.845\t6.715\t4.956\t3\n",
    "11.27\t12.97\t0.8419\t5.088\t2.763\t4.309\t5\t3\n",
    "11.4\t13.08\t0.8375\t5.136\t2.763\t5.588\t5.089\t3\n",
    "10.83\t12.96\t0.8099\t5.278\t2.641\t5.182\t5.185\t3\n",
    "10.8\t12.57\t0.859\t4.981\t2.821\t4.773\t5.063\t3\n",
    "11.26\t13.01\t0.8355\t5.186\t2.71\t5.335\t5.092\t3\n",
    "10.74\t12.73\t0.8329\t5.145\t2.642\t4.702\t4.963\t3\n",
    "11.48\t13.05\t0.8473\t5.18\t2.758\t5.876\t5.002\t3\n",
    "12.21\t13.47\t0.8453\t5.357\t2.893\t1.661\t5.178\t3\n",
    "11.41\t12.95\t0.856\t5.09\t2.775\t4.957\t4.825\t3\n",
    "12.46\t13.41\t0.8706\t5.236\t3.017\t4.987\t5.147\t3\n",
    "12.19\t13.36\t0.8579\t5.24\t2.909\t4.857\t5.158\t3\n",
    "11.65\t13.07\t0.8575\t5.108\t2.85\t5.209\t5.135\t3\n",
    "12.89\t13.77\t0.8541\t5.495\t3.026\t6.185\t5.316\t3\n",
    "11.56\t13.31\t0.8198\t5.363\t2.683\t4.062\t5.182\t3\n",
    "11.81\t13.45\t0.8198\t5.413\t2.716\t4.898\t5.352\t3\n",
    "10.91\t12.8\t0.8372\t5.088\t2.675\t4.179\t4.956\t3\n",
    "11.23\t12.82\t0.8594\t5.089\t2.821\t7.524\t4.957\t3\n",
    "10.59\t12.41\t0.8648\t4.899\t2.787\t4.975\t4.794\t3\n",
    "10.93\t12.8\t0.839\t5.046\t2.717\t5.398\t5.045\t3\n",
    "11.27\t12.86\t0.8563\t5.091\t2.804\t3.985\t5.001\t3\n",
    "11.87\t13.02\t0.8795\t5.132\t2.953\t3.597\t5.132\t3\n",
    "10.82\t12.83\t0.8256\t5.18\t2.63\t4.853\t5.089\t3\n",
    "12.11\t13.27\t0.8639\t5.236\t2.975\t4.132\t5.012\t3\n",
    "12.8\t13.47\t0.886\t5.16\t3.126\t4.873\t4.914\t3\n",
    "12.79\t13.53\t0.8786\t5.224\t3.054\t5.483\t4.958\t3\n",
    "13.37\t13.78\t0.8849\t5.32\t3.128\t4.67\t5.091\t3\n",
    "12.62\t13.67\t0.8481\t5.41\t2.911\t3.306\t5.231\t3\n",
    "12.76\t13.38\t0.8964\t5.073\t3.155\t2.828\t4.83\t3\n",
    "12.38\t13.44\t0.8609\t5.219\t2.989\t5.472\t5.045\t3\n",
    "12.67\t13.32\t0.8977\t4.984\t3.135\t2.3\t4.745\t3\n",
    "11.18\t12.72\t0.868\t5.009\t2.81\t4.051\t4.828\t3\n",
    "12.7\t13.41\t0.8874\t5.183\t3.091\t8.456\t5\t3\n",
    "12.37\t13.47\t0.8567\t5.204\t2.96\t3.919\t5.001\t3\n",
    "12.19\t13.2\t0.8783\t5.137\t2.981\t3.631\t4.87\t3\n",
    "11.23\t12.88\t0.8511\t5.14\t2.795\t4.325\t5.003\t3\n",
    "13.2\t13.66\t0.8883\t5.236\t3.232\t8.315\t5.056\t3\n",
    "11.84\t13.21\t0.8521\t5.175\t2.836\t3.598\t5.044\t3\n",
    "12.3\t13.34\t0.8684\t5.243\t2.974\t5.637\t5.063\t3\"\"\")"
   ]
  },
  {
   "cell_type": "code",
   "execution_count": 110,
   "metadata": {
    "id": "yv31qX31rga4",
    "outputId": "17340b2e-8bcf-4edd-d4be-350e3213b0ca"
   },
   "outputs": [
    {
     "name": "stdout",
     "output_type": "stream",
     "text": [
      "(209, 8)\n"
     ]
    },
    {
     "data": {
      "text/html": [
       "<div>\n",
       "<style scoped>\n",
       "    .dataframe tbody tr th:only-of-type {\n",
       "        vertical-align: middle;\n",
       "    }\n",
       "\n",
       "    .dataframe tbody tr th {\n",
       "        vertical-align: top;\n",
       "    }\n",
       "\n",
       "    .dataframe thead th {\n",
       "        text-align: right;\n",
       "    }\n",
       "</style>\n",
       "<table border=\"1\" class=\"dataframe\">\n",
       "  <thead>\n",
       "    <tr style=\"text-align: right;\">\n",
       "      <th></th>\n",
       "      <th>Area</th>\n",
       "      <th>Perimeter</th>\n",
       "      <th>Compactness</th>\n",
       "      <th>Kernel.Length</th>\n",
       "      <th>Kernel.Width</th>\n",
       "      <th>Asymmetry.Coeff</th>\n",
       "      <th>Kernel.Groove</th>\n",
       "      <th>Type</th>\n",
       "    </tr>\n",
       "  </thead>\n",
       "  <tbody>\n",
       "    <tr>\n",
       "      <th>0</th>\n",
       "      <td>14.88</td>\n",
       "      <td>14.57</td>\n",
       "      <td>0.8811</td>\n",
       "      <td>5.554</td>\n",
       "      <td>3.333</td>\n",
       "      <td>1.018</td>\n",
       "      <td>4.956</td>\n",
       "      <td>1</td>\n",
       "    </tr>\n",
       "    <tr>\n",
       "      <th>1</th>\n",
       "      <td>14.29</td>\n",
       "      <td>14.09</td>\n",
       "      <td>0.9050</td>\n",
       "      <td>5.291</td>\n",
       "      <td>3.337</td>\n",
       "      <td>2.699</td>\n",
       "      <td>4.825</td>\n",
       "      <td>1</td>\n",
       "    </tr>\n",
       "    <tr>\n",
       "      <th>2</th>\n",
       "      <td>13.84</td>\n",
       "      <td>13.94</td>\n",
       "      <td>0.8955</td>\n",
       "      <td>5.324</td>\n",
       "      <td>3.379</td>\n",
       "      <td>2.259</td>\n",
       "      <td>4.805</td>\n",
       "      <td>1</td>\n",
       "    </tr>\n",
       "    <tr>\n",
       "      <th>3</th>\n",
       "      <td>16.14</td>\n",
       "      <td>14.99</td>\n",
       "      <td>0.9034</td>\n",
       "      <td>5.658</td>\n",
       "      <td>3.562</td>\n",
       "      <td>1.355</td>\n",
       "      <td>5.175</td>\n",
       "      <td>1</td>\n",
       "    </tr>\n",
       "    <tr>\n",
       "      <th>4</th>\n",
       "      <td>14.38</td>\n",
       "      <td>14.21</td>\n",
       "      <td>0.8951</td>\n",
       "      <td>5.386</td>\n",
       "      <td>3.312</td>\n",
       "      <td>2.462</td>\n",
       "      <td>4.956</td>\n",
       "      <td>1</td>\n",
       "    </tr>\n",
       "  </tbody>\n",
       "</table>\n",
       "</div>"
      ],
      "text/plain": [
       "    Area  Perimeter  Compactness  Kernel.Length  Kernel.Width  \\\n",
       "0  14.88      14.57       0.8811          5.554         3.333   \n",
       "1  14.29      14.09       0.9050          5.291         3.337   \n",
       "2  13.84      13.94       0.8955          5.324         3.379   \n",
       "3  16.14      14.99       0.9034          5.658         3.562   \n",
       "4  14.38      14.21       0.8951          5.386         3.312   \n",
       "\n",
       "   Asymmetry.Coeff  Kernel.Groove  Type  \n",
       "0            1.018          4.956     1  \n",
       "1            2.699          4.825     1  \n",
       "2            2.259          4.805     1  \n",
       "3            1.355          5.175     1  \n",
       "4            2.462          4.956     1  "
      ]
     },
     "execution_count": 110,
     "metadata": {},
     "output_type": "execute_result"
    }
   ],
   "source": [
    "col_names = ['Area','Perimeter','Compactness','Kernel.Length',\\\n",
    "            'Kernel.Width','Asymmetry.Coeff','Kernel.Groove','Type']\n",
    "wheat_df = pd.read_csv(seeds_dataset, delimiter='\\t')\n",
    "wheat_df.columns = col_names\n",
    "print(wheat_df.shape)\n",
    "wheat_df.head()"
   ]
  },
  {
   "cell_type": "code",
   "execution_count": 111,
   "metadata": {
    "id": "SvRpamdgrga5",
    "outputId": "b2da93e3-36cc-4be3-fa66-1b3608f3ee51"
   },
   "outputs": [
    {
     "data": {
      "text/plain": [
       "3    70\n",
       "2    70\n",
       "1    69\n",
       "Name: Type, dtype: int64"
      ]
     },
     "execution_count": 111,
     "metadata": {},
     "output_type": "execute_result"
    }
   ],
   "source": [
    "wheat_df['Type'].value_counts()"
   ]
  },
  {
   "cell_type": "code",
   "execution_count": 112,
   "metadata": {
    "id": "t1PPHsdLrga7",
    "outputId": "cc553b91-b7e3-4dc4-e0a5-3883978e409a"
   },
   "outputs": [
    {
     "name": "stdout",
     "output_type": "stream",
     "text": [
      "Index(['Area', 'Perimeter', 'Compactness', 'Kernel.Length', 'Kernel.Width',\n",
      "       'Asymmetry.Coeff', 'Kernel.Groove'],\n",
      "      dtype='object')\n"
     ]
    },
    {
     "data": {
      "text/html": [
       "<div>\n",
       "<style scoped>\n",
       "    .dataframe tbody tr th:only-of-type {\n",
       "        vertical-align: middle;\n",
       "    }\n",
       "\n",
       "    .dataframe tbody tr th {\n",
       "        vertical-align: top;\n",
       "    }\n",
       "\n",
       "    .dataframe thead th {\n",
       "        text-align: right;\n",
       "    }\n",
       "</style>\n",
       "<table border=\"1\" class=\"dataframe\">\n",
       "  <thead>\n",
       "    <tr style=\"text-align: right;\">\n",
       "      <th></th>\n",
       "      <th>Area</th>\n",
       "      <th>Perimeter</th>\n",
       "      <th>Compactness</th>\n",
       "      <th>Kernel.Length</th>\n",
       "      <th>Kernel.Width</th>\n",
       "      <th>Asymmetry.Coeff</th>\n",
       "      <th>Kernel.Groove</th>\n",
       "    </tr>\n",
       "  </thead>\n",
       "  <tbody>\n",
       "    <tr>\n",
       "      <th>0</th>\n",
       "      <td>14.88</td>\n",
       "      <td>14.57</td>\n",
       "      <td>0.8811</td>\n",
       "      <td>5.554</td>\n",
       "      <td>3.333</td>\n",
       "      <td>1.018</td>\n",
       "      <td>4.956</td>\n",
       "    </tr>\n",
       "    <tr>\n",
       "      <th>1</th>\n",
       "      <td>14.29</td>\n",
       "      <td>14.09</td>\n",
       "      <td>0.9050</td>\n",
       "      <td>5.291</td>\n",
       "      <td>3.337</td>\n",
       "      <td>2.699</td>\n",
       "      <td>4.825</td>\n",
       "    </tr>\n",
       "    <tr>\n",
       "      <th>2</th>\n",
       "      <td>13.84</td>\n",
       "      <td>13.94</td>\n",
       "      <td>0.8955</td>\n",
       "      <td>5.324</td>\n",
       "      <td>3.379</td>\n",
       "      <td>2.259</td>\n",
       "      <td>4.805</td>\n",
       "    </tr>\n",
       "    <tr>\n",
       "      <th>3</th>\n",
       "      <td>16.14</td>\n",
       "      <td>14.99</td>\n",
       "      <td>0.9034</td>\n",
       "      <td>5.658</td>\n",
       "      <td>3.562</td>\n",
       "      <td>1.355</td>\n",
       "      <td>5.175</td>\n",
       "    </tr>\n",
       "    <tr>\n",
       "      <th>4</th>\n",
       "      <td>14.38</td>\n",
       "      <td>14.21</td>\n",
       "      <td>0.8951</td>\n",
       "      <td>5.386</td>\n",
       "      <td>3.312</td>\n",
       "      <td>2.462</td>\n",
       "      <td>4.956</td>\n",
       "    </tr>\n",
       "  </tbody>\n",
       "</table>\n",
       "</div>"
      ],
      "text/plain": [
       "    Area  Perimeter  Compactness  Kernel.Length  Kernel.Width  \\\n",
       "0  14.88      14.57       0.8811          5.554         3.333   \n",
       "1  14.29      14.09       0.9050          5.291         3.337   \n",
       "2  13.84      13.94       0.8955          5.324         3.379   \n",
       "3  16.14      14.99       0.9034          5.658         3.562   \n",
       "4  14.38      14.21       0.8951          5.386         3.312   \n",
       "\n",
       "   Asymmetry.Coeff  Kernel.Groove  \n",
       "0            1.018          4.956  \n",
       "1            2.699          4.825  \n",
       "2            2.259          4.805  \n",
       "3            1.355          5.175  \n",
       "4            2.462          4.956  "
      ]
     },
     "execution_count": 112,
     "metadata": {},
     "output_type": "execute_result"
    }
   ],
   "source": [
    "feature_df = wheat_df.drop(columns=['Type'],axis=1, inplace=False)\n",
    "print(feature_df.columns)\n",
    "feature_df.head()"
   ]
  },
  {
   "cell_type": "code",
   "execution_count": 115,
   "metadata": {
    "id": "vS5ESEDvrga7",
    "outputId": "d14b48b5-5b66-44d2-d48b-879a7d77a5c9"
   },
   "outputs": [
    {
     "data": {
      "text/plain": [
       "KMeans(max_iter=500, n_clusters=3, random_state=0)"
      ]
     },
     "execution_count": 115,
     "metadata": {},
     "output_type": "execute_result"
    }
   ],
   "source": [
    "#KMeans 모델 생성\n",
    "model = KMeans(max_iter=500, n_clusters=3, random_state=0)\n",
    "model.fit(feature_df)"
   ]
  },
  {
   "cell_type": "code",
   "execution_count": 116,
   "metadata": {
    "id": "N6pRHeZOrga8",
    "outputId": "ac806f64-6975-4108-e961-f9392f9eb71b"
   },
   "outputs": [
    {
     "name": "stdout",
     "output_type": "stream",
     "text": [
      "[0 0 0 0 0 0 0 0 0 0 0 0 0 0 0 2 0 0 2 0 0 0 0 0 0 2 0 0 0 0 0 0 0 0 0 0 1\n",
      " 0 2 0 0 0 0 0 0 0 0 0 0 0 0 0 0 0 0 0 0 0 0 2 2 2 2 0 0 0 0 0 2 1 1 1 1 1\n",
      " 1 1 1 1 1 1 1 1 1 1 1 1 1 1 1 1 1 1 1 1 1 1 1 1 1 0 1 1 1 1 1 1 1 1 1 1 1\n",
      " 1 1 1 1 1 1 1 1 1 1 0 1 0 1 1 1 1 1 1 1 0 0 0 0 1 0 0 0 2 2 2 2 2 2 2 2 2\n",
      " 2 2 2 2 2 2 2 2 2 2 2 2 2 2 2 2 2 2 2 2 2 2 2 2 2 2 2 2 2 2 0 2 2 2 2 2 2\n",
      " 2 2 2 2 2 2 2 2 2 2 2 2 2 2 2 0 2 2 2 2 2 2 2 2]\n"
     ]
    },
    {
     "data": {
      "text/html": [
       "<div>\n",
       "<style scoped>\n",
       "    .dataframe tbody tr th:only-of-type {\n",
       "        vertical-align: middle;\n",
       "    }\n",
       "\n",
       "    .dataframe tbody tr th {\n",
       "        vertical-align: top;\n",
       "    }\n",
       "\n",
       "    .dataframe thead th {\n",
       "        text-align: right;\n",
       "    }\n",
       "</style>\n",
       "<table border=\"1\" class=\"dataframe\">\n",
       "  <thead>\n",
       "    <tr style=\"text-align: right;\">\n",
       "      <th></th>\n",
       "      <th>Area</th>\n",
       "      <th>Perimeter</th>\n",
       "      <th>Compactness</th>\n",
       "      <th>Kernel.Length</th>\n",
       "      <th>Kernel.Width</th>\n",
       "      <th>Asymmetry.Coeff</th>\n",
       "      <th>Kernel.Groove</th>\n",
       "      <th>Type</th>\n",
       "      <th>cluster</th>\n",
       "    </tr>\n",
       "  </thead>\n",
       "  <tbody>\n",
       "    <tr>\n",
       "      <th>0</th>\n",
       "      <td>14.88</td>\n",
       "      <td>14.57</td>\n",
       "      <td>0.8811</td>\n",
       "      <td>5.554</td>\n",
       "      <td>3.333</td>\n",
       "      <td>1.018</td>\n",
       "      <td>4.956</td>\n",
       "      <td>1</td>\n",
       "      <td>0</td>\n",
       "    </tr>\n",
       "    <tr>\n",
       "      <th>1</th>\n",
       "      <td>14.29</td>\n",
       "      <td>14.09</td>\n",
       "      <td>0.9050</td>\n",
       "      <td>5.291</td>\n",
       "      <td>3.337</td>\n",
       "      <td>2.699</td>\n",
       "      <td>4.825</td>\n",
       "      <td>1</td>\n",
       "      <td>0</td>\n",
       "    </tr>\n",
       "    <tr>\n",
       "      <th>2</th>\n",
       "      <td>13.84</td>\n",
       "      <td>13.94</td>\n",
       "      <td>0.8955</td>\n",
       "      <td>5.324</td>\n",
       "      <td>3.379</td>\n",
       "      <td>2.259</td>\n",
       "      <td>4.805</td>\n",
       "      <td>1</td>\n",
       "      <td>0</td>\n",
       "    </tr>\n",
       "    <tr>\n",
       "      <th>3</th>\n",
       "      <td>16.14</td>\n",
       "      <td>14.99</td>\n",
       "      <td>0.9034</td>\n",
       "      <td>5.658</td>\n",
       "      <td>3.562</td>\n",
       "      <td>1.355</td>\n",
       "      <td>5.175</td>\n",
       "      <td>1</td>\n",
       "      <td>0</td>\n",
       "    </tr>\n",
       "    <tr>\n",
       "      <th>4</th>\n",
       "      <td>14.38</td>\n",
       "      <td>14.21</td>\n",
       "      <td>0.8951</td>\n",
       "      <td>5.386</td>\n",
       "      <td>3.312</td>\n",
       "      <td>2.462</td>\n",
       "      <td>4.956</td>\n",
       "      <td>1</td>\n",
       "      <td>0</td>\n",
       "    </tr>\n",
       "  </tbody>\n",
       "</table>\n",
       "</div>"
      ],
      "text/plain": [
       "    Area  Perimeter  Compactness  Kernel.Length  Kernel.Width  \\\n",
       "0  14.88      14.57       0.8811          5.554         3.333   \n",
       "1  14.29      14.09       0.9050          5.291         3.337   \n",
       "2  13.84      13.94       0.8955          5.324         3.379   \n",
       "3  16.14      14.99       0.9034          5.658         3.562   \n",
       "4  14.38      14.21       0.8951          5.386         3.312   \n",
       "\n",
       "   Asymmetry.Coeff  Kernel.Groove  Type  cluster  \n",
       "0            1.018          4.956     1        0  \n",
       "1            2.699          4.825     1        0  \n",
       "2            2.259          4.805     1        0  \n",
       "3            1.355          5.175     1        0  \n",
       "4            2.462          4.956     1        0  "
      ]
     },
     "execution_count": 116,
     "metadata": {},
     "output_type": "execute_result"
    }
   ],
   "source": [
    "print(model.labels_)\n",
    "wheat_df['cluster'] = model.labels_\n",
    "wheat_df.head()"
   ]
  },
  {
   "cell_type": "code",
   "execution_count": 117,
   "metadata": {
    "id": "9Hp4YV7Wrga8",
    "outputId": "bb342832-ac1f-4ecf-c148-02e479e8fe40"
   },
   "outputs": [
    {
     "data": {
      "text/plain": [
       "Type  cluster\n",
       "1     0          59\n",
       "      1           1\n",
       "      2           9\n",
       "2     0          10\n",
       "      1          60\n",
       "3     0           2\n",
       "      2          68\n",
       "Name: Area, dtype: int64"
      ]
     },
     "execution_count": 117,
     "metadata": {},
     "output_type": "execute_result"
    }
   ],
   "source": [
    "wheat_group = wheat_df.groupby(['Type','cluster'])['Area'].count()\n",
    "wheat_group"
   ]
  },
  {
   "cell_type": "code",
   "execution_count": 118,
   "metadata": {
    "id": "Ps9J0Xszrga9",
    "outputId": "c90d01b9-05e9-4556-9d1d-edbc50befa24"
   },
   "outputs": [
    {
     "data": {
      "text/plain": [
       "2    77\n",
       "0    71\n",
       "1    61\n",
       "Name: cluster, dtype: int64"
      ]
     },
     "execution_count": 118,
     "metadata": {},
     "output_type": "execute_result"
    }
   ],
   "source": [
    "wheat_df['cluster'].value_counts()"
   ]
  },
  {
   "cell_type": "code",
   "execution_count": 119,
   "metadata": {
    "id": "yjwI2xJ1rga9",
    "outputId": "7935e4d3-1c44-446e-96cd-8a6b91fbc3b9"
   },
   "outputs": [
    {
     "name": "stdout",
     "output_type": "stream",
     "text": [
      "<class 'numpy.ndarray'>\n",
      "2\n"
     ]
    },
    {
     "data": {
      "text/plain": [
       "array([[14.88  , 14.57  ,  0.8811, ...,  3.333 ,  1.018 ,  4.956 ],\n",
       "       [14.29  , 14.09  ,  0.905 , ...,  3.337 ,  2.699 ,  4.825 ],\n",
       "       [13.84  , 13.94  ,  0.8955, ...,  3.379 ,  2.259 ,  4.805 ],\n",
       "       ...,\n",
       "       [13.2   , 13.66  ,  0.8883, ...,  3.232 ,  8.315 ,  5.056 ],\n",
       "       [11.84  , 13.21  ,  0.8521, ...,  2.836 ,  3.598 ,  5.044 ],\n",
       "       [12.3   , 13.34  ,  0.8684, ...,  2.974 ,  5.637 ,  5.063 ]])"
      ]
     },
     "execution_count": 119,
     "metadata": {},
     "output_type": "execute_result"
    }
   ],
   "source": [
    "print(type(feature_df.values))\n",
    "pca_data = feature_df.values\n",
    "#몇차원인지를 확인하는 속성\n",
    "print(pca_data.ndim)\n",
    "pca_data"
   ]
  },
  {
   "cell_type": "code",
   "execution_count": 122,
   "metadata": {
    "id": "aCHImf6Xrga-",
    "outputId": "70e66627-b6c4-47db-c202-269e9a5cca2d"
   },
   "outputs": [],
   "source": [
    "#모델생성\n",
    "pca = PCA(n_components=2)\n",
    "#학습하기 2개의 컴포넌트로 차원축소\n",
    "pca_transformed = pca.fit_transform(feature_df.values)"
   ]
  },
  {
   "cell_type": "code",
   "execution_count": 123,
   "metadata": {
    "id": "MT2OPJ2vrga-",
    "outputId": "ecd59563-d3b9-4cb0-ea56-88c38d9f923a"
   },
   "outputs": [
    {
     "data": {
      "text/html": [
       "<div>\n",
       "<style scoped>\n",
       "    .dataframe tbody tr th:only-of-type {\n",
       "        vertical-align: middle;\n",
       "    }\n",
       "\n",
       "    .dataframe tbody tr th {\n",
       "        vertical-align: top;\n",
       "    }\n",
       "\n",
       "    .dataframe thead th {\n",
       "        text-align: right;\n",
       "    }\n",
       "</style>\n",
       "<table border=\"1\" class=\"dataframe\">\n",
       "  <thead>\n",
       "    <tr style=\"text-align: right;\">\n",
       "      <th></th>\n",
       "      <th>Area</th>\n",
       "      <th>Perimeter</th>\n",
       "      <th>Compactness</th>\n",
       "      <th>Kernel.Length</th>\n",
       "      <th>Kernel.Width</th>\n",
       "      <th>Asymmetry.Coeff</th>\n",
       "      <th>Kernel.Groove</th>\n",
       "      <th>Type</th>\n",
       "      <th>cluster</th>\n",
       "      <th>pca_x</th>\n",
       "      <th>pca_y</th>\n",
       "    </tr>\n",
       "  </thead>\n",
       "  <tbody>\n",
       "    <tr>\n",
       "      <th>0</th>\n",
       "      <td>14.88</td>\n",
       "      <td>14.57</td>\n",
       "      <td>0.8811</td>\n",
       "      <td>5.554</td>\n",
       "      <td>3.333</td>\n",
       "      <td>1.018</td>\n",
       "      <td>4.956</td>\n",
       "      <td>1</td>\n",
       "      <td>0</td>\n",
       "      <td>0.317423</td>\n",
       "      <td>-2.696038</td>\n",
       "    </tr>\n",
       "    <tr>\n",
       "      <th>1</th>\n",
       "      <td>14.29</td>\n",
       "      <td>14.09</td>\n",
       "      <td>0.9050</td>\n",
       "      <td>5.291</td>\n",
       "      <td>3.337</td>\n",
       "      <td>2.699</td>\n",
       "      <td>4.825</td>\n",
       "      <td>1</td>\n",
       "      <td>0</td>\n",
       "      <td>-0.657925</td>\n",
       "      <td>-1.137870</td>\n",
       "    </tr>\n",
       "    <tr>\n",
       "      <th>2</th>\n",
       "      <td>13.84</td>\n",
       "      <td>13.94</td>\n",
       "      <td>0.8955</td>\n",
       "      <td>5.324</td>\n",
       "      <td>3.379</td>\n",
       "      <td>2.259</td>\n",
       "      <td>4.805</td>\n",
       "      <td>1</td>\n",
       "      <td>0</td>\n",
       "      <td>-1.052957</td>\n",
       "      <td>-1.627343</td>\n",
       "    </tr>\n",
       "    <tr>\n",
       "      <th>3</th>\n",
       "      <td>16.14</td>\n",
       "      <td>14.99</td>\n",
       "      <td>0.9034</td>\n",
       "      <td>5.658</td>\n",
       "      <td>3.562</td>\n",
       "      <td>1.355</td>\n",
       "      <td>5.175</td>\n",
       "      <td>1</td>\n",
       "      <td>0</td>\n",
       "      <td>1.622026</td>\n",
       "      <td>-2.190952</td>\n",
       "    </tr>\n",
       "    <tr>\n",
       "      <th>4</th>\n",
       "      <td>14.38</td>\n",
       "      <td>14.21</td>\n",
       "      <td>0.8951</td>\n",
       "      <td>5.386</td>\n",
       "      <td>3.312</td>\n",
       "      <td>2.462</td>\n",
       "      <td>4.956</td>\n",
       "      <td>1</td>\n",
       "      <td>0</td>\n",
       "      <td>-0.474469</td>\n",
       "      <td>-1.342968</td>\n",
       "    </tr>\n",
       "  </tbody>\n",
       "</table>\n",
       "</div>"
      ],
      "text/plain": [
       "    Area  Perimeter  Compactness  Kernel.Length  Kernel.Width  \\\n",
       "0  14.88      14.57       0.8811          5.554         3.333   \n",
       "1  14.29      14.09       0.9050          5.291         3.337   \n",
       "2  13.84      13.94       0.8955          5.324         3.379   \n",
       "3  16.14      14.99       0.9034          5.658         3.562   \n",
       "4  14.38      14.21       0.8951          5.386         3.312   \n",
       "\n",
       "   Asymmetry.Coeff  Kernel.Groove  Type  cluster     pca_x     pca_y  \n",
       "0            1.018          4.956     1        0  0.317423 -2.696038  \n",
       "1            2.699          4.825     1        0 -0.657925 -1.137870  \n",
       "2            2.259          4.805     1        0 -1.052957 -1.627343  \n",
       "3            1.355          5.175     1        0  1.622026 -2.190952  \n",
       "4            2.462          4.956     1        0 -0.474469 -1.342968  "
      ]
     },
     "execution_count": 123,
     "metadata": {},
     "output_type": "execute_result"
    }
   ],
   "source": [
    "wheat_df['pca_x'] = pca_transformed[:,0]\n",
    "wheat_df['pca_y'] = pca_transformed[:,1]\n",
    "wheat_df.head()"
   ]
  },
  {
   "cell_type": "code",
   "execution_count": 124,
   "metadata": {
    "id": "FKH0PyXbrga-",
    "outputId": "3c8a5d30-91a9-457b-a1b5-cba25041eb59"
   },
   "outputs": [
    {
     "data": {
      "text/plain": [
       "Text(0.5, 1.0, 'Wheat Data 3 Clusters Visualization by 2 PCA Component')"
      ]
     },
     "execution_count": 124,
     "metadata": {},
     "output_type": "execute_result"
    },
    {
     "data": {
      "image/png": "[encoded data removed]",
      "text/plain": [
       "<Figure size 432x288 with 1 Axes>"
      ]
     },
     "metadata": {
      "needs_background": "light"
     },
     "output_type": "display_data"
    }
   ],
   "source": [
    "marker0_index = wheat_df[wheat_df['cluster'] == 0].index\n",
    "marker1_index = wheat_df[wheat_df['cluster'] == 1].index\n",
    "marker2_index = wheat_df[wheat_df['cluster'] == 2].index\n",
    "\n",
    "plt.scatter(x=wheat_df.loc[marker0_index,'pca_x'],\\\n",
    "            y=wheat_df.loc[marker0_index,'pca_y'], marker='o')\n",
    "plt.scatter(x=wheat_df.loc[marker1_index,'pca_x'],\\\n",
    "            y=wheat_df.loc[marker1_index,'pca_y'], marker='s')\n",
    "plt.scatter(x=wheat_df.loc[marker2_index,'pca_x'],\\\n",
    "            y=wheat_df.loc[marker2_index,'pca_y'], marker='^')\n",
    "plt.xlabel('PCA1')\n",
    "plt.ylabel('PCA2')\n",
    "plt.title('Wheat Data 3 Clusters Visualization by 2 PCA Component')"
   ]
  },
  {
   "cell_type": "code",
   "execution_count": null,
   "metadata": {},
   "outputs": [],
   "source": []
  }
 ],
 "metadata": {
  "colab": {
   "collapsed_sections": [],
   "name": "9.Iris_dataset_비지도학습_군집화_차원축소.ipynb",
   "provenance": []
  },
  "kernelspec": {
   "display_name": "Python 3",
   "language": "python",
   "name": "python3"
  },
  "language_info": {
   "codemirror_mode": {
    "name": "ipython",
    "version": 3
   },
   "file_extension": ".py",
   "mimetype": "text/x-python",
   "name": "python",
   "nbconvert_exporter": "python",
   "pygments_lexer": "ipython3",
   "version": "3.8.5"
  }
 },
 "nbformat": 4,
 "nbformat_minor": 1
}
