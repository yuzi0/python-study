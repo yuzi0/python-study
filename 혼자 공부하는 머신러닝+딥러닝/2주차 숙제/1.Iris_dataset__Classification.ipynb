{
 "cells": [
  {
   "cell_type": "markdown",
   "metadata": {},
   "source": [
    "### 지도학습 분류\n",
    "* iris dataset(붓꽃데이터)를 사용하여 품종을 예측하기\n",
    "* 종속변수(레이블) 있는 데이터 이므로 지도학습\n",
    "* 붓꽃 데이터의 종속변수(레이블)은 품종(setosa, vesicolor, virginica)\n",
    "* 붓꽃 데이터의 독립변수 4개의 특성(feature)가 있다\n",
    " - 꽃받침의 길이와 폭 (sepal_length, sepal_width)\n",
    " - 꽃잎의 길이와 폭(petal_length, petal_width)"
   ]
  },
  {
   "cell_type": "markdown",
   "metadata": {},
   "source": [
    "### 1. Iris 데이터 Load"
   ]
  },
  {
   "cell_type": "code",
   "execution_count": null,
   "metadata": {},
   "outputs": [],
   "source": []
  },
  {
   "cell_type": "markdown",
   "metadata": {},
   "source": [
    "### 2. 훈련데이터와 테스트데이터 나누기\n",
    "* 훈련데이터는 머신러닝 모델을 만들때(학습할때) 사용하고\n",
    "* 테스트데이터(검증데이터)는 모델이 얼마나 잘 동작하는 측정할 때 사용한다\n",
    "* 150건 데이터를 75%는 훈련데이터로, 25%는 검증데이터로 나눈다\n",
    "  - scikit-learn에서 제공하는 train_test_split() 함수를 사용한다\n",
    "  - 검증데이터 수치를 바꾸고 싶으면 test_size=0.25(default)를 변경한다\n",
    "* 훈련, 검증 데이터 모두 독립변수와 종속변수로 나누어야 한다\n",
    "  - 독립변수는 입력데이터 이므로 X 로 표시하고\n",
    "  - 종속변수는 출력데이터 이므로 y 로 표시한다\n",
    "  - 훈련데이터 독립변수는 X_train, 종속변수는 y_train\n",
    "  - 테스트데이터 독립변수는 X_test, 종속변수는 y_test  "
   ]
  },
  {
   "cell_type": "code",
   "execution_count": null,
   "metadata": {},
   "outputs": [],
   "source": []
  },
  {
   "cell_type": "markdown",
   "metadata": {},
   "source": [
    "### 3. 학습방법 선택\n",
    "* k-최근접이웃 알고리즘 선택\n",
    " - k-nearest neighbors 가장 가까운 거리의 이웃 데이터를 보고 판단\n",
    " - 사이킷런에서 제공하는 KNeighborsClassifier 클래스를 사용\n",
    " - 학습할때는 fit(X_train, y_train) 함수 \n",
    " - 예측할때는 prediction = predict(X_test)\n",
    " - prediction 과 y_test 를 비교해서 예측점수를 계산한다"
   ]
  },
  {
   "cell_type": "code",
   "execution_count": null,
   "metadata": {},
   "outputs": [],
   "source": []
  }
 ],
 "metadata": {
  "kernelspec": {
   "display_name": "Python 3 (ipykernel)",
   "language": "python",
   "name": "python3"
  },
  "language_info": {
   "codemirror_mode": {
    "name": "ipython",
    "version": 3
   },
   "file_extension": ".py",
   "mimetype": "text/x-python",
   "name": "python",
   "nbconvert_exporter": "python",
   "pygments_lexer": "ipython3",
   "version": "3.10.1"
  }
 },
 "nbformat": 4,
 "nbformat_minor": 4
}
