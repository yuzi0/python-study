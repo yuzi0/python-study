{
 "cells": [
  {
   "cell_type": "code",
   "execution_count": 1,
   "id": "e1160413",
   "metadata": {},
   "outputs": [],
   "source": [
    "# 기초문법 #9. 튜플, 집합"
   ]
  },
  {
   "cell_type": "code",
   "execution_count": 2,
   "id": "c4e4f11d",
   "metadata": {},
   "outputs": [
    {
     "name": "stdout",
     "output_type": "stream",
     "text": [
      "(1, 2)\n",
      "('python', 2, 5)\n",
      "(1, 2, (3, 4, 5))\n"
     ]
    }
   ],
   "source": [
    "# 튜플\n",
    "\"\"\"\n",
    "    리스트는 [ ] 로, 튜플은 ( ) 로 둘러싼다.\n",
    "    리스트는 값의 생성,삭제,수정이 가능하지만 튜플은 값을 바꿀 수 없다.\n",
    "\"\"\"\n",
    "\n",
    "example_tupleOne = (1, 2)\n",
    "example_tupleTwo = (\"python\", 2, 5)\n",
    "example_tupleThree = (1, 2, (3, 4, 5))\n",
    "\n",
    "print(example_tupleOne)\n",
    "print(example_tupleTwo)\n",
    "print(example_tupleThree)"
   ]
  },
  {
   "cell_type": "code",
   "execution_count": 4,
   "id": "2a81f039",
   "metadata": {},
   "outputs": [
    {
     "name": "stdout",
     "output_type": "stream",
     "text": [
      "(1, 2, 3, 4, 5, 6, 7)\n",
      "(1, 2, 3, 1, 2, 3)\n"
     ]
    }
   ],
   "source": [
    "\"\"\"\n",
    "    값을 추가, 삭제할 수 없지만\n",
    "    + , * 연산으로 튜플을 추가, 반복할 수 있다.\n",
    "\"\"\"\n",
    "\n",
    "example_tupleOne = (1, 2, 3)\n",
    "example_tupleTwo = (4, 5, 6, 7)\n",
    "\n",
    "plus_tuple = example_tupleOne + example_tupleTwo\n",
    "multi_tuple = example_tupleOne * 2\n",
    "\n",
    "print(plus_tuple)\n",
    "print(multi_tuple)"
   ]
  },
  {
   "cell_type": "code",
   "execution_count": 5,
   "id": "4b564608",
   "metadata": {},
   "outputs": [
    {
     "name": "stdout",
     "output_type": "stream",
     "text": [
      "(1, 5)\n"
     ]
    }
   ],
   "source": [
    "\"\"\"\n",
    "    튜플의 장점 - 함수의 리턴값을 한꺼번에 여러개 받을 수 있다.\n",
    "    \n",
    "    콤마로 분리해, 리스트에서 두 개의 값을 함수의 return값으로 사용하고 있는데\n",
    "    이 경우, 함수의 리턴값이 자동으로 튜플로 처리된다\n",
    "\"\"\"\n",
    "\n",
    "def minmax(ex_lst):\n",
    "    return min(ex_lst), max(ex_lst)\n",
    "\n",
    "ex_lst = [1,2,3,4,5]\n",
    "result_tuple = minmax(ex_lst)\n",
    "\n",
    "print(result_tuple)"
   ]
  },
  {
   "cell_type": "code",
   "execution_count": 6,
   "id": "9caf9cd5",
   "metadata": {},
   "outputs": [
    {
     "name": "stdout",
     "output_type": "stream",
     "text": [
      "{1, 2, 3}\n",
      "{1, 4, 5, 6, 7}\n",
      "{'H', 'o', 'W', 'l', 'r', ' ', 'd', '!', 'e'}\n"
     ]
    }
   ],
   "source": [
    "# 집합\n",
    "\"\"\"\n",
    "    집합은 {} 또는 set()을 통해 생성할 수 있다.\n",
    "    다만 {} 를 이용해 생성할 때 원소를 넣지 않으면 딕셔너리가 생성되므로 주의해야 한다\n",
    "    \n",
    "    - 중복 값 X\n",
    "    - 순서 존재 \n",
    "    - 인덱스를 통한 값 접근 X\n",
    "\"\"\"\n",
    "\n",
    "setOne = {1,2,3}\n",
    "setTwo = set([7,6,5,4,1])\n",
    "setThree = set(\"Hello World!\")\n",
    "\n",
    "print(setOne)\n",
    "print(setTwo)\n",
    "print(setThree)"
   ]
  },
  {
   "cell_type": "code",
   "execution_count": 7,
   "id": "c5ca0966",
   "metadata": {},
   "outputs": [
    {
     "name": "stdout",
     "output_type": "stream",
     "text": [
      "{2, 3}\n",
      "{2, 3}\n"
     ]
    }
   ],
   "source": [
    "\"\"\"\n",
    "    교집합 - '&' 기호 또는 intersection 함수\n",
    "\"\"\"\n",
    "\n",
    "setOne = {1,2,3}\n",
    "setTwo = {2,3,4}\n",
    "\n",
    "print(setOne & setTwo)\n",
    "print(setOne.intersection(setTwo))"
   ]
  },
  {
   "cell_type": "code",
   "execution_count": 8,
   "id": "268879c8",
   "metadata": {},
   "outputs": [
    {
     "name": "stdout",
     "output_type": "stream",
     "text": [
      "{1, 2, 3, 4}\n",
      "{1, 2, 3, 4}\n"
     ]
    }
   ],
   "source": [
    "\"\"\"\n",
    "    합집합 - '|' 기호 또는 union 함수\n",
    "\"\"\"\n",
    "\n",
    "setOne = {1,2,3}\n",
    "setTwo = {2,3,4}\n",
    "\n",
    "print(setOne | setTwo)\n",
    "print(setOne.union(setTwo))"
   ]
  },
  {
   "cell_type": "code",
   "execution_count": 9,
   "id": "65cab3f2",
   "metadata": {},
   "outputs": [
    {
     "name": "stdout",
     "output_type": "stream",
     "text": [
      "{1}\n",
      "{1}\n"
     ]
    }
   ],
   "source": [
    "\"\"\"\n",
    "    차집합 - '-' 기호 또는 difference 함수\n",
    "\"\"\"\n",
    "\n",
    "setOne = {1,2,3}\n",
    "setTwo = {2,3,4}\n",
    "\n",
    "print(setOne - setTwo)\n",
    "print(setOne.difference(setTwo))"
   ]
  },
  {
   "cell_type": "code",
   "execution_count": 11,
   "id": "51c12742",
   "metadata": {},
   "outputs": [
    {
     "name": "stdout",
     "output_type": "stream",
     "text": [
      "{1, 2, 3}\n",
      "{2, 3, 4}\n",
      "{1, 2, 3, 5}\n",
      "{2, 3, 4, 7, 8, 9}\n",
      "{3, 4, 7, 8, 9}\n"
     ]
    }
   ],
   "source": [
    "\"\"\"\n",
    "    집합과 관련된 함수\n",
    "    \n",
    "    값의 추가\n",
    "    - add 함수 : 하나의 값을 추가\n",
    "    - update 함수 : 여러개의 값을 추가\n",
    "    \n",
    "    값의 제거\n",
    "    - remove 함수 : 원소 제거\n",
    "\"\"\"\n",
    "\n",
    "setOne = {1,2,3}\n",
    "setTwo = {2,3,4}\n",
    "\n",
    "print(setOne)\n",
    "print(setTwo)\n",
    "\n",
    "setOne.add(5)\n",
    "setTwo.update([9,8,7])\n",
    "\n",
    "print(setOne)\n",
    "print(setTwo)\n",
    "\n",
    "setTwo.remove(2)\n",
    "print(setTwo)"
   ]
  },
  {
   "cell_type": "code",
   "execution_count": null,
   "id": "2b578c23",
   "metadata": {},
   "outputs": [],
   "source": []
  }
 ],
 "metadata": {
  "kernelspec": {
   "display_name": "Python 3 (ipykernel)",
   "language": "python",
   "name": "python3"
  },
  "language_info": {
   "codemirror_mode": {
    "name": "ipython",
    "version": 3
   },
   "file_extension": ".py",
   "mimetype": "text/x-python",
   "name": "python",
   "nbconvert_exporter": "python",
   "pygments_lexer": "ipython3",
   "version": "3.10.1"
  }
 },
 "nbformat": 4,
 "nbformat_minor": 5
}
