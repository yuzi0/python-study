{
 "cells": [
  {
   "cell_type": "code",
   "execution_count": 1,
   "id": "5d31925f",
   "metadata": {},
   "outputs": [],
   "source": [
    "#파이썬 기본 : 기초문법 #8. 리스트"
   ]
  },
  {
   "cell_type": "code",
   "execution_count": 4,
   "id": "dea2588d",
   "metadata": {},
   "outputs": [
    {
     "name": "stdout",
     "output_type": "stream",
     "text": [
      "1\n",
      "python\n",
      "1.3\n"
     ]
    }
   ],
   "source": [
    "# 리스트\n",
    "\n",
    "example_lst = [1,3,5,7,9]\n",
    "example_lst = [1,\"python\",1.3]\n",
    "\n",
    "print(example_lst[0])\n",
    "print(example_lst[1])\n",
    "print(example_lst[2])"
   ]
  },
  {
   "cell_type": "code",
   "execution_count": 6,
   "id": "f380935b",
   "metadata": {},
   "outputs": [
    {
     "name": "stdout",
     "output_type": "stream",
     "text": [
      "1\n",
      "2\n",
      "3\n",
      "4\n",
      "5\n"
     ]
    }
   ],
   "source": [
    "## 인덱스를 사용해 리스트에 접근\n",
    "example_lst = [1,2,3,4,5]\n",
    "\n",
    "for i in range(len(example_lst)):\n",
    "    print(examples_lst[i])\n"
   ]
  },
  {
   "cell_type": "code",
   "execution_count": 7,
   "id": "18c5d29f",
   "metadata": {},
   "outputs": [
    {
     "name": "stdout",
     "output_type": "stream",
     "text": [
      "1\n",
      "2\n",
      "3\n",
      "4\n",
      "5\n"
     ]
    }
   ],
   "source": [
    "## 반복문을 사용해 리스트 데이터를 받아오기\n",
    "example_lst = [1,2,3,4,5]\n",
    "\n",
    "for i in example_lst:\n",
    "    print(i)"
   ]
  },
  {
   "cell_type": "code",
   "execution_count": 8,
   "id": "60c67ea0",
   "metadata": {},
   "outputs": [
    {
     "name": "stdout",
     "output_type": "stream",
     "text": [
      "[1, 2, 3, 4, 5, 6, 7, 8, 9, 10]\n",
      "[1, 2, 3, 4, 5]\n",
      "[6, 7, 8, 9, 10]\n",
      "[1, 2, 3, 4, 5]\n",
      "[6, 7, 8, 9, 10]\n"
     ]
    }
   ],
   "source": [
    "## 리스트 요리하기\n",
    "\n",
    "### 리스트 자르기\n",
    "example_lst = [1,2,3,4,5,6,7,8,9,10]\n",
    "\n",
    "sliceOne = example_lst[0:5]\n",
    "sliceTwo = example_lst[5:10]\n",
    "sliceThree = example_lst[:5]\n",
    "sliceFour = example_lst[5:]\n",
    "\n",
    "print(example_lst)\n",
    "print(sliceOne)\n",
    "print(sliceTwo)\n",
    "print(sliceThree)\n",
    "print(sliceFour)"
   ]
  },
  {
   "cell_type": "code",
   "execution_count": 12,
   "id": "552a26d7",
   "metadata": {},
   "outputs": [
    {
     "name": "stdout",
     "output_type": "stream",
     "text": [
      "[1, 2, 3, 4, 5]\n",
      "[1, 2, 3, 4, 5, 6]\n",
      "[1, 2, 3, 10, 4, 5, 6]\n"
     ]
    }
   ],
   "source": [
    "### 리스트 삽입하기\n",
    "example_lst = [1,2,3,4,5]\n",
    "print(example_lst)\n",
    "\n",
    "#### append : 리스트의 마지막에 값을 삽입하는 함수\n",
    "example_lst.append(6)\n",
    "print(example_lst)\n",
    "\n",
    "#### insert : 리스트의 특정 인덱스에 값을 삽입하는 함수\n",
    "example_lst.insert(3, 10)\n",
    "print(example_lst)"
   ]
  },
  {
   "cell_type": "code",
   "execution_count": 14,
   "id": "9b24bd76",
   "metadata": {},
   "outputs": [
    {
     "name": "stdout",
     "output_type": "stream",
     "text": [
      "[1, 3, 5, 7, 9]\n",
      "[1, 3, 5, 9]\n",
      "[1, 3, 9]\n"
     ]
    }
   ],
   "source": [
    "### 리스트에서 값을 제거\n",
    "example_lst = [1,3,5,7,9]\n",
    "print(example_lst)\n",
    "\n",
    "#### del : 특정 인덱스의 값을 제거\n",
    "del example_lst[3]\n",
    "print(example_lst)\n",
    "\n",
    "#### remove : 값을 통해 원소를 제거\n",
    "example_lst.remove(5)\n",
    "print(example_lst)"
   ]
  },
  {
   "cell_type": "code",
   "execution_count": null,
   "id": "524dba3d",
   "metadata": {},
   "outputs": [],
   "source": []
  }
 ],
 "metadata": {
  "kernelspec": {
   "display_name": "Python 3 (ipykernel)",
   "language": "python",
   "name": "python3"
  },
  "language_info": {
   "codemirror_mode": {
    "name": "ipython",
    "version": 3
   },
   "file_extension": ".py",
   "mimetype": "text/x-python",
   "name": "python",
   "nbconvert_exporter": "python",
   "pygments_lexer": "ipython3",
   "version": "3.10.1"
  }
 },
 "nbformat": 4,
 "nbformat_minor": 5
}
