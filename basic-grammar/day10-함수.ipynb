{
 "cells": [
  {
   "cell_type": "code",
   "execution_count": 1,
   "id": "a5b3d3e1",
   "metadata": {},
   "outputs": [],
   "source": [
    "# 기초문법 #7. 함수"
   ]
  },
  {
   "cell_type": "code",
   "execution_count": 5,
   "id": "85623804",
   "metadata": {},
   "outputs": [
    {
     "name": "stdout",
     "output_type": "stream",
     "text": [
      "187.0\n",
      "197.0\n",
      "207.0\n",
      "217.0\n",
      "-----------------------\n",
      "187.0\n",
      "197.0\n",
      "207.0\n",
      "217.0\n"
     ]
    }
   ],
   "source": [
    "# 함수 미사용\n",
    "print(3 * 100 / 20 + 345 // 2)\n",
    "print(5 * 100 / 20 + 345 // 2)\n",
    "print(7 * 100 / 20 + 345 // 2)\n",
    "print(9 * 100 / 20 + 345 // 2)\n",
    "\n",
    "print(\"-----------------------\")\n",
    "\n",
    "# 함수 사용\n",
    "def Calculate(x):\n",
    "    return x * 100 / 20 + 345 // 2\n",
    "print(Calculate(3))\n",
    "print(Calculate(5))\n",
    "print(Calculate(7))\n",
    "print(Calculate(9))"
   ]
  },
  {
   "cell_type": "code",
   "execution_count": 6,
   "id": "e1336ed9",
   "metadata": {
    "scrolled": false
   },
   "outputs": [
    {
     "data": {
      "text/plain": [
       "'\\ndef 함수명(매개변수1, 매개변수2, ...):\\n    함수내용\\n    \\n    ✔ def\\n        함수를 만들 때, 가장 먼저 적어줘야 하는 키워드랍니다.\\n        def 뒤에 나오는 코드는 함수를 만드는 코드다! 라는걸 알려주는 역할을 해요.\\n\\n    ✔ 함수명\\n        말 그대로, print, input등의 함수의 이름을 의미해요.\\n\\n    ✔ 매개변수\\n        이 함수에 전달될 값을 의미해요.\\n        우리가 print(10)\\u200b이라고 코드를 작성했다면, 10이 바로 매개변수랍니다.\\n        그 함수 내부에서 사용되는 변수값을 입력받는거죠!\\n'"
      ]
     },
     "execution_count": 6,
     "metadata": {},
     "output_type": "execute_result"
    }
   ],
   "source": [
    "\"\"\"\n",
    "def 함수명(매개변수1, 매개변수2, ...):\n",
    "    함수내용\n",
    "    \n",
    "    ✔ def\n",
    "        함수를 만들 때, 가장 먼저 적어줘야 하는 키워드랍니다.\n",
    "        def 뒤에 나오는 코드는 함수를 만드는 코드다! 라는걸 알려주는 역할을 해요.\n",
    "\n",
    "    ✔ 함수명\n",
    "        말 그대로, print, input등의 함수의 이름을 의미해요.\n",
    "\n",
    "    ✔ 매개변수\n",
    "        이 함수에 전달될 값을 의미해요.\n",
    "        우리가 print(10)​이라고 코드를 작성했다면, 10이 바로 매개변수랍니다.\n",
    "        그 함수 내부에서 사용되는 변수값을 입력받는거죠!\n",
    "\"\"\""
   ]
  },
  {
   "cell_type": "code",
   "execution_count": 2,
   "id": "f24b2583",
   "metadata": {},
   "outputs": [
    {
     "name": "stdout",
     "output_type": "stream",
     "text": [
      "3\n"
     ]
    }
   ],
   "source": [
    "# 함수 사용 예시\n",
    "def getSum(a, b):\n",
    "    return a + b\n",
    "\n",
    "num1 = 1\n",
    "num2 = 2\n",
    "result = getSum(num1, num2)\n",
    "print(result)"
   ]
  },
  {
   "cell_type": "code",
   "execution_count": null,
   "id": "907c00fc",
   "metadata": {},
   "outputs": [],
   "source": []
  }
 ],
 "metadata": {
  "kernelspec": {
   "display_name": "Python 3 (ipykernel)",
   "language": "python",
   "name": "python3"
  },
  "language_info": {
   "codemirror_mode": {
    "name": "ipython",
    "version": 3
   },
   "file_extension": ".py",
   "mimetype": "text/x-python",
   "name": "python",
   "nbconvert_exporter": "python",
   "pygments_lexer": "ipython3",
   "version": "3.10.1"
  }
 },
 "nbformat": 4,
 "nbformat_minor": 5
}
