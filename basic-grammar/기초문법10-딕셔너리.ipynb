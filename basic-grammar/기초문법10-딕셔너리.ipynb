{
 "cells": [
  {
   "cell_type": "code",
   "execution_count": 1,
   "id": "26e16fd5",
   "metadata": {},
   "outputs": [],
   "source": [
    "# 기초문법 #10. 딕셔너리"
   ]
  },
  {
   "cell_type": "code",
   "execution_count": 2,
   "id": "942eac92",
   "metadata": {},
   "outputs": [
    {
     "name": "stdout",
     "output_type": "stream",
     "text": [
      "{'a': 'python', 'b': 'C', 'c': 'java'}\n",
      "python\n"
     ]
    }
   ],
   "source": [
    "# 딕셔너리\n",
    "\"\"\"\n",
    "    dic = {key1:value1, key2:value2, key2:value2, ...}\n",
    "\n",
    "    key 값과 value 값을 가진다\n",
    "\"\"\"\n",
    "\n",
    "ex_dict = {\"a\":\"python\", \"b\":\"C\", \"c\":\"java\"}\n",
    "\n",
    "print(ex_dict)\n",
    "print(ex_dict[\"a\"])"
   ]
  },
  {
   "cell_type": "code",
   "execution_count": 3,
   "id": "0ffeb32c",
   "metadata": {},
   "outputs": [
    {
     "name": "stdout",
     "output_type": "stream",
     "text": [
      "{'a': 'python', 'b': 'C', 'c': 'java', 'd': 'C++'}\n",
      "{'a': 'python', 'b': 'javascript', 'c': 'java', 'd': 'C++', 'e': 'C#'}\n"
     ]
    }
   ],
   "source": [
    "\"\"\"\n",
    "    딕셔너리에 데이터 추가\n",
    "    \n",
    "    - 하나의 key, value 추가\n",
    "        dict[key] = value\n",
    "        \n",
    "    - 여러 개의 key, value 추가\n",
    "        dict.update({업데이트 할 딕셔너리 내용})\n",
    "\"\"\"\n",
    "\n",
    "ex_dict = {\"a\":\"python\", \"b\":\"C\", \"c\":\"java\"}\n",
    "\n",
    "ex_dict[\"d\"] = \"C++\"\n",
    "print(ex_dict)\n",
    "\n",
    "ex_dict.update({\"b\":\"javascript\", \"e\":\"C#\"})\n",
    "print(ex_dict)"
   ]
  },
  {
   "cell_type": "code",
   "execution_count": 4,
   "id": "2e3ee674",
   "metadata": {},
   "outputs": [
    {
     "name": "stdout",
     "output_type": "stream",
     "text": [
      "{'b': 'C', 'c': 'java'}\n"
     ]
    }
   ],
   "source": [
    "\"\"\"\n",
    "    Key-Value 삭제 방법\n",
    "        del 키워드와 key 값을 통해 key:value 삭제\n",
    "\"\"\"\n",
    "\n",
    "ex_dict = {\"a\":\"python\", \"b\":\"C\", \"c\":\"java\"}\n",
    "\n",
    "del ex_dict[\"a\"]\n",
    "print(ex_dict)"
   ]
  },
  {
   "cell_type": "code",
   "execution_count": 6,
   "id": "98a4d6c8",
   "metadata": {},
   "outputs": [
    {
     "name": "stdout",
     "output_type": "stream",
     "text": [
      "dict_keys(['a', 'b', 'c'])\n",
      "dict_values(['python', 'C', 'java'])\n",
      "['a', 'b', 'c']\n",
      "['python', 'C', 'java']\n"
     ]
    }
   ],
   "source": [
    "\"\"\"\n",
    "    key, value쌍 추출\n",
    "        dict.keys(), dict.values() 함수 사용\n",
    "\"\"\"\n",
    "\n",
    "ex_dict = {\"a\":\"python\", \"b\":\"C\", \"c\":\"java\"}\n",
    "\n",
    "print(ex_dict.keys())\n",
    "print(ex_dict.values())\n",
    "\n",
    "print(list(ex_dict.keys()))\n",
    "print(list(ex_dict.values()))"
   ]
  },
  {
   "cell_type": "code",
   "execution_count": null,
   "id": "37040d22",
   "metadata": {},
   "outputs": [],
   "source": []
  }
 ],
 "metadata": {
  "kernelspec": {
   "display_name": "Python 3 (ipykernel)",
   "language": "python",
   "name": "python3"
  },
  "language_info": {
   "codemirror_mode": {
    "name": "ipython",
    "version": 3
   },
   "file_extension": ".py",
   "mimetype": "text/x-python",
   "name": "python",
   "nbconvert_exporter": "python",
   "pygments_lexer": "ipython3",
   "version": "3.10.1"
  }
 },
 "nbformat": 4,
 "nbformat_minor": 5
}
