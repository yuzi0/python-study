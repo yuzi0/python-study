{
 "cells": [
  {
   "cell_type": "code",
   "execution_count": null,
   "id": "1a334c67",
   "metadata": {},
   "outputs": [],
   "source": [
    "\"\"\"\n",
    "    클래스와 생성자\n",
    "    \n",
    "    클래스 : 붕어빵 틀\n",
    "    객체 : 붕어빵 틀을 통해서 만들어진 붕어빵\n",
    "    인스턴스 : 붕어빵은 붕어빵 틀의 인스턴스\n",
    "    - 각각의 객체는 고유의 기능과 성격을 가지고 있고 서로 다른 객체들에게 영향을 미치지 않는다\n",
    "\"\"\""
   ]
  },
  {
   "cell_type": "code",
   "execution_count": 8,
   "id": "d7c7fc9a",
   "metadata": {},
   "outputs": [],
   "source": [
    "## 함수 정의\n",
    "\"\"\"\n",
    "    class 클래스이름:\n",
    "        클래스내용(코드)\n",
    "        \n",
    "    객체명 = 클래스이름()\n",
    "\"\"\"\n",
    "\n",
    "class Calculator:\n",
    "    def setdata():\n",
    "        pass\n",
    "\n",
    "a = Calculator()"
   ]
  },
  {
   "cell_type": "code",
   "execution_count": 9,
   "id": "c388a248",
   "metadata": {},
   "outputs": [],
   "source": [
    "## setdata 메소드 구현 및 호출\n",
    "\"\"\"\n",
    "    메소드(Method) : 클래스 안에 있는 함수\n",
    "    self : 호출한 객체를 의미\n",
    "\"\"\"\n",
    "\n",
    "class Calculator:\n",
    "    def setdata(self, first, second):\n",
    "        self.first = first\n",
    "        self.second = second\n",
    "\n",
    "a = Calculator()\n",
    "a.setdata(6, 3)"
   ]
  },
  {
   "cell_type": "code",
   "execution_count": 10,
   "id": "63ebaa19",
   "metadata": {},
   "outputs": [
    {
     "name": "stdout",
     "output_type": "stream",
     "text": [
      "6\n",
      "3\n"
     ]
    }
   ],
   "source": [
    "## 객체 변수 출력\n",
    "\n",
    "class Calculator:\n",
    "    def setdata(self, first, second):\n",
    "        self.first = first\n",
    "        self.second = second\n",
    "\n",
    "# 클래스 밖\n",
    "a = Calculator()  # 클래스의 객체 a 생성\n",
    "a.setdata(6, 3)   # 입력값을 setdata를 통해 지정\n",
    "print(a.first)    # 입력값 first 출력\n",
    "print(a.second)   # 입력값 second 출력"
   ]
  },
  {
   "cell_type": "code",
   "execution_count": 11,
   "id": "2820e979",
   "metadata": {},
   "outputs": [
    {
     "name": "stdout",
     "output_type": "stream",
     "text": [
      "20\n",
      "10\n"
     ]
    }
   ],
   "source": [
    "## 두 번째 객체 생성\n",
    "\"\"\"\n",
    "    각 객체는 다른 객체한테 영향을 받지 않고 독립적인 값을 유지함\n",
    "\"\"\"\n",
    "\n",
    "class Calculator:\n",
    "    def setdata(self, first, second):\n",
    "        self.first = first\n",
    "        self.second = second\n",
    "\n",
    "a = Calculator()\n",
    "a.setdata(6, 3)\n",
    "\n",
    "b = Calculator()    # 클래스의 객체 b 생성\n",
    "b.setdata(20, 10)   # 입력값을 setdata를 통해 지정\n",
    "print(b.first)      # 입력값 first 출력\n",
    "print(b.second)     # 입력값 second 출력"
   ]
  },
  {
   "cell_type": "code",
   "execution_count": 13,
   "id": "f49f4e08",
   "metadata": {},
   "outputs": [
    {
     "name": "stdout",
     "output_type": "stream",
     "text": [
      "9\n"
     ]
    }
   ],
   "source": [
    "## 덧셈 기능 만들기\n",
    "\"\"\"\n",
    "✅ add 메소드 실행 순서\n",
    "\n",
    "1. 클래스 밖에서 a.add()를 통해 add 메소드를 불렀습니다 (=호출)\n",
    "2. self에 a 객체를 넣어줘요. result = a.first + a.second\n",
    "3. result라는 변수에 덧셈 결과를 저장해줍니다. result = 9\n",
    "4. 그리고 결과가 담긴 result를 add 메소드가 끝나면 리턴해줍니다! return result\n",
    "5. add 메소드가 호출됐으니 리턴값 (=result 값)을 돌려줍니다.\n",
    "6. print(result) ⇒ print(9) ⇒ 9 출력\n",
    "\"\"\"\n",
    "\n",
    "class Calculator:\n",
    "    def setdata(self, first, second):\n",
    "        self.first = first\n",
    "        self.second = second\n",
    "    def add(self):   # add 메소드\n",
    "        result = self.first + self.second\n",
    "        return result\n",
    "\n",
    "a = Calculator()\n",
    "a.setdata(6, 3)\n",
    "print(a.add())"
   ]
  },
  {
   "cell_type": "code",
   "execution_count": 16,
   "id": "b23a95d8",
   "metadata": {},
   "outputs": [
    {
     "name": "stdout",
     "output_type": "stream",
     "text": [
      "9\n"
     ]
    }
   ],
   "source": [
    "# 생성자(Constructor) : 객체가 생성될 댸 자동으로 호출하는 메소드\n",
    "\"\"\"\n",
    "    def __init__(self, params):\n",
    "        \n",
    "\"\"\"\n",
    "\n",
    "class Calculator:\n",
    "    def __init__(self, first, second):\n",
    "        self.first = first\n",
    "        self.second = second\n",
    "    def add(self):   # add 메소드\n",
    "        result = self.first + self.second\n",
    "        return result\n",
    "\n",
    "a = Calculator(6, 3)\n",
    "print(a.add())"
   ]
  },
  {
   "cell_type": "code",
   "execution_count": null,
   "id": "d23430ff",
   "metadata": {},
   "outputs": [],
   "source": []
  }
 ],
 "metadata": {
  "kernelspec": {
   "display_name": "Python 3 (ipykernel)",
   "language": "python",
   "name": "python3"
  },
  "language_info": {
   "codemirror_mode": {
    "name": "ipython",
    "version": 3
   },
   "file_extension": ".py",
   "mimetype": "text/x-python",
   "name": "python",
   "nbconvert_exporter": "python",
   "pygments_lexer": "ipython3",
   "version": "3.9.7"
  }
 },
 "nbformat": 4,
 "nbformat_minor": 5
}
