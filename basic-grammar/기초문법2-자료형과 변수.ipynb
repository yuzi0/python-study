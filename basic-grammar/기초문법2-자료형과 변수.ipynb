{
 "cells": [
  {
   "cell_type": "code",
   "execution_count": 1,
   "id": "3f525fb6",
   "metadata": {},
   "outputs": [],
   "source": [
    "# 모각코 3일차"
   ]
  },
  {
   "cell_type": "code",
   "execution_count": 14,
   "id": "532775f8",
   "metadata": {},
   "outputs": [
    {
     "name": "stdout",
     "output_type": "stream",
     "text": [
      "<class 'int'>\n",
      "<class 'int'>\n",
      "<class 'int'>\n",
      "<class 'float'>\n",
      "<class 'float'>\n",
      "----------------------\n",
      "2081\n",
      "1.0\n",
      "----------------------\n",
      "2080 + 1\n",
      "20801\n",
      "0.5 + 0.5\n",
      "0.50.5\n",
      "----------------------\n",
      "<class 'str'>\n",
      "<class 'str'>\n",
      "<class 'str'>\n",
      "<class 'str'>\n"
     ]
    }
   ],
   "source": [
    "# 파이썬의 숫자형 : int, float\n",
    "\n",
    "print(type(10))\n",
    "print(type(0))\n",
    "print(type(-5))\n",
    "print(type(5.9))\n",
    "print(type(0.111))\n",
    "print(\"----------------------\")\n",
    "\n",
    "print(2080 + 1)\n",
    "print(0.5 + 0.5)\n",
    "print(\"----------------------\")\n",
    "\n",
    "print(\"2080 + 1\")\n",
    "print(\"2080\" + \"1\")\n",
    "print(\"0.5 + 0.5\")\n",
    "print(\"0.5\" + \"0.5\")\n",
    "print(\"----------------------\")\n",
    "\n",
    "print(type(\"2080 + 1\"))\n",
    "print(type(\"2080\" + \"1\"))\n",
    "print(type(\"0.5 + 0.5\"))\n",
    "print(type(\"0.5\" + \"0.5\"))"
   ]
  },
  {
   "cell_type": "code",
   "execution_count": 15,
   "id": "82bef23c",
   "metadata": {},
   "outputs": [
    {
     "name": "stdout",
     "output_type": "stream",
     "text": [
      "False\n",
      "True\n",
      "<class 'bool'>\n",
      "<class 'bool'>\n"
     ]
    }
   ],
   "source": [
    "# 파이썬의 불 자료형 : bool - True, False\n",
    "\n",
    "print(2 > 3)\n",
    "print(2 < 9)\n",
    "\n",
    "print(type(2 > 3))\n",
    "print(type(2 < 9))"
   ]
  },
  {
   "cell_type": "code",
   "execution_count": 12,
   "id": "d16a1e1c",
   "metadata": {},
   "outputs": [
    {
     "name": "stdout",
     "output_type": "stream",
     "text": [
      "Bob\n",
      "Sandy\n"
     ]
    }
   ],
   "source": [
    "# 파이썬의 변수\n",
    "\n",
    "my_name = \"Bob\"\n",
    "print(my_name)\n",
    "\n",
    "my_name = \"Sandy\"\n",
    "print(my_name)"
   ]
  },
  {
   "cell_type": "code",
   "execution_count": 13,
   "id": "0c223b27",
   "metadata": {},
   "outputs": [
    {
     "name": "stdout",
     "output_type": "stream",
     "text": [
      "30\n",
      "25\n"
     ]
    }
   ],
   "source": [
    "# 숫자형을 저장하는 변수\n",
    "\n",
    "my_age = 30\n",
    "your_age = 25\n",
    "\n",
    "print(my_age)\n",
    "print(your_age)"
   ]
  },
  {
   "cell_type": "code",
   "execution_count": 17,
   "id": "6c74b87a",
   "metadata": {},
   "outputs": [
    {
     "name": "stdout",
     "output_type": "stream",
     "text": [
      "파이썬 공부는 즐거워!\n",
      "썬\n",
      "는\n",
      "!\n"
     ]
    }
   ],
   "source": [
    "# 문자열을 다루는 방법 - 인덱싱\n",
    "\n",
    "hi = \"파이썬 공부는 즐거워!\"\n",
    "print(hi)\n",
    "print(hi[2])\n",
    "print(hi[6])\n",
    "print(hi[-1])"
   ]
  },
  {
   "cell_type": "code",
   "execution_count": 19,
   "id": "88648066",
   "metadata": {},
   "outputs": [
    {
     "name": "stdout",
     "output_type": "stream",
     "text": [
      "공부는\n",
      "즐거워!\n",
      "파이썬 \n",
      "공부는 즐거워\n"
     ]
    }
   ],
   "source": [
    "# 문자열을 다루는 방법 - 슬라이싱\n",
    "\n",
    "hi = \"파이썬 공부는 즐거워!\"\n",
    "print(hi[4:7])  # 4번부터 7-1번 문자열까지 출력\n",
    "print(hi[-4:])  # -4부터 문자열의 마지막까지 슬라이싱\n",
    "print(hi[:4])   # 문자열의 첫 글자부터 4-1번 문자열까지 슬라이싱\n",
    "print(hi[4:-1]) # 4번부터 -2번 문자열까지 출력"
   ]
  },
  {
   "cell_type": "code",
   "execution_count": null,
   "id": "55f2166f",
   "metadata": {},
   "outputs": [],
   "source": []
  }
 ],
 "metadata": {
  "kernelspec": {
   "display_name": "Python 3 (ipykernel)",
   "language": "python",
   "name": "python3"
  },
  "language_info": {
   "codemirror_mode": {
    "name": "ipython",
    "version": 3
   },
   "file_extension": ".py",
   "mimetype": "text/x-python",
   "name": "python",
   "nbconvert_exporter": "python",
   "pygments_lexer": "ipython3",
   "version": "3.10.1"
  }
 },
 "nbformat": 4,
 "nbformat_minor": 5
}
