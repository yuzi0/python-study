{
 "cells": [
  {
   "cell_type": "code",
   "execution_count": 1,
   "id": "78734daa",
   "metadata": {},
   "outputs": [
    {
     "name": "stdout",
     "output_type": "stream",
     "text": [
      "This is \"모각코+\"\n"
     ]
    }
   ],
   "source": [
    "print('This is \"모각코+\"')"
   ]
  },
  {
   "cell_type": "code",
   "execution_count": 2,
   "id": "24ed6c93",
   "metadata": {},
   "outputs": [
    {
     "name": "stdout",
     "output_type": "stream",
     "text": [
      "=== Python Basic Grammar ===\n"
     ]
    }
   ],
   "source": [
    "print(\"===\", \"Python\", \"Basic\", \"Grammar\", \"===\")"
   ]
  },
  {
   "cell_type": "code",
   "execution_count": 3,
   "id": "a6ed662d",
   "metadata": {},
   "outputs": [
    {
     "name": "stdout",
     "output_type": "stream",
     "text": [
      "You can use multiple lines.\n",
      "One way is using triple-quotes: \"\"\"...\"\"\" or '''...'''.\n",
      "End of lines are automatically included in the string,\n",
      "but it's possible to prevent this by adding a \\ at the end of the line.\n",
      "\n"
     ]
    }
   ],
   "source": [
    "print(\"\"\"\\\n",
    "You can use multiple lines.\n",
    "One way is using triple-quotes: \\\"\"\"...\\\"\"\" or \\'''...\\'''.\n",
    "End of lines are automatically included in the string,\n",
    "but it's possible to prevent this by adding a \\\\ at the end of the line.\n",
    "\"\"\")"
   ]
  },
  {
   "cell_type": "code",
   "execution_count": 4,
   "id": "467effa1",
   "metadata": {},
   "outputs": [
    {
     "name": "stdout",
     "output_type": "stream",
     "text": [
      "# This is not a comment because It's inside quotes\n"
     ]
    }
   ],
   "source": [
    "# This is Comment.\n",
    "\"\"\"\n",
    "This is Comment of multiple lines.\n",
    "second line\n",
    "third line\n",
    "abd so on..\n",
    "\"\"\"\n",
    "print(\"# This is not a comment because It's inside quotes\")"
   ]
  },
  {
   "cell_type": "code",
   "execution_count": 6,
   "id": "5f1a949a",
   "metadata": {},
   "outputs": [
    {
     "name": "stdout",
     "output_type": "stream",
     "text": [
      "first line\n",
      "second line\n",
      "third line++++++++++\n",
      "fourth line\n"
     ]
    }
   ],
   "source": [
    "print(\"first line\")\n",
    "print(\"second line\")\n",
    "\n",
    "print(\"third line\", end='')\n",
    "print(\"++++++++++\")\n",
    "print(\"fourth line\")"
   ]
  },
  {
   "cell_type": "code",
   "execution_count": 7,
   "id": "39846240",
   "metadata": {},
   "outputs": [
    {
     "name": "stdout",
     "output_type": "stream",
     "text": [
      "I like Python.\n",
      "I\n",
      "like\n",
      "Python.\n"
     ]
    }
   ],
   "source": [
    "print(\"I like Python.\")\n",
    "print(\"I\\nlike\\nPython.\")"
   ]
  },
  {
   "cell_type": "code",
   "execution_count": 10,
   "id": "db8c2dd3",
   "metadata": {},
   "outputs": [
    {
     "name": "stdout",
     "output_type": "stream",
     "text": [
      "This is test to end!\n",
      "This is test to endend\n",
      "This is test to end,\n",
      "This is test to end;\n",
      "This is test to end...\n",
      "This is test to end..;\n"
     ]
    }
   ],
   "source": [
    "print(\"This is test to end\", end = \"!\\n\")\n",
    "print(\"This is test to end\", end = \"end\\n\")\n",
    "print(\"This is test to end\", end = \",\\n\")\n",
    "print(\"This is test to end\", end = \";\\n\")\n",
    "print(\"This is test to end\", end = \"...\\n\")\n",
    "print(\"This is test to end\", end = \"..;\\n\")"
   ]
  },
  {
   "cell_type": "code",
   "execution_count": null,
   "id": "6bea1598",
   "metadata": {},
   "outputs": [],
   "source": []
  }
 ],
 "metadata": {
  "kernelspec": {
   "display_name": "Python 3 (ipykernel)",
   "language": "python",
   "name": "python3"
  },
  "language_info": {
   "codemirror_mode": {
    "name": "ipython",
    "version": 3
   },
   "file_extension": ".py",
   "mimetype": "text/x-python",
   "name": "python",
   "nbconvert_exporter": "python",
   "pygments_lexer": "ipython3",
   "version": "3.10.1"
  }
 },
 "nbformat": 4,
 "nbformat_minor": 5
}
