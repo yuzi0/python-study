{
 "cells": [
  {
   "cell_type": "code",
   "execution_count": null,
   "id": "95ff2b55",
   "metadata": {},
   "outputs": [],
   "source": [
    "\"\"\"\n",
    "    클래스의 상속 : 클래스를 만들 때 다른 클래스의 기능을 물려받는 것\n",
    "    \n",
    "    class 자식클래스(부모클래스):\n",
    "        pass\n",
    "\"\"\""
   ]
  },
  {
   "cell_type": "code",
   "execution_count": 5,
   "id": "a6478dd0",
   "metadata": {},
   "outputs": [
    {
     "name": "stdout",
     "output_type": "stream",
     "text": [
      "2.142857142857143\n",
      "22\n",
      "8\n",
      "105\n",
      "1\n",
      "2\n"
     ]
    }
   ],
   "source": [
    "class Calculator():\n",
    "    def __init__(self, first, second):\n",
    "        self.first = first\n",
    "        self.second = second\n",
    "    def add(self):\n",
    "        result = self.first + self.second\n",
    "        return result\n",
    "    def minus(self):\n",
    "        result = self.first - self.second\n",
    "        return result   \n",
    "    def multiple(self):\n",
    "        result = self.first * self.second\n",
    "        return result\n",
    "    def divide(self):\n",
    "        result = self.first / self.second\n",
    "        return result\n",
    "\n",
    "class PerfectCal(Calculator):\n",
    "    # 생성자 상속\n",
    "    def __init__(self, first, second):\n",
    "        super().__init__(first, second)\n",
    "    # 메서드 생성\n",
    "    def modulo(self):\n",
    "        result = self.first % self.second\n",
    "        return result   \n",
    "    # 메서드 오버라이딩\n",
    "    def divide(self):\n",
    "        result = self.first // self.second\n",
    "        return result\n",
    "\n",
    "# 클래스 밖\n",
    "a = PerfectCal(4, 2)\n",
    "\n",
    "# 부모클래스 객체\n",
    "a = Calculator(15, 7)\n",
    "print(a.divide())\n",
    "\n",
    "# 자식클래스 객체\n",
    "b = PerfectCal(15, 7)\n",
    "print(b.add())\n",
    "print(b.minus())\n",
    "print(b.multiple())\n",
    "print(b.modulo())\n",
    "print(b.divide())"
   ]
  },
  {
   "cell_type": "code",
   "execution_count": 7,
   "id": "0ab6df15",
   "metadata": {},
   "outputs": [
    {
     "name": "stdout",
     "output_type": "stream",
     "text": [
      "뿌링클 뿌링클\n",
      "황금올리브 황금올리브\n",
      "1971981229872 , 1971981229872\n"
     ]
    }
   ],
   "source": [
    "# 클래스 변수\n",
    "\"\"\"\n",
    "    ✔ 객체변수: 독립적으로 값 유지, 다른객체에게 영향 X\n",
    "    ✔ 클래스 변수:  객체들이 클래스 변수를 공유\n",
    "\n",
    "    id함수는 변수의 고유 값을 반환함\n",
    "    두 변수의 고유 값이 같다는건, 각 변수가 값을 공유하고 있다는 의미\n",
    "    클래스변수를 수정한 후, id값을 확인해보니 모든 객체의 id값이 동일\n",
    "    이는 각 객체들이 클래스 변수를 공유하고 있다!\n",
    "\"\"\"\n",
    "\n",
    "class Food:\n",
    "    favorite = \"뿌링클\"\n",
    "\n",
    "a = Food()\n",
    "b = Food()\n",
    "print(a.favorite, b.favorite)\n",
    "\n",
    "# 값 바꾸기\n",
    "Food.favorite = \"황금올리브\"\n",
    "print(a.favorite, b.favorite)\n",
    "print(id(a.favorite), \",\", id(b.favorite))  #id() 함수로 메모리값 확인"
   ]
  },
  {
   "cell_type": "code",
   "execution_count": null,
   "id": "eb1da0e1",
   "metadata": {},
   "outputs": [],
   "source": []
  }
 ],
 "metadata": {
  "kernelspec": {
   "display_name": "Python 3 (ipykernel)",
   "language": "python",
   "name": "python3"
  },
  "language_info": {
   "codemirror_mode": {
    "name": "ipython",
    "version": 3
   },
   "file_extension": ".py",
   "mimetype": "text/x-python",
   "name": "python",
   "nbconvert_exporter": "python",
   "pygments_lexer": "ipython3",
   "version": "3.9.7"
  }
 },
 "nbformat": 4,
 "nbformat_minor": 5
}
