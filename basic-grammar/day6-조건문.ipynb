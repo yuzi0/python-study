{
 "cells": [
  {
   "cell_type": "code",
   "execution_count": 1,
   "id": "7287ea3e",
   "metadata": {},
   "outputs": [],
   "source": [
    "# 기초문법 #5. 비교연산자와 조건문"
   ]
  },
  {
   "cell_type": "code",
   "execution_count": 2,
   "id": "5d2fe028",
   "metadata": {},
   "outputs": [
    {
     "name": "stdout",
     "output_type": "stream",
     "text": [
      "True\n",
      "True\n",
      "False\n",
      "False\n",
      "False\n",
      "True\n"
     ]
    }
   ],
   "source": [
    "# 비교연산자\n",
    "\n",
    "a = 10\n",
    "b = 7\n",
    "print(a > b)\n",
    "print(a >= b)\n",
    "print(a < b)\n",
    "print(a <= b)\n",
    "print(a == b)\n",
    "print(a != b)"
   ]
  },
  {
   "cell_type": "code",
   "execution_count": 3,
   "id": "7ea4cc7b",
   "metadata": {},
   "outputs": [
    {
     "name": "stdout",
     "output_type": "stream",
     "text": [
      "True\n",
      "False\n",
      "True\n"
     ]
    }
   ],
   "source": [
    "# 논리 연산자\n",
    "\"\"\"\n",
    "    a and b : a와 b 모두 참이여도 참이다.\n",
    "    a or b : a와 b 둘 중 하나만 참이여도 참이다.\n",
    "    not a : a가 거짓이면 참이다. a가 참이면 거짓이다.\n",
    "\"\"\"\n",
    "\n",
    "x = 10\n",
    "y = False\n",
    "print(x >= 10 and y == False)\n",
    "print(x < 10 or y == True)\n",
    "print(not y)"
   ]
  },
  {
   "cell_type": "code",
   "execution_count": 6,
   "id": "d562fdcd",
   "metadata": {},
   "outputs": [
    {
     "name": "stdout",
     "output_type": "stream",
     "text": [
      "결제가 불가능합니다\n"
     ]
    }
   ],
   "source": [
    "# if문 (조건문) - 조건에 따라 실행할 코드를 나누는 문법\n",
    "\"\"\"\n",
    "    if 조건문1:\n",
    "        실행문1\n",
    "        \n",
    "    elif 조건문 2:\n",
    "        실행문2\n",
    "    \n",
    "    else:\n",
    "        실행문3\n",
    "\"\"\"\n",
    "\n",
    "# 예시1\n",
    "money = 3000\n",
    "\n",
    "if money >= 5000:\n",
    "    print(\"결제가 가능합니다\")\n",
    "else:\n",
    "    print(\"결제가 불가능합니다\")"
   ]
  },
  {
   "cell_type": "code",
   "execution_count": 7,
   "id": "24a5c252",
   "metadata": {},
   "outputs": [
    {
     "name": "stdout",
     "output_type": "stream",
     "text": [
      "Hello가 있습니다\n",
      "Hello가 있습니다\n"
     ]
    }
   ],
   "source": [
    "## if a in b\n",
    "## b 안에 a가 있는지 확인하는 조건문\n",
    "\n",
    "# 예시2\n",
    "line = \"Hello World\"\n",
    "\n",
    "if \"Hello\" in line:\n",
    "    print(\"Hello가 있습니다\")\n",
    "else:\n",
    "    print(\"Hello가 없습니다\")\n",
    "    \n",
    "# 예시3\n",
    "line = \"Hello World\"\n",
    "\n",
    "if \"Hello\" not in line:\n",
    "    print(\"Hello가 없습니다\")\n",
    "else:\n",
    "    print(\"Hello가 있습니다\")"
   ]
  },
  {
   "cell_type": "code",
   "execution_count": null,
   "id": "b17fd918",
   "metadata": {},
   "outputs": [],
   "source": []
  }
 ],
 "metadata": {
  "kernelspec": {
   "display_name": "Python 3 (ipykernel)",
   "language": "python",
   "name": "python3"
  },
  "language_info": {
   "codemirror_mode": {
    "name": "ipython",
    "version": 3
   },
   "file_extension": ".py",
   "mimetype": "text/x-python",
   "name": "python",
   "nbconvert_exporter": "python",
   "pygments_lexer": "ipython3",
   "version": "3.10.1"
  }
 },
 "nbformat": 4,
 "nbformat_minor": 5
}
