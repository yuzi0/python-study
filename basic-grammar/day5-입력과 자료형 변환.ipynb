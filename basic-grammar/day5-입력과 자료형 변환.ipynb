{
 "cells": [
  {
   "cell_type": "code",
   "execution_count": 1,
   "id": "5ea04887",
   "metadata": {},
   "outputs": [],
   "source": [
    "# 기초문법 #4. 입력받기, 자료형 변환"
   ]
  },
  {
   "cell_type": "code",
   "execution_count": 5,
   "id": "cb83efca",
   "metadata": {},
   "outputs": [
    {
     "name": "stdout",
     "output_type": "stream",
     "text": [
      "문자를 입력하세요 : 1\n",
      "입력 받은 문자 : 1\n",
      "입력 받은 문자의 타입 : <class 'str'>\n"
     ]
    }
   ],
   "source": [
    "# 파이썬으로 입력받기\n",
    "a = input(\"문자를 입력하세요 : \")\n",
    "print(\"입력 받은 문자 :\", a)\n",
    "print(\"입력 받은 문자의 타입 :\", type(a))"
   ]
  },
  {
   "cell_type": "code",
   "execution_count": 11,
   "id": "6cefe69b",
   "metadata": {},
   "outputs": [
    {
     "name": "stdout",
     "output_type": "stream",
     "text": [
      "int(3.0) : 3\n",
      "float(3) : 3.0\n",
      "-----------------------\n",
      "숫자를 입력하세요 : 2\n",
      "입력 받은 숫자 : 2\n",
      "타입 : <class 'int'>\n",
      "-----------------------\n",
      "안녕 나는 32살이고 파이썬 공부중이야!\n"
     ]
    }
   ],
   "source": [
    "# 자료형 변환하기\n",
    "\n",
    "## 숫자 -> 숫자\n",
    "# 실수형 -> 정수형 변환한 것을 출력하는 코드\n",
    "print(\"int(3.0) :\", int(3.0))\n",
    "print(\"float(3) :\", float(3))\n",
    "print(\"-----------------------\")\n",
    "\n",
    "## 문자 -> 숫자\n",
    "a = int(input(\"숫자를 입력하세요 : \"))\n",
    "print(\"입력 받은 숫자 :\", a)\n",
    "print(\"타입 :\", type(a))\n",
    "print(\"-----------------------\")\n",
    "\n",
    "## 숫자 -> 문자\n",
    "my_age = 32\n",
    "print(\"안녕 나는 \" + str(my_age) + \"살이고 파이썬 공부중이야!\")"
   ]
  },
  {
   "cell_type": "code",
   "execution_count": null,
   "id": "e192b862",
   "metadata": {},
   "outputs": [],
   "source": []
  }
 ],
 "metadata": {
  "kernelspec": {
   "display_name": "Python 3 (ipykernel)",
   "language": "python",
   "name": "python3"
  },
  "language_info": {
   "codemirror_mode": {
    "name": "ipython",
    "version": 3
   },
   "file_extension": ".py",
   "mimetype": "text/x-python",
   "name": "python",
   "nbconvert_exporter": "python",
   "pygments_lexer": "ipython3",
   "version": "3.10.1"
  }
 },
 "nbformat": 4,
 "nbformat_minor": 5
}
