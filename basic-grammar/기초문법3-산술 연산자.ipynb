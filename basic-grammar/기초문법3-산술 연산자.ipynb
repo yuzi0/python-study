{
 "cells": [
  {
   "cell_type": "code",
   "execution_count": 4,
   "id": "70e47873",
   "metadata": {},
   "outputs": [],
   "source": [
    "# 모각코 4일차 - 기초문법 #3. 산술연산자"
   ]
  },
  {
   "cell_type": "code",
   "execution_count": 5,
   "id": "d4cf1069",
   "metadata": {},
   "outputs": [],
   "source": [
    "# 연산 : 프로그램에서 수나 식을 계산해서 결과를 도출하는 것\n",
    "# 연산자 : 계산할 때 사용되는 기호 (+, - 등)"
   ]
  },
  {
   "cell_type": "code",
   "execution_count": 18,
   "id": "f53e95c2",
   "metadata": {},
   "outputs": [
    {
     "name": "stdout",
     "output_type": "stream",
     "text": [
      "200 + 10 - 3 = 207\n",
      "10 * 10 = 100\n",
      "100 / 5 = 20.0\n"
     ]
    }
   ],
   "source": [
    "# 파이썬으로 사칙연산하기\n",
    "print(\"200 + 10 - 3 =\", 200 + 10 - 3)\n",
    "print(\"10 * 10 =\", 10 * 10)\n",
    "print(\"100 / 5 =\", 100 / 5)"
   ]
  },
  {
   "cell_type": "code",
   "execution_count": 19,
   "id": "3a8571ca",
   "metadata": {},
   "outputs": [
    {
     "name": "stdout",
     "output_type": "stream",
     "text": [
      "5.5 / 2 = 2.75\n",
      "5.5 // 2 = 2.0\n",
      "5 / 2 = 2.5\n",
      "5 // 2 = 2\n",
      "5 % 2 = 1\n",
      "2.5 % 2 = 0.5\n"
     ]
    }
   ],
   "source": [
    "# 파이썬의 나눗셈\n",
    "\"\"\"\n",
    "    /  연산자 : 나눗셈 (division)\n",
    "    // 연산자 : 버림 나눗셈 (floor division)\n",
    "    %  연산자 : 모듈로 연산자 (modulo)\n",
    "\"\"\"\n",
    "a = 5.5 / 2\n",
    "b = 5.5 // 2\n",
    "c = 5 / 2\n",
    "d = 5 // 2\n",
    "\n",
    "print(\"5.5 / 2 =\", a)  # 실수형의 나눗셈 -> 결과 -> 실수형\n",
    "print(\"5.5 // 2 =\", b)  # 실수형의 버림나눗셈 -> 결과 -> 실수형이지만 소수점 이하는 버림\n",
    "print(\"5 / 2 =\", c)  # 정수형의 나눗셈 -> 결과 -> 실수형\n",
    "print(\"5 // 2 =\", d)  # 정수형의 버림나눗셈 -> 결과 -> 정수형 (소수점 X)\n",
    "\n",
    "print(\"5 % 2 =\", 5 % 2)\n",
    "print(\"2.5 % 2 =\", 2.5 % 2)"
   ]
  },
  {
   "cell_type": "code",
   "execution_count": 20,
   "id": "f21d36c6",
   "metadata": {},
   "outputs": [
    {
     "name": "stdout",
     "output_type": "stream",
     "text": [
      "2 ** 4 = 16\n",
      "2 ** 10 = 1024\n"
     ]
    }
   ],
   "source": [
    "# 파이썬의 거듭제곱\n",
    "print(\"2 ** 4 =\", 2**4)\n",
    "print(\"2 ** 10 =\", 2**10)"
   ]
  },
  {
   "cell_type": "code",
   "execution_count": 22,
   "id": "9b04c4cc",
   "metadata": {},
   "outputs": [
    {
     "name": "stdout",
     "output_type": "stream",
     "text": [
      "a의 나머지는  1 입니다.\n",
      "b의 나머지는  1 이네요.\n"
     ]
    }
   ],
   "source": [
    "# 산술연산자 활용하기\n",
    "## 홀수 판정기\n",
    "a = 7\n",
    "b = 2347\n",
    "print(\"a의 나머지는 \", a % 2, \"입니다.\")\n",
    "print(\"b의 나머지는 \", b % 2, \"이네요.\")"
   ]
  },
  {
   "cell_type": "code",
   "execution_count": null,
   "id": "3d3a3f97",
   "metadata": {},
   "outputs": [],
   "source": []
  }
 ],
 "metadata": {
  "kernelspec": {
   "display_name": "Python 3 (ipykernel)",
   "language": "python",
   "name": "python3"
  },
  "language_info": {
   "codemirror_mode": {
    "name": "ipython",
    "version": 3
   },
   "file_extension": ".py",
   "mimetype": "text/x-python",
   "name": "python",
   "nbconvert_exporter": "python",
   "pygments_lexer": "ipython3",
   "version": "3.10.1"
  }
 },
 "nbformat": 4,
 "nbformat_minor": 5
}
